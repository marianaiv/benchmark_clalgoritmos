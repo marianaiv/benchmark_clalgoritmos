{
 "cells": [
  {
   "cell_type": "markdown",
   "metadata": {},
   "source": [
    "# Dimension reduction comparison\n",
    "In this notebook I'll compare three common unsupervised algorithms for dimensionality reduction"
   ]
  },
  {
   "cell_type": "code",
   "execution_count": 1,
   "metadata": {},
   "outputs": [],
   "source": [
    "# Importing main libraries\n",
    "import matplotlib\n",
    "import pandas as pd\n",
    "import numpy as np\n",
    "from tqdm.notebook import tqdm\n",
    "import matplotlib.pyplot as plt\n",
    "from benchtools.src.clustering import build_features\n",
    "from benchtools.src.datatools import separate_data\n",
    "from sklearn.preprocessing import StandardScaler\n",
    "\n",
    "# Importing the classifiers\n",
    "from sklearn.ensemble import RandomForestClassifier, GradientBoostingClassifier\n",
    "from sklearn.discriminant_analysis import QuadraticDiscriminantAnalysis\n",
    "from sklearn.neural_network import MLPClassifier\n",
    "from sklearn.cluster import KMeans\n",
    "\n",
    "# Pipeline\n",
    "from sklearn.model_selection import cross_validate\n",
    "from sklearn.model_selection import RepeatedStratifiedKFold\n",
    "from sklearn.pipeline import Pipeline\n",
    "\n",
    "# Dimensionality reduction\n",
    "from sklearn.decomposition import PCA, TruncatedSVD\n",
    "from sklearn.discriminant_analysis import LinearDiscriminantAnalysis"
   ]
  },
  {
   "cell_type": "markdown",
   "metadata": {},
   "source": [
    "## Getting the data"
   ]
  },
  {
   "cell_type": "markdown",
   "metadata": {},
   "source": [
    "I'll pre-process the data using the <code>benchtools</code> package. The next cell just need to be ran one time"
   ]
  },
  {
   "cell_type": "code",
   "execution_count": 2,
   "metadata": {},
   "outputs": [
    {
     "name": "stdout",
     "output_type": "stream",
     "text": [
      "A file with that name already exists\n"
     ]
    }
   ],
   "source": [
    "build_features(path_data='..\\..\\events_anomalydetection.h5', nbatch=10, outname='RD_dataset')"
   ]
  },
  {
   "cell_type": "code",
   "execution_count": 3,
   "metadata": {
    "scrolled": true
   },
   "outputs": [
    {
     "data": {
      "text/html": [
       "<div>\n",
       "<style scoped>\n",
       "    .dataframe tbody tr th:only-of-type {\n",
       "        vertical-align: middle;\n",
       "    }\n",
       "\n",
       "    .dataframe tbody tr th {\n",
       "        vertical-align: top;\n",
       "    }\n",
       "\n",
       "    .dataframe thead th {\n",
       "        text-align: right;\n",
       "    }\n",
       "</style>\n",
       "<table border=\"1\" class=\"dataframe\">\n",
       "  <thead>\n",
       "    <tr style=\"text-align: right;\">\n",
       "      <th></th>\n",
       "      <th>pT_j1</th>\n",
       "      <th>m_j1</th>\n",
       "      <th>eta_j1</th>\n",
       "      <th>phi_j1</th>\n",
       "      <th>E_j1</th>\n",
       "      <th>tau_21_j1</th>\n",
       "      <th>nhadrons_j1</th>\n",
       "      <th>pT_j2</th>\n",
       "      <th>m_j2</th>\n",
       "      <th>eta_j2</th>\n",
       "      <th>phi_j2</th>\n",
       "      <th>E_j2</th>\n",
       "      <th>tau_21_j2</th>\n",
       "      <th>nhadrons_j2</th>\n",
       "      <th>m_jj</th>\n",
       "      <th>deltaR_j12</th>\n",
       "      <th>n_hadrons</th>\n",
       "      <th>label</th>\n",
       "    </tr>\n",
       "  </thead>\n",
       "  <tbody>\n",
       "    <tr>\n",
       "      <th>0</th>\n",
       "      <td>1286.727685</td>\n",
       "      <td>106.912129</td>\n",
       "      <td>0.185508</td>\n",
       "      <td>-2.763676</td>\n",
       "      <td>1313.290435</td>\n",
       "      <td>0.624659</td>\n",
       "      <td>36</td>\n",
       "      <td>1283.220733</td>\n",
       "      <td>63.164215</td>\n",
       "      <td>0.064989</td>\n",
       "      <td>0.393688</td>\n",
       "      <td>1287.481934</td>\n",
       "      <td>0.713248</td>\n",
       "      <td>33</td>\n",
       "      <td>2580.489568</td>\n",
       "      <td>3.159663</td>\n",
       "      <td>109.0</td>\n",
       "      <td>0.0</td>\n",
       "    </tr>\n",
       "    <tr>\n",
       "      <th>1</th>\n",
       "      <td>1354.394070</td>\n",
       "      <td>614.269108</td>\n",
       "      <td>0.826505</td>\n",
       "      <td>1.365524</td>\n",
       "      <td>1943.559886</td>\n",
       "      <td>0.311688</td>\n",
       "      <td>84</td>\n",
       "      <td>1325.613761</td>\n",
       "      <td>439.064150</td>\n",
       "      <td>-0.874319</td>\n",
       "      <td>-1.786248</td>\n",
       "      <td>1916.370744</td>\n",
       "      <td>0.276881</td>\n",
       "      <td>97</td>\n",
       "      <td>3859.315047</td>\n",
       "      <td>3.581406</td>\n",
       "      <td>208.0</td>\n",
       "      <td>0.0</td>\n",
       "    </tr>\n",
       "    <tr>\n",
       "      <th>2</th>\n",
       "      <td>1214.955723</td>\n",
       "      <td>645.865619</td>\n",
       "      <td>-0.196786</td>\n",
       "      <td>2.040545</td>\n",
       "      <td>1396.840654</td>\n",
       "      <td>0.238205</td>\n",
       "      <td>119</td>\n",
       "      <td>1072.462085</td>\n",
       "      <td>113.768840</td>\n",
       "      <td>0.143831</td>\n",
       "      <td>-1.090330</td>\n",
       "      <td>1089.530630</td>\n",
       "      <td>0.726963</td>\n",
       "      <td>59</td>\n",
       "      <td>2480.769725</td>\n",
       "      <td>3.149348</td>\n",
       "      <td>196.0</td>\n",
       "      <td>0.0</td>\n",
       "    </tr>\n",
       "    <tr>\n",
       "      <th>3</th>\n",
       "      <td>1285.227873</td>\n",
       "      <td>516.835248</td>\n",
       "      <td>0.328693</td>\n",
       "      <td>2.975321</td>\n",
       "      <td>1450.485926</td>\n",
       "      <td>0.013429</td>\n",
       "      <td>65</td>\n",
       "      <td>1220.251279</td>\n",
       "      <td>174.796077</td>\n",
       "      <td>0.294854</td>\n",
       "      <td>-0.322661</td>\n",
       "      <td>1285.618789</td>\n",
       "      <td>0.706361</td>\n",
       "      <td>89</td>\n",
       "      <td>2609.893413</td>\n",
       "      <td>3.298155</td>\n",
       "      <td>183.0</td>\n",
       "      <td>0.0</td>\n",
       "    </tr>\n",
       "    <tr>\n",
       "      <th>4</th>\n",
       "      <td>1210.415787</td>\n",
       "      <td>129.499352</td>\n",
       "      <td>-0.744836</td>\n",
       "      <td>-2.883347</td>\n",
       "      <td>1567.345300</td>\n",
       "      <td>0.423550</td>\n",
       "      <td>54</td>\n",
       "      <td>1091.785816</td>\n",
       "      <td>155.362262</td>\n",
       "      <td>1.060534</td>\n",
       "      <td>0.264977</td>\n",
       "      <td>1772.340209</td>\n",
       "      <td>0.787662</td>\n",
       "      <td>57</td>\n",
       "      <td>3313.488835</td>\n",
       "      <td>3.629229</td>\n",
       "      <td>169.0</td>\n",
       "      <td>1.0</td>\n",
       "    </tr>\n",
       "  </tbody>\n",
       "</table>\n",
       "</div>"
      ],
      "text/plain": [
       "         pT_j1        m_j1    eta_j1    phi_j1         E_j1  tau_21_j1  \\\n",
       "0  1286.727685  106.912129  0.185508 -2.763676  1313.290435   0.624659   \n",
       "1  1354.394070  614.269108  0.826505  1.365524  1943.559886   0.311688   \n",
       "2  1214.955723  645.865619 -0.196786  2.040545  1396.840654   0.238205   \n",
       "3  1285.227873  516.835248  0.328693  2.975321  1450.485926   0.013429   \n",
       "4  1210.415787  129.499352 -0.744836 -2.883347  1567.345300   0.423550   \n",
       "\n",
       "   nhadrons_j1        pT_j2        m_j2    eta_j2    phi_j2         E_j2  \\\n",
       "0           36  1283.220733   63.164215  0.064989  0.393688  1287.481934   \n",
       "1           84  1325.613761  439.064150 -0.874319 -1.786248  1916.370744   \n",
       "2          119  1072.462085  113.768840  0.143831 -1.090330  1089.530630   \n",
       "3           65  1220.251279  174.796077  0.294854 -0.322661  1285.618789   \n",
       "4           54  1091.785816  155.362262  1.060534  0.264977  1772.340209   \n",
       "\n",
       "   tau_21_j2  nhadrons_j2         m_jj  deltaR_j12  n_hadrons  label  \n",
       "0   0.713248           33  2580.489568    3.159663      109.0    0.0  \n",
       "1   0.276881           97  3859.315047    3.581406      208.0    0.0  \n",
       "2   0.726963           59  2480.769725    3.149348      196.0    0.0  \n",
       "3   0.706361           89  2609.893413    3.298155      183.0    0.0  \n",
       "4   0.787662           57  3313.488835    3.629229      169.0    1.0  "
      ]
     },
     "execution_count": 3,
     "metadata": {},
     "output_type": "execute_result"
    }
   ],
   "source": [
    "# Importing the data \n",
    "df = pd.read_csv(\"..\\data\\RD_dataset.csv\")\n",
    "df.head()"
   ]
  },
  {
   "cell_type": "markdown",
   "metadata": {},
   "source": [
    "Since it's just to test on scalers I'll do it on a smaller sample"
   ]
  },
  {
   "cell_type": "code",
   "execution_count": 4,
   "metadata": {},
   "outputs": [
    {
     "data": {
      "text/html": [
       "<div>\n",
       "<style scoped>\n",
       "    .dataframe tbody tr th:only-of-type {\n",
       "        vertical-align: middle;\n",
       "    }\n",
       "\n",
       "    .dataframe tbody tr th {\n",
       "        vertical-align: top;\n",
       "    }\n",
       "\n",
       "    .dataframe thead th {\n",
       "        text-align: right;\n",
       "    }\n",
       "</style>\n",
       "<table border=\"1\" class=\"dataframe\">\n",
       "  <thead>\n",
       "    <tr style=\"text-align: right;\">\n",
       "      <th></th>\n",
       "      <th>pT_j1</th>\n",
       "      <th>eta_j1</th>\n",
       "      <th>phi_j1</th>\n",
       "      <th>E_j1</th>\n",
       "      <th>tau_21_j1</th>\n",
       "      <th>nhadrons_j1</th>\n",
       "      <th>pT_j2</th>\n",
       "      <th>eta_j2</th>\n",
       "      <th>phi_j2</th>\n",
       "      <th>E_j2</th>\n",
       "      <th>tau_21_j2</th>\n",
       "      <th>nhadrons_j2</th>\n",
       "      <th>deltaR_j12</th>\n",
       "      <th>n_hadrons</th>\n",
       "      <th>label</th>\n",
       "    </tr>\n",
       "  </thead>\n",
       "  <tbody>\n",
       "    <tr>\n",
       "      <th>264511</th>\n",
       "      <td>1636.540865</td>\n",
       "      <td>0.224496</td>\n",
       "      <td>-2.373993</td>\n",
       "      <td>1729.163350</td>\n",
       "      <td>0.371356</td>\n",
       "      <td>118</td>\n",
       "      <td>1547.619954</td>\n",
       "      <td>1.162014</td>\n",
       "      <td>0.710714</td>\n",
       "      <td>2722.719214</td>\n",
       "      <td>0.377317</td>\n",
       "      <td>59</td>\n",
       "      <td>3.224028</td>\n",
       "      <td>228.0</td>\n",
       "      <td>0.0</td>\n",
       "    </tr>\n",
       "    <tr>\n",
       "      <th>446040</th>\n",
       "      <td>1700.570450</td>\n",
       "      <td>-1.046567</td>\n",
       "      <td>-0.074009</td>\n",
       "      <td>2722.693611</td>\n",
       "      <td>0.173263</td>\n",
       "      <td>20</td>\n",
       "      <td>1471.042986</td>\n",
       "      <td>-0.496909</td>\n",
       "      <td>-3.102066</td>\n",
       "      <td>1660.217227</td>\n",
       "      <td>0.931903</td>\n",
       "      <td>39</td>\n",
       "      <td>3.077540</td>\n",
       "      <td>89.0</td>\n",
       "      <td>1.0</td>\n",
       "    </tr>\n",
       "    <tr>\n",
       "      <th>367350</th>\n",
       "      <td>1209.240264</td>\n",
       "      <td>1.501579</td>\n",
       "      <td>3.008941</td>\n",
       "      <td>2849.555797</td>\n",
       "      <td>0.693441</td>\n",
       "      <td>20</td>\n",
       "      <td>1192.250774</td>\n",
       "      <td>1.114281</td>\n",
       "      <td>-0.051151</td>\n",
       "      <td>2015.636945</td>\n",
       "      <td>0.527644</td>\n",
       "      <td>33</td>\n",
       "      <td>3.084503</td>\n",
       "      <td>86.0</td>\n",
       "      <td>0.0</td>\n",
       "    </tr>\n",
       "    <tr>\n",
       "      <th>510497</th>\n",
       "      <td>1331.228201</td>\n",
       "      <td>0.991312</td>\n",
       "      <td>2.934796</td>\n",
       "      <td>2041.150095</td>\n",
       "      <td>0.746076</td>\n",
       "      <td>13</td>\n",
       "      <td>1206.745736</td>\n",
       "      <td>0.501046</td>\n",
       "      <td>-0.197147</td>\n",
       "      <td>1366.214578</td>\n",
       "      <td>0.967665</td>\n",
       "      <td>54</td>\n",
       "      <td>3.170083</td>\n",
       "      <td>122.0</td>\n",
       "      <td>0.0</td>\n",
       "    </tr>\n",
       "    <tr>\n",
       "      <th>301480</th>\n",
       "      <td>1229.918669</td>\n",
       "      <td>-0.947064</td>\n",
       "      <td>2.870159</td>\n",
       "      <td>1828.159257</td>\n",
       "      <td>0.918211</td>\n",
       "      <td>39</td>\n",
       "      <td>1226.020830</td>\n",
       "      <td>0.063516</td>\n",
       "      <td>-0.261698</td>\n",
       "      <td>1238.924198</td>\n",
       "      <td>0.873326</td>\n",
       "      <td>42</td>\n",
       "      <td>3.290866</td>\n",
       "      <td>109.0</td>\n",
       "      <td>0.0</td>\n",
       "    </tr>\n",
       "  </tbody>\n",
       "</table>\n",
       "</div>"
      ],
      "text/plain": [
       "              pT_j1    eta_j1    phi_j1         E_j1  tau_21_j1  nhadrons_j1  \\\n",
       "264511  1636.540865  0.224496 -2.373993  1729.163350   0.371356          118   \n",
       "446040  1700.570450 -1.046567 -0.074009  2722.693611   0.173263           20   \n",
       "367350  1209.240264  1.501579  3.008941  2849.555797   0.693441           20   \n",
       "510497  1331.228201  0.991312  2.934796  2041.150095   0.746076           13   \n",
       "301480  1229.918669 -0.947064  2.870159  1828.159257   0.918211           39   \n",
       "\n",
       "              pT_j2    eta_j2    phi_j2         E_j2  tau_21_j2  nhadrons_j2  \\\n",
       "264511  1547.619954  1.162014  0.710714  2722.719214   0.377317           59   \n",
       "446040  1471.042986 -0.496909 -3.102066  1660.217227   0.931903           39   \n",
       "367350  1192.250774  1.114281 -0.051151  2015.636945   0.527644           33   \n",
       "510497  1206.745736  0.501046 -0.197147  1366.214578   0.967665           54   \n",
       "301480  1226.020830  0.063516 -0.261698  1238.924198   0.873326           42   \n",
       "\n",
       "        deltaR_j12  n_hadrons  label  \n",
       "264511    3.224028      228.0    0.0  \n",
       "446040    3.077540       89.0    1.0  \n",
       "367350    3.084503       86.0    0.0  \n",
       "510497    3.170083      122.0    0.0  \n",
       "301480    3.290866      109.0    0.0  "
      ]
     },
     "execution_count": 4,
     "metadata": {},
     "output_type": "execute_result"
    }
   ],
   "source": [
    "# Eliminate the columns of mass so that the training is model-free \n",
    "df_RD = df.sample(100000, random_state = 1).drop(['m_j1', 'm_j2', 'm_jj'], axis=1)\n",
    "df_RD.head()"
   ]
  },
  {
   "cell_type": "code",
   "execution_count": 5,
   "metadata": {},
   "outputs": [],
   "source": [
    "X, y = separate_data(df_RD, standarize=False)"
   ]
  },
  {
   "cell_type": "markdown",
   "metadata": {},
   "source": [
    "I'll define a function that is a pipeline to train and get the metrics"
   ]
  },
  {
   "cell_type": "code",
   "execution_count": 6,
   "metadata": {},
   "outputs": [],
   "source": [
    "def supervised_pipeline(X, y, classifiers, dimension_reduction=None):\n",
    "    # To save the scores\n",
    "    log_dict = {}\n",
    "    \n",
    "    for clf in tqdm(classifiers):\n",
    "        name = clf.__class__.__name__\n",
    "\n",
    "        # Simple pipeline\n",
    "        if dimension_reduction is None:\n",
    "            steps = [('ss', StandardScaler()), ('clf', clf)]\n",
    "        else:\n",
    "            steps = [('ss', StandardScaler()), ('dr', dimension_reduction), ('clf', clf)]\n",
    "        \n",
    "        model = Pipeline(steps=steps)\n",
    "\n",
    "        # Evaluate model\n",
    "        cv = RepeatedStratifiedKFold(n_splits=10, n_repeats=3, random_state=1)\n",
    "        n_scores = cross_validate(model, X, y, scoring=['balanced_accuracy', 'f1', 'average_precision', 'roc_auc'], cv=cv, n_jobs=-1)\n",
    "\n",
    "        # Adding metrics to a dict\n",
    "        log_dict[name]=n_scores\n",
    "\n",
    "    log = pd.DataFrame.from_dict(log_dict)\n",
    "    mean_scores = log.applymap(np.mean)\n",
    "    std_scores = log.applymap(np.std)\n",
    "\n",
    "    return mean_scores.T, std_scores.T"
   ]
  },
  {
   "cell_type": "markdown",
   "metadata": {},
   "source": [
    "Lastly, this is the list of supervised algorithms that will be trained. I already selected fewer based on the results obtained in notebook 13."
   ]
  },
  {
   "cell_type": "code",
   "execution_count": 7,
   "metadata": {
    "scrolled": false
   },
   "outputs": [],
   "source": [
    "# Listing the classifiers to compare\n",
    "classifiers = [RandomForestClassifier(),\n",
    "                GradientBoostingClassifier(),\n",
    "                QuadraticDiscriminantAnalysis(), \n",
    "                MLPClassifier()]"
   ]
  },
  {
   "cell_type": "markdown",
   "metadata": {},
   "source": [
    "## Training\n",
    "### Without reducing dimensions"
   ]
  },
  {
   "cell_type": "code",
   "execution_count": 8,
   "metadata": {},
   "outputs": [
    {
     "data": {
      "application/vnd.jupyter.widget-view+json": {
       "model_id": "6318bb73be1746c4b2777339c96f9a4d",
       "version_major": 2,
       "version_minor": 0
      },
      "text/plain": [
       "  0%|          | 0/4 [00:00<?, ?it/s]"
      ]
     },
     "metadata": {},
     "output_type": "display_data"
    }
   ],
   "source": [
    "mean_none, std_none = supervised_pipeline(X, y, classifiers, dimension_reduction=None)"
   ]
  },
  {
   "cell_type": "markdown",
   "metadata": {},
   "source": [
    "###  PCA"
   ]
  },
  {
   "cell_type": "code",
   "execution_count": 9,
   "metadata": {},
   "outputs": [],
   "source": [
    "def variance_components(dimension_reduction, X, y=None):\n",
    "    # Scale the data\n",
    "    scaler = StandardScaler()\n",
    "    X_scaled = scaler.fit_transform(X)\n",
    "    # Visualize\n",
    "    try:\n",
    "        dimension_reduction.fit_transform(X_scaled)\n",
    "    except:\n",
    "        dimension_reduction.fit_transform(X_scaled, y)\n",
    "    \n",
    "    # Ratio of the variance for number of components\n",
    "    dr_variance = dimension_reduction.explained_variance_ratio_\n",
    "    \n",
    "    # Getting the number of components for 95% variance\n",
    "    total_var = 0\n",
    "    n_components = 0\n",
    "    for component_var in dr_variance:\n",
    "        if total_var >= 0.95: \n",
    "            # Get the number of components\n",
    "            n_components-=1\n",
    "            break\n",
    "        # sum the variance of the components\n",
    "        total_var+=component_var\n",
    "        n_components+=1\n",
    "        \n",
    "    # Plot\n",
    "    n_bar = dr_variance.shape\n",
    "    plt.figure(figsize=(8, 6))\n",
    "    plt.bar(range(n_bar[0]), dr_variance, alpha=0.5, align='center', \n",
    "            label='No. components for 95% variance: {}'.format(n_components))\n",
    "    plt.legend()\n",
    "    plt.ylabel('Variance ratio')\n",
    "    plt.xlabel('Principal components')\n",
    "    plt.title('Variance ratio for component')\n",
    "    plt.show()"
   ]
  },
  {
   "cell_type": "code",
   "execution_count": 10,
   "metadata": {},
   "outputs": [
    {
     "data": {
      "image/png": "[encoded data removed]",
      "text/plain": [
       "<Figure size 576x432 with 1 Axes>"
      ]
     },
     "metadata": {
      "needs_background": "light"
     },
     "output_type": "display_data"
    }
   ],
   "source": [
    "variance_components(PCA(), X)"
   ]
  },
  {
   "cell_type": "code",
   "execution_count": 11,
   "metadata": {},
   "outputs": [
    {
     "data": {
      "application/vnd.jupyter.widget-view+json": {
       "model_id": "c8663b0d51b348349c5315d23157dba5",
       "version_major": 2,
       "version_minor": 0
      },
      "text/plain": [
       "  0%|          | 0/4 [00:00<?, ?it/s]"
      ]
     },
     "metadata": {},
     "output_type": "display_data"
    }
   ],
   "source": [
    "mean_pca, std_pca = supervised_pipeline(X, y, classifiers, dimension_reduction=PCA(n_components=10))"
   ]
  },
  {
   "cell_type": "markdown",
   "metadata": {},
   "source": [
    "### SVD"
   ]
  },
  {
   "cell_type": "code",
   "execution_count": 12,
   "metadata": {},
   "outputs": [
    {
     "data": {
      "image/png": "[encoded data removed]",
      "text/plain": [
       "<Figure size 576x432 with 1 Axes>"
      ]
     },
     "metadata": {
      "needs_background": "light"
     },
     "output_type": "display_data"
    }
   ],
   "source": [
    "variance_components(TruncatedSVD(), X)"
   ]
  },
  {
   "cell_type": "code",
   "execution_count": 13,
   "metadata": {},
   "outputs": [
    {
     "data": {
      "application/vnd.jupyter.widget-view+json": {
       "model_id": "eb0f7360537246d1a2ac2843fcfeb423",
       "version_major": 2,
       "version_minor": 0
      },
      "text/plain": [
       "  0%|          | 0/4 [00:00<?, ?it/s]"
      ]
     },
     "metadata": {},
     "output_type": "display_data"
    }
   ],
   "source": [
    "mean_svd, std_svd = supervised_pipeline(X, y, classifiers, dimension_reduction=TruncatedSVD(n_components=10))"
   ]
  },
  {
   "cell_type": "markdown",
   "metadata": {},
   "source": [
    "### LDA"
   ]
  },
  {
   "cell_type": "code",
   "execution_count": 14,
   "metadata": {},
   "outputs": [
    {
     "data": {
      "application/vnd.jupyter.widget-view+json": {
       "model_id": "ad02eb1cdd21495589c7e4f9d2f1691e",
       "version_major": 2,
       "version_minor": 0
      },
      "text/plain": [
       "  0%|          | 0/4 [00:00<?, ?it/s]"
      ]
     },
     "metadata": {},
     "output_type": "display_data"
    }
   ],
   "source": [
    "mean_lda, std_lda = supervised_pipeline(X, y, classifiers, dimension_reduction=LinearDiscriminantAnalysis(n_components=1))"
   ]
  },
  {
   "cell_type": "markdown",
   "metadata": {},
   "source": [
    "## Comparison\n",
    "I want to plot each variable comparing the result for each classifier."
   ]
  },
  {
   "cell_type": "code",
   "execution_count": 15,
   "metadata": {},
   "outputs": [
    {
     "data": {
      "text/html": [
       "<div>\n",
       "<style scoped>\n",
       "    .dataframe tbody tr th:only-of-type {\n",
       "        vertical-align: middle;\n",
       "    }\n",
       "\n",
       "    .dataframe tbody tr th {\n",
       "        vertical-align: top;\n",
       "    }\n",
       "\n",
       "    .dataframe thead tr th {\n",
       "        text-align: left;\n",
       "    }\n",
       "</style>\n",
       "<table border=\"1\" class=\"dataframe\">\n",
       "  <thead>\n",
       "    <tr>\n",
       "      <th></th>\n",
       "      <th colspan=\"6\" halign=\"left\">None</th>\n",
       "      <th colspan=\"4\" halign=\"left\">PCA</th>\n",
       "      <th>...</th>\n",
       "      <th colspan=\"4\" halign=\"left\">SVD</th>\n",
       "      <th colspan=\"6\" halign=\"left\">LDA</th>\n",
       "    </tr>\n",
       "    <tr>\n",
       "      <th></th>\n",
       "      <th>fit_time</th>\n",
       "      <th>score_time</th>\n",
       "      <th>test_balanced_accuracy</th>\n",
       "      <th>test_f1</th>\n",
       "      <th>test_average_precision</th>\n",
       "      <th>test_roc_auc</th>\n",
       "      <th>fit_time</th>\n",
       "      <th>score_time</th>\n",
       "      <th>test_balanced_accuracy</th>\n",
       "      <th>test_f1</th>\n",
       "      <th>...</th>\n",
       "      <th>test_balanced_accuracy</th>\n",
       "      <th>test_f1</th>\n",
       "      <th>test_average_precision</th>\n",
       "      <th>test_roc_auc</th>\n",
       "      <th>fit_time</th>\n",
       "      <th>score_time</th>\n",
       "      <th>test_balanced_accuracy</th>\n",
       "      <th>test_f1</th>\n",
       "      <th>test_average_precision</th>\n",
       "      <th>test_roc_auc</th>\n",
       "    </tr>\n",
       "  </thead>\n",
       "  <tbody>\n",
       "    <tr>\n",
       "      <th>RandomForestClassifier</th>\n",
       "      <td>39.692023</td>\n",
       "      <td>0.603919</td>\n",
       "      <td>0.788205</td>\n",
       "      <td>0.695829</td>\n",
       "      <td>0.793335</td>\n",
       "      <td>0.954196</td>\n",
       "      <td>42.130121</td>\n",
       "      <td>0.520907</td>\n",
       "      <td>0.794238</td>\n",
       "      <td>0.695757</td>\n",
       "      <td>...</td>\n",
       "      <td>0.794128</td>\n",
       "      <td>0.695749</td>\n",
       "      <td>0.781569</td>\n",
       "      <td>0.952518</td>\n",
       "      <td>21.634389</td>\n",
       "      <td>0.606246</td>\n",
       "      <td>0.687344</td>\n",
       "      <td>0.432294</td>\n",
       "      <td>0.423005</td>\n",
       "      <td>0.831677</td>\n",
       "    </tr>\n",
       "    <tr>\n",
       "      <th>GradientBoostingClassifier</th>\n",
       "      <td>52.215841</td>\n",
       "      <td>0.072538</td>\n",
       "      <td>0.788444</td>\n",
       "      <td>0.682534</td>\n",
       "      <td>0.774455</td>\n",
       "      <td>0.954248</td>\n",
       "      <td>48.901095</td>\n",
       "      <td>0.090326</td>\n",
       "      <td>0.793575</td>\n",
       "      <td>0.680928</td>\n",
       "      <td>...</td>\n",
       "      <td>0.793575</td>\n",
       "      <td>0.680928</td>\n",
       "      <td>0.756764</td>\n",
       "      <td>0.951014</td>\n",
       "      <td>8.324123</td>\n",
       "      <td>0.069082</td>\n",
       "      <td>0.723000</td>\n",
       "      <td>0.549887</td>\n",
       "      <td>0.571685</td>\n",
       "      <td>0.920579</td>\n",
       "    </tr>\n",
       "    <tr>\n",
       "      <th>QuadraticDiscriminantAnalysis</th>\n",
       "      <td>0.448601</td>\n",
       "      <td>0.067087</td>\n",
       "      <td>0.811882</td>\n",
       "      <td>0.672800</td>\n",
       "      <td>0.725717</td>\n",
       "      <td>0.935691</td>\n",
       "      <td>1.331209</td>\n",
       "      <td>0.067021</td>\n",
       "      <td>0.797155</td>\n",
       "      <td>0.660991</td>\n",
       "      <td>...</td>\n",
       "      <td>0.797155</td>\n",
       "      <td>0.660991</td>\n",
       "      <td>0.713925</td>\n",
       "      <td>0.937976</td>\n",
       "      <td>0.626991</td>\n",
       "      <td>0.048337</td>\n",
       "      <td>0.728455</td>\n",
       "      <td>0.555393</td>\n",
       "      <td>0.556093</td>\n",
       "      <td>0.920576</td>\n",
       "    </tr>\n",
       "    <tr>\n",
       "      <th>MLPClassifier</th>\n",
       "      <td>85.788658</td>\n",
       "      <td>0.066689</td>\n",
       "      <td>0.838284</td>\n",
       "      <td>0.747683</td>\n",
       "      <td>0.823414</td>\n",
       "      <td>0.966818</td>\n",
       "      <td>56.136226</td>\n",
       "      <td>0.067885</td>\n",
       "      <td>0.829817</td>\n",
       "      <td>0.729933</td>\n",
       "      <td>...</td>\n",
       "      <td>0.827836</td>\n",
       "      <td>0.729280</td>\n",
       "      <td>0.809176</td>\n",
       "      <td>0.963654</td>\n",
       "      <td>11.049874</td>\n",
       "      <td>0.059707</td>\n",
       "      <td>0.721457</td>\n",
       "      <td>0.549357</td>\n",
       "      <td>0.589935</td>\n",
       "      <td>0.921274</td>\n",
       "    </tr>\n",
       "  </tbody>\n",
       "</table>\n",
       "<p>4 rows × 24 columns</p>\n",
       "</div>"
      ],
      "text/plain": [
       "                                    None                                    \\\n",
       "                                fit_time score_time test_balanced_accuracy   \n",
       "RandomForestClassifier         39.692023   0.603919               0.788205   \n",
       "GradientBoostingClassifier     52.215841   0.072538               0.788444   \n",
       "QuadraticDiscriminantAnalysis   0.448601   0.067087               0.811882   \n",
       "MLPClassifier                  85.788658   0.066689               0.838284   \n",
       "\n",
       "                                                                             \\\n",
       "                                test_f1 test_average_precision test_roc_auc   \n",
       "RandomForestClassifier         0.695829               0.793335     0.954196   \n",
       "GradientBoostingClassifier     0.682534               0.774455     0.954248   \n",
       "QuadraticDiscriminantAnalysis  0.672800               0.725717     0.935691   \n",
       "MLPClassifier                  0.747683               0.823414     0.966818   \n",
       "\n",
       "                                     PCA                                    \\\n",
       "                                fit_time score_time test_balanced_accuracy   \n",
       "RandomForestClassifier         42.130121   0.520907               0.794238   \n",
       "GradientBoostingClassifier     48.901095   0.090326               0.793575   \n",
       "QuadraticDiscriminantAnalysis   1.331209   0.067021               0.797155   \n",
       "MLPClassifier                  56.136226   0.067885               0.829817   \n",
       "\n",
       "                                         ...                    SVD            \\\n",
       "                                test_f1  ... test_balanced_accuracy   test_f1   \n",
       "RandomForestClassifier         0.695757  ...               0.794128  0.695749   \n",
       "GradientBoostingClassifier     0.680928  ...               0.793575  0.680928   \n",
       "QuadraticDiscriminantAnalysis  0.660991  ...               0.797155  0.660991   \n",
       "MLPClassifier                  0.729933  ...               0.827836  0.729280   \n",
       "\n",
       "                                                                         LDA  \\\n",
       "                              test_average_precision test_roc_auc   fit_time   \n",
       "RandomForestClassifier                      0.781569     0.952518  21.634389   \n",
       "GradientBoostingClassifier                  0.756764     0.951014   8.324123   \n",
       "QuadraticDiscriminantAnalysis               0.713925     0.937976   0.626991   \n",
       "MLPClassifier                               0.809176     0.963654  11.049874   \n",
       "\n",
       "                                                                           \\\n",
       "                              score_time test_balanced_accuracy   test_f1   \n",
       "RandomForestClassifier          0.606246               0.687344  0.432294   \n",
       "GradientBoostingClassifier      0.069082               0.723000  0.549887   \n",
       "QuadraticDiscriminantAnalysis   0.048337               0.728455  0.555393   \n",
       "MLPClassifier                   0.059707               0.721457  0.549357   \n",
       "\n",
       "                                                                   \n",
       "                              test_average_precision test_roc_auc  \n",
       "RandomForestClassifier                      0.423005     0.831677  \n",
       "GradientBoostingClassifier                  0.571685     0.920579  \n",
       "QuadraticDiscriminantAnalysis               0.556093     0.920576  \n",
       "MLPClassifier                               0.589935     0.921274  \n",
       "\n",
       "[4 rows x 24 columns]"
      ]
     },
     "execution_count": 15,
     "metadata": {},
     "output_type": "execute_result"
    }
   ],
   "source": [
    "# Concat with multiindex\n",
    "df = pd.concat([mean_none, mean_pca, mean_svd, mean_lda], axis=1, keys=['None','PCA', 'SVD', 'LDA'])\n",
    "df"
   ]
  },
  {
   "cell_type": "code",
   "execution_count": 16,
   "metadata": {},
   "outputs": [
    {
     "data": {
      "image/png": "[encoded data removed]",
      "text/plain": [
       "<Figure size 648x504 with 1 Axes>"
      ]
     },
     "metadata": {
      "needs_background": "light"
     },
     "output_type": "display_data"
    },
    {
     "data": {
      "image/png": "[encoded data removed]",
      "text/plain": [
       "<Figure size 648x504 with 1 Axes>"
      ]
     },
     "metadata": {
      "needs_background": "light"
     },
     "output_type": "display_data"
    },
    {
     "data": {
      "image/png": "[encoded data removed]",
      "text/plain": [
       "<Figure size 648x504 with 1 Axes>"
      ]
     },
     "metadata": {
      "needs_background": "light"
     },
     "output_type": "display_data"
    },
    {
     "data": {
      "image/png": "[encoded data removed]",
      "text/plain": [
       "<Figure size 648x504 with 1 Axes>"
      ]
     },
     "metadata": {
      "needs_background": "light"
     },
     "output_type": "display_data"
    }
   ],
   "source": [
    "columns = mean_none.drop(['fit_time','score_time'],axis=1).columns.tolist()\n",
    "\n",
    "for variable in columns:\n",
    "    matplotlib.rcParams.update({'font.size': 14})\n",
    "    df.iloc[:, df.columns.get_level_values(1)==variable].plot.barh(figsize=(9,7), title=variable)\n",
    "    plt.legend(['None','PCA', 'SVD', 'LDA'], loc=\"lower right\")\n",
    "    plt.show()"
   ]
  },
  {
   "cell_type": "code",
   "execution_count": 17,
   "metadata": {},
   "outputs": [
    {
     "data": {
      "image/png": "[encoded data removed]",
      "text/plain": [
       "<Figure size 432x216 with 1 Axes>"
      ]
     },
     "metadata": {
      "needs_background": "light"
     },
     "output_type": "display_data"
    },
    {
     "data": {
      "image/png": "[encoded data removed]",
      "text/plain": [
       "<Figure size 432x216 with 1 Axes>"
      ]
     },
     "metadata": {
      "needs_background": "light"
     },
     "output_type": "display_data"
    },
    {
     "data": {
      "image/png": "[encoded data removed]",
      "text/plain": [
       "<Figure size 432x216 with 1 Axes>"
      ]
     },
     "metadata": {
      "needs_background": "light"
     },
     "output_type": "display_data"
    },
    {
     "data": {
      "image/png": "[encoded data removed]",
      "text/plain": [
       "<Figure size 432x216 with 1 Axes>"
      ]
     },
     "metadata": {
      "needs_background": "light"
     },
     "output_type": "display_data"
    }
   ],
   "source": [
    "color_list = ['tab:blue', 'tab:orange', 'tab:green', 'tab:red', 'tab:purple', 'tab:pink', 'tab:olive', 'tab:cyan']\n",
    "for variable, color in zip(columns, color_list):  \n",
    "    df.mean().loc[:,variable].plot.barh(figsize=(6,3), color=color, title=variable, stacked=True, width=0.4)\n",
    "    plt.show()"
   ]
  },
  {
   "cell_type": "markdown",
   "metadata": {},
   "source": [
    "In general, reducing dimensions with these methods it's not useful."
   ]
  }
 ],
 "metadata": {
  "kernelspec": {
   "display_name": "Python 3",
   "language": "python",
   "name": "python3"
  },
  "language_info": {
   "codemirror_mode": {
    "name": "ipython",
    "version": 3
   },
   "file_extension": ".py",
   "mimetype": "text/x-python",
   "name": "python",
   "nbconvert_exporter": "python",
   "pygments_lexer": "ipython3",
   "version": "3.8.11"
  }
 },
 "nbformat": 4,
 "nbformat_minor": 2
}
