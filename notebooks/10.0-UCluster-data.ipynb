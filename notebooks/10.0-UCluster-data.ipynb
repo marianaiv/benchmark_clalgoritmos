{
 "cells": [
  {
   "cell_type": "markdown",
   "id": "452a4966",
   "metadata": {},
   "source": [
    "# UCluster\n",
    "Visualizing the pre-processed data for training, testing and evaluation\n",
    "## Pre-processed data\n",
    "### Training data\n",
    "According to the [repository](https://github.com/ViniciusMikuni/UCluster):\n",
    "> The data is expected to be stored in .h5 files containing the following:  \n",
    ">- data: [N,P,F],  \n",
    ">- label:[N,P]  \n",
    ">- pid: [N]  \n",
    ">- global: [N,G]  \n",
    ">\n",
    ">Where,  \n",
    ">- N = Number of events  \n",
    ">- F = Number of features per point  \n",
    ">- P = Number of points  \n",
    ">- G = Number of global features  \n",
    ">\n",
    ">For Unsupervised multiclass classification, only the pid is required, while for anomaly detection, label and global are required.\n",
    "\n",
    "Since we are using the anomaly detection one, let's check for these features and what they mean"
   ]
  },
  {
   "cell_type": "code",
   "execution_count": 1,
   "id": "6f59e3f8",
   "metadata": {},
   "outputs": [],
   "source": [
    "# Importing some basic libraries\n",
    "import pandas as pd\n",
    "import h5py\n",
    "import numpy as np\n",
    "import matplotlib.pyplot as plt\n",
    "import nexusformat.nexus as nx"
   ]
  },
  {
   "cell_type": "markdown",
   "id": "cb14218b",
   "metadata": {},
   "source": [
    "First, we want to see what is inside the file"
   ]
  },
  {
   "cell_type": "code",
   "execution_count": 2,
   "id": "416a4425",
   "metadata": {},
   "outputs": [
    {
     "name": "stdout",
     "output_type": "stream",
     "text": [
      "root:NXroot\n",
      "  data = float64(367212x100x7)\n",
      "  global = float64(367212x4)\n",
      "  label = int8(367212x100)\n",
      "  masses = float64(367212)\n",
      "  pid = int8(367212)\n"
     ]
    }
   ],
   "source": [
    "f = nx.nxload('..\\data\\\\train_20v_RD_100P_2NJET.h5')\n",
    "print(f.tree)"
   ]
  },
  {
   "cell_type": "markdown",
   "id": "a4b6729a",
   "metadata": {},
   "source": [
    "There are 5 sets of data. After [checking the code](https://github.com/ViniciusMikuni/UCluster/blob/master/scripts/prepare_data_unsup.py), we found that for the training file there where 400,000 events, from which 367,212 events had two jets or more.   \n",
    "In general, each h5 pre-processed file has:\n",
    "- **Data**  \n",
    "    For each event there is a dataframe of 100 x 7. The rows consist of constituyents particles for both of the most energetic jets, with zero padding until 100. The columns are: \n",
    "    1. $\\eta_{const}-\\eta_{jet}$\n",
    "    2. $\\phi_{const}-\\phi{jet}$\n",
    "    3. $\\log\\left( \\frac{p_{T_{const}}}{p_{T_{jet}}}\\right)$\n",
    "    4. $\\log\\left( \\frac{E_{const}}{E_{jet}}\\right)$\n",
    "    5. $\\log(p_{T_{const}})$\n",
    "    6. $\\log (E_{const})$\n",
    "    7. $\\Delta R= \\sqrt{\\left(\\eta_{const}-\\eta_{jet}\\right)^2+\\left(\\phi_{const}-\\phi_{jet}\\right)^2}$\n",
    "    \n",
    "- **Global**  \n",
    "    For each event and for the two principal jets it has: $\\log(m_{jet})$ and $\\tau_{21}$\n",
    "    \n",
    "- **Label**  \n",
    "    Information about in which part of a range from 10 to 1000 divided in 20 with a upper bound of 100,000 is the mass of each of the principal jets. This information is added for each event, and for each constituent of the jets, with zero padding until 100.\n",
    "    \n",
    "- **Masses**  \n",
    "    Norm squared of the four-momentum vector of the principal jet of each event.\n",
    "    \n",
    "- **PID**  \n",
    "    The true label for each event (0 for background, 1 for signal)\n",
    "\n",
    "Let's vizualise each variabel\n",
    "#### Data"
   ]
  },
  {
   "cell_type": "code",
   "execution_count": 3,
   "id": "7e423aaa",
   "metadata": {},
   "outputs": [
    {
     "data": {
      "text/plain": [
       "(367212, 100, 7)"
      ]
     },
     "execution_count": 3,
     "metadata": {},
     "output_type": "execute_result"
    }
   ],
   "source": [
    "with h5py.File('..\\data\\\\train_20v_RD_100P_2NJET.h5', 'r') as hdf:\n",
    "    hdfdata = hdf.get('data')\n",
    "    data = np.array(hdfdata)\n",
    "data.shape"
   ]
  },
  {
   "cell_type": "markdown",
   "id": "aa7d28b3",
   "metadata": {},
   "source": [
    "We can get the dataframe for the first event and see the distributions of the variables:"
   ]
  },
  {
   "cell_type": "code",
   "execution_count": 4,
   "id": "05b76e46",
   "metadata": {},
   "outputs": [
    {
     "data": {
      "text/plain": [
       "(100, 7)"
      ]
     },
     "execution_count": 4,
     "metadata": {},
     "output_type": "execute_result"
    }
   ],
   "source": [
    "columns = ['eta', 'phi', 'ratio_pT', 'ratio_E', 'pT', 'E', 'delta_R']\n",
    "df = pd.DataFrame(data[0], columns = columns)\n",
    "df.shape"
   ]
  },
  {
   "cell_type": "code",
   "execution_count": 5,
   "id": "8c918fb5",
   "metadata": {},
   "outputs": [
    {
     "data": {
      "text/plain": [
       "eta        -0.020297\n",
       "phi         0.103812\n",
       "ratio_pT   -3.650434\n",
       "ratio_E    -3.643657\n",
       "pT          1.288967\n",
       "E           1.304195\n",
       "delta_R     0.181066\n",
       "dtype: float64"
      ]
     },
     "execution_count": 5,
     "metadata": {},
     "output_type": "execute_result"
    }
   ],
   "source": [
    "df.mean(axis=0)"
   ]
  },
  {
   "cell_type": "code",
   "execution_count": 6,
   "id": "754176c4",
   "metadata": {},
   "outputs": [
    {
     "data": {
      "image/png": "[encoded data removed]",
      "text/plain": [
       "<Figure size 432x288 with 9 Axes>"
      ]
     },
     "metadata": {
      "needs_background": "light"
     },
     "output_type": "display_data"
    },
    {
     "data": {
      "image/png": "[encoded data removed]",
      "text/plain": [
       "<Figure size 432x288 with 9 Axes>"
      ]
     },
     "metadata": {
      "needs_background": "light"
     },
     "output_type": "display_data"
    },
    {
     "data": {
      "image/png": "[encoded data removed]",
      "text/plain": [
       "<Figure size 432x288 with 9 Axes>"
      ]
     },
     "metadata": {
      "needs_background": "light"
     },
     "output_type": "display_data"
    }
   ],
   "source": [
    "for ii in range(3):\n",
    "    df_plot = pd.DataFrame(data[ii], columns = columns)\n",
    "    df_plot.hist(facecolor='b', alpha=0.2, density=True);"
   ]
  },
  {
   "cell_type": "markdown",
   "id": "b4254446",
   "metadata": {},
   "source": [
    "To see the distribution of the variables I'll calculate the mean of each variable for each event to have it in a dataframe with the label. Then I can plot the distributions separating signal from background"
   ]
  },
  {
   "cell_type": "code",
   "execution_count": 7,
   "id": "0ee28f5f",
   "metadata": {},
   "outputs": [
    {
     "data": {
      "text/html": [
       "<div>\n",
       "<style scoped>\n",
       "    .dataframe tbody tr th:only-of-type {\n",
       "        vertical-align: middle;\n",
       "    }\n",
       "\n",
       "    .dataframe tbody tr th {\n",
       "        vertical-align: top;\n",
       "    }\n",
       "\n",
       "    .dataframe thead th {\n",
       "        text-align: right;\n",
       "    }\n",
       "</style>\n",
       "<table border=\"1\" class=\"dataframe\">\n",
       "  <thead>\n",
       "    <tr style=\"text-align: right;\">\n",
       "      <th></th>\n",
       "      <th>eta</th>\n",
       "      <th>phi</th>\n",
       "      <th>ratio_pT</th>\n",
       "      <th>ratio_E</th>\n",
       "      <th>pT</th>\n",
       "      <th>E</th>\n",
       "      <th>delta_R</th>\n",
       "      <th>label</th>\n",
       "    </tr>\n",
       "  </thead>\n",
       "  <tbody>\n",
       "    <tr>\n",
       "      <th>0</th>\n",
       "      <td>-0.020297</td>\n",
       "      <td>0.103812</td>\n",
       "      <td>-3.650434</td>\n",
       "      <td>-3.643657</td>\n",
       "      <td>1.288967</td>\n",
       "      <td>1.304195</td>\n",
       "      <td>0.181066</td>\n",
       "      <td>0</td>\n",
       "    </tr>\n",
       "    <tr>\n",
       "      <th>1</th>\n",
       "      <td>-0.102285</td>\n",
       "      <td>0.048621</td>\n",
       "      <td>-5.436459</td>\n",
       "      <td>-5.587739</td>\n",
       "      <td>1.771213</td>\n",
       "      <td>1.982283</td>\n",
       "      <td>0.488595</td>\n",
       "      <td>0</td>\n",
       "    </tr>\n",
       "    <tr>\n",
       "      <th>2</th>\n",
       "      <td>0.057016</td>\n",
       "      <td>0.209191</td>\n",
       "      <td>-5.607668</td>\n",
       "      <td>-5.716557</td>\n",
       "      <td>1.494795</td>\n",
       "      <td>1.525411</td>\n",
       "      <td>0.504339</td>\n",
       "      <td>0</td>\n",
       "    </tr>\n",
       "    <tr>\n",
       "      <th>3</th>\n",
       "      <td>0.012093</td>\n",
       "      <td>-1.364511</td>\n",
       "      <td>-5.692059</td>\n",
       "      <td>-5.702109</td>\n",
       "      <td>1.448475</td>\n",
       "      <td>1.535315</td>\n",
       "      <td>1.602382</td>\n",
       "      <td>0</td>\n",
       "    </tr>\n",
       "    <tr>\n",
       "      <th>4</th>\n",
       "      <td>0.126981</td>\n",
       "      <td>1.849751</td>\n",
       "      <td>-6.124994</td>\n",
       "      <td>-6.222594</td>\n",
       "      <td>1.001034</td>\n",
       "      <td>1.730127</td>\n",
       "      <td>2.085833</td>\n",
       "      <td>0</td>\n",
       "    </tr>\n",
       "  </tbody>\n",
       "</table>\n",
       "</div>"
      ],
      "text/plain": [
       "        eta       phi  ratio_pT   ratio_E        pT         E   delta_R  label\n",
       "0 -0.020297  0.103812 -3.650434 -3.643657  1.288967  1.304195  0.181066      0\n",
       "1 -0.102285  0.048621 -5.436459 -5.587739  1.771213  1.982283  0.488595      0\n",
       "2  0.057016  0.209191 -5.607668 -5.716557  1.494795  1.525411  0.504339      0\n",
       "3  0.012093 -1.364511 -5.692059 -5.702109  1.448475  1.535315  1.602382      0\n",
       "4  0.126981  1.849751 -6.124994 -6.222594  1.001034  1.730127  2.085833      0"
      ]
     },
     "execution_count": 7,
     "metadata": {},
     "output_type": "execute_result"
    }
   ],
   "source": [
    "df = pd.DataFrame(data.mean(axis=(1)), columns = columns)\n",
    "pid = pd.Series(np.array(h5py.File('..\\data\\\\train_20v_RD_100P_2NJET.h5', 'r')['pid']))\n",
    "df = df.assign(label=pid.values)\n",
    "df.head()"
   ]
  },
  {
   "cell_type": "code",
   "execution_count": 8,
   "id": "079fd5eb",
   "metadata": {
    "scrolled": false
   },
   "outputs": [
    {
     "data": {
      "image/png": "[encoded data removed]",
      "text/plain": [
       "<Figure size 432x288 with 1 Axes>"
      ]
     },
     "metadata": {
      "needs_background": "light"
     },
     "output_type": "display_data"
    },
    {
     "data": {
      "image/png": "[encoded data removed]",
      "text/plain": [
       "<Figure size 432x288 with 1 Axes>"
      ]
     },
     "metadata": {
      "needs_background": "light"
     },
     "output_type": "display_data"
    },
    {
     "data": {
      "image/png": "[encoded data removed]",
      "text/plain": [
       "<Figure size 432x288 with 1 Axes>"
      ]
     },
     "metadata": {
      "needs_background": "light"
     },
     "output_type": "display_data"
    },
    {
     "data": {
      "image/png": "[encoded data removed]",
      "text/plain": [
       "<Figure size 432x288 with 1 Axes>"
      ]
     },
     "metadata": {
      "needs_background": "light"
     },
     "output_type": "display_data"
    },
    {
     "data": {
      "image/png": "[encoded data removed]",
      "text/plain": [
       "<Figure size 432x288 with 1 Axes>"
      ]
     },
     "metadata": {
      "needs_background": "light"
     },
     "output_type": "display_data"
    },
    {
     "data": {
      "image/png": "[encoded data removed]",
      "text/plain": [
       "<Figure size 432x288 with 1 Axes>"
      ]
     },
     "metadata": {
      "needs_background": "light"
     },
     "output_type": "display_data"
    },
    {
     "data": {
      "image/png": "[encoded data removed]",
      "text/plain": [
       "<Figure size 432x288 with 1 Axes>"
      ]
     },
     "metadata": {
      "needs_background": "light"
     },
     "output_type": "display_data"
    }
   ],
   "source": [
    "from benchtools.src.plotools import bkg_sig_hist\n",
    "\n",
    "variables = df.drop('label', axis=1).columns\n",
    "for variable in variables:\n",
    "    bkg_sig_hist(df, variable=variable, label='label')\n",
    "    plt.show()"
   ]
  },
  {
   "cell_type": "markdown",
   "id": "f82318e1",
   "metadata": {},
   "source": [
    "#### Global\n",
    "I'll separate the data for each jet and each variable:"
   ]
  },
  {
   "cell_type": "code",
   "execution_count": 9,
   "id": "e997137e",
   "metadata": {},
   "outputs": [
    {
     "data": {
      "image/png": "[encoded data removed]",
      "text/plain": [
       "<Figure size 432x288 with 1 Axes>"
      ]
     },
     "metadata": {
      "needs_background": "light"
     },
     "output_type": "display_data"
    },
    {
     "data": {
      "image/png": "[encoded data removed]",
      "text/plain": [
       "<Figure size 432x288 with 1 Axes>"
      ]
     },
     "metadata": {
      "needs_background": "light"
     },
     "output_type": "display_data"
    },
    {
     "data": {
      "image/png": "[encoded data removed]",
      "text/plain": [
       "<Figure size 432x288 with 1 Axes>"
      ]
     },
     "metadata": {
      "needs_background": "light"
     },
     "output_type": "display_data"
    },
    {
     "data": {
      "image/png": "[encoded data removed]",
      "text/plain": [
       "<Figure size 432x288 with 1 Axes>"
      ]
     },
     "metadata": {
      "needs_background": "light"
     },
     "output_type": "display_data"
    }
   ],
   "source": [
    "columns=['mass_j1', 'tau12_j1', 'mass_j2', 'tau12_j2']\n",
    "df_global = pd.DataFrame(np.array(h5py.File('..\\data\\\\train_20v_RD_100P_2NJET.h5', 'r')['global']), columns=columns)\n",
    "df_global=df_global.assign(label=pid.values)\n",
    "\n",
    "for variable in columns:\n",
    "    bkg_sig_hist(df_global, variable=variable, label='label')\n",
    "    plt.show()"
   ]
  },
  {
   "cell_type": "markdown",
   "id": "c8522428",
   "metadata": {},
   "source": [
    "#### Label\n",
    "For this variable I'll separate the rows for signal and background. Then I'll plot all the values in a histogram"
   ]
  },
  {
   "cell_type": "code",
   "execution_count": 10,
   "id": "dd62550f",
   "metadata": {},
   "outputs": [
    {
     "data": {
      "image/png": "[encoded data removed]",
      "text/plain": [
       "<Figure size 432x288 with 1 Axes>"
      ]
     },
     "metadata": {
      "needs_background": "light"
     },
     "output_type": "display_data"
    }
   ],
   "source": [
    "# Loading the label dataframe\n",
    "df_label = pd.DataFrame(np.array(h5py.File('..\\data\\\\train_20v_RD_100P_2NJET.h5', 'r')['label']))\n",
    "# Adding the labels\n",
    "df_label = df_label.assign(label=pid.values)\n",
    "# Separating signal and background\n",
    "df_label_bkg = df_label.loc[df_label['label']==0]\n",
    "df_label_sig = df_label.loc[df_label['label']==1]\n",
    "# Plotting \n",
    "# 'stack' to plot all the values of each dataframe on the histogram\n",
    "df_label_bkg.drop('label', axis=1).stack().plot.hist(facecolor='b', alpha=0.2, label='background', density=True)\n",
    "df_label_sig.drop('label', axis=1).stack().plot.hist(facecolor='r', alpha=0.2, label='signal', density=True)\n",
    "plt.legend(loc='upper right')\n",
    "plt.title('Distribution of the label variable');"
   ]
  },
  {
   "cell_type": "markdown",
   "id": "2ac1a869",
   "metadata": {},
   "source": [
    "I'll try to substitute the number for the range with the mass values"
   ]
  },
  {
   "cell_type": "code",
   "execution_count": 11,
   "id": "872e1028",
   "metadata": {},
   "outputs": [
    {
     "data": {
      "text/html": [
       "<div>\n",
       "<style scoped>\n",
       "    .dataframe tbody tr th:only-of-type {\n",
       "        vertical-align: middle;\n",
       "    }\n",
       "\n",
       "    .dataframe tbody tr th {\n",
       "        vertical-align: top;\n",
       "    }\n",
       "\n",
       "    .dataframe thead th {\n",
       "        text-align: right;\n",
       "    }\n",
       "</style>\n",
       "<table border=\"1\" class=\"dataframe\">\n",
       "  <thead>\n",
       "    <tr style=\"text-align: right;\">\n",
       "      <th></th>\n",
       "      <th>value</th>\n",
       "      <th>mass</th>\n",
       "    </tr>\n",
       "  </thead>\n",
       "  <tbody>\n",
       "    <tr>\n",
       "      <th>0</th>\n",
       "      <td>0</td>\n",
       "      <td>10.000000</td>\n",
       "    </tr>\n",
       "    <tr>\n",
       "      <th>1</th>\n",
       "      <td>1</td>\n",
       "      <td>62.105263</td>\n",
       "    </tr>\n",
       "    <tr>\n",
       "      <th>2</th>\n",
       "      <td>2</td>\n",
       "      <td>114.210526</td>\n",
       "    </tr>\n",
       "    <tr>\n",
       "      <th>3</th>\n",
       "      <td>3</td>\n",
       "      <td>166.315789</td>\n",
       "    </tr>\n",
       "    <tr>\n",
       "      <th>4</th>\n",
       "      <td>4</td>\n",
       "      <td>218.421053</td>\n",
       "    </tr>\n",
       "  </tbody>\n",
       "</table>\n",
       "</div>"
      ],
      "text/plain": [
       "   value        mass\n",
       "0      0   10.000000\n",
       "1      1   62.105263\n",
       "2      2  114.210526\n",
       "3      3  166.315789\n",
       "4      4  218.421053"
      ]
     },
     "execution_count": 11,
     "metadata": {},
     "output_type": "execute_result"
    }
   ],
   "source": [
    "MASSRANGE = np.linspace(10,1000,20)\n",
    "MASSRANGE = np.append(MASSRANGE, [100000])\n",
    "map_list = []\n",
    "for x in enumerate(MASSRANGE):\n",
    "    if x[0]==20: break\n",
    "    map_list.append(x)\n",
    "df_map = pd.DataFrame(map_list, columns=['value', 'mass'])\n",
    "df_map.head()"
   ]
  },
  {
   "cell_type": "code",
   "execution_count": 12,
   "id": "306b511e",
   "metadata": {},
   "outputs": [
    {
     "data": {
      "text/html": [
       "<div>\n",
       "<style scoped>\n",
       "    .dataframe tbody tr th:only-of-type {\n",
       "        vertical-align: middle;\n",
       "    }\n",
       "\n",
       "    .dataframe tbody tr th {\n",
       "        vertical-align: top;\n",
       "    }\n",
       "\n",
       "    .dataframe thead th {\n",
       "        text-align: right;\n",
       "    }\n",
       "</style>\n",
       "<table border=\"1\" class=\"dataframe\">\n",
       "  <thead>\n",
       "    <tr style=\"text-align: right;\">\n",
       "      <th></th>\n",
       "      <th>0</th>\n",
       "      <th>1</th>\n",
       "      <th>2</th>\n",
       "      <th>3</th>\n",
       "      <th>4</th>\n",
       "      <th>5</th>\n",
       "      <th>6</th>\n",
       "      <th>7</th>\n",
       "      <th>8</th>\n",
       "      <th>9</th>\n",
       "      <th>...</th>\n",
       "      <th>91</th>\n",
       "      <th>92</th>\n",
       "      <th>93</th>\n",
       "      <th>94</th>\n",
       "      <th>95</th>\n",
       "      <th>96</th>\n",
       "      <th>97</th>\n",
       "      <th>98</th>\n",
       "      <th>99</th>\n",
       "      <th>label</th>\n",
       "    </tr>\n",
       "  </thead>\n",
       "  <tbody>\n",
       "    <tr>\n",
       "      <th>0</th>\n",
       "      <td>114.210526</td>\n",
       "      <td>114.210526</td>\n",
       "      <td>114.210526</td>\n",
       "      <td>114.210526</td>\n",
       "      <td>114.210526</td>\n",
       "      <td>114.210526</td>\n",
       "      <td>114.210526</td>\n",
       "      <td>114.210526</td>\n",
       "      <td>114.210526</td>\n",
       "      <td>114.210526</td>\n",
       "      <td>...</td>\n",
       "      <td>10.000000</td>\n",
       "      <td>10.000000</td>\n",
       "      <td>10.000000</td>\n",
       "      <td>10.000000</td>\n",
       "      <td>10.000000</td>\n",
       "      <td>10.000000</td>\n",
       "      <td>10.000000</td>\n",
       "      <td>10.000000</td>\n",
       "      <td>10.000000</td>\n",
       "      <td>0</td>\n",
       "    </tr>\n",
       "    <tr>\n",
       "      <th>1</th>\n",
       "      <td>635.263158</td>\n",
       "      <td>635.263158</td>\n",
       "      <td>635.263158</td>\n",
       "      <td>635.263158</td>\n",
       "      <td>635.263158</td>\n",
       "      <td>635.263158</td>\n",
       "      <td>635.263158</td>\n",
       "      <td>635.263158</td>\n",
       "      <td>635.263158</td>\n",
       "      <td>635.263158</td>\n",
       "      <td>...</td>\n",
       "      <td>478.947368</td>\n",
       "      <td>478.947368</td>\n",
       "      <td>478.947368</td>\n",
       "      <td>478.947368</td>\n",
       "      <td>478.947368</td>\n",
       "      <td>478.947368</td>\n",
       "      <td>478.947368</td>\n",
       "      <td>478.947368</td>\n",
       "      <td>478.947368</td>\n",
       "      <td>0</td>\n",
       "    </tr>\n",
       "    <tr>\n",
       "      <th>2</th>\n",
       "      <td>687.368421</td>\n",
       "      <td>687.368421</td>\n",
       "      <td>687.368421</td>\n",
       "      <td>687.368421</td>\n",
       "      <td>687.368421</td>\n",
       "      <td>687.368421</td>\n",
       "      <td>687.368421</td>\n",
       "      <td>687.368421</td>\n",
       "      <td>687.368421</td>\n",
       "      <td>687.368421</td>\n",
       "      <td>...</td>\n",
       "      <td>687.368421</td>\n",
       "      <td>687.368421</td>\n",
       "      <td>687.368421</td>\n",
       "      <td>687.368421</td>\n",
       "      <td>687.368421</td>\n",
       "      <td>687.368421</td>\n",
       "      <td>687.368421</td>\n",
       "      <td>687.368421</td>\n",
       "      <td>687.368421</td>\n",
       "      <td>0</td>\n",
       "    </tr>\n",
       "    <tr>\n",
       "      <th>3</th>\n",
       "      <td>531.052632</td>\n",
       "      <td>531.052632</td>\n",
       "      <td>531.052632</td>\n",
       "      <td>531.052632</td>\n",
       "      <td>531.052632</td>\n",
       "      <td>531.052632</td>\n",
       "      <td>531.052632</td>\n",
       "      <td>531.052632</td>\n",
       "      <td>531.052632</td>\n",
       "      <td>531.052632</td>\n",
       "      <td>...</td>\n",
       "      <td>218.421053</td>\n",
       "      <td>218.421053</td>\n",
       "      <td>218.421053</td>\n",
       "      <td>218.421053</td>\n",
       "      <td>218.421053</td>\n",
       "      <td>218.421053</td>\n",
       "      <td>218.421053</td>\n",
       "      <td>218.421053</td>\n",
       "      <td>218.421053</td>\n",
       "      <td>0</td>\n",
       "    </tr>\n",
       "    <tr>\n",
       "      <th>4</th>\n",
       "      <td>635.263158</td>\n",
       "      <td>635.263158</td>\n",
       "      <td>635.263158</td>\n",
       "      <td>635.263158</td>\n",
       "      <td>635.263158</td>\n",
       "      <td>635.263158</td>\n",
       "      <td>635.263158</td>\n",
       "      <td>635.263158</td>\n",
       "      <td>635.263158</td>\n",
       "      <td>635.263158</td>\n",
       "      <td>...</td>\n",
       "      <td>635.263158</td>\n",
       "      <td>635.263158</td>\n",
       "      <td>635.263158</td>\n",
       "      <td>635.263158</td>\n",
       "      <td>635.263158</td>\n",
       "      <td>635.263158</td>\n",
       "      <td>635.263158</td>\n",
       "      <td>635.263158</td>\n",
       "      <td>635.263158</td>\n",
       "      <td>0</td>\n",
       "    </tr>\n",
       "  </tbody>\n",
       "</table>\n",
       "<p>5 rows × 101 columns</p>\n",
       "</div>"
      ],
      "text/plain": [
       "            0           1           2           3           4           5  \\\n",
       "0  114.210526  114.210526  114.210526  114.210526  114.210526  114.210526   \n",
       "1  635.263158  635.263158  635.263158  635.263158  635.263158  635.263158   \n",
       "2  687.368421  687.368421  687.368421  687.368421  687.368421  687.368421   \n",
       "3  531.052632  531.052632  531.052632  531.052632  531.052632  531.052632   \n",
       "4  635.263158  635.263158  635.263158  635.263158  635.263158  635.263158   \n",
       "\n",
       "            6           7           8           9  ...          91  \\\n",
       "0  114.210526  114.210526  114.210526  114.210526  ...   10.000000   \n",
       "1  635.263158  635.263158  635.263158  635.263158  ...  478.947368   \n",
       "2  687.368421  687.368421  687.368421  687.368421  ...  687.368421   \n",
       "3  531.052632  531.052632  531.052632  531.052632  ...  218.421053   \n",
       "4  635.263158  635.263158  635.263158  635.263158  ...  635.263158   \n",
       "\n",
       "           92          93          94          95          96          97  \\\n",
       "0   10.000000   10.000000   10.000000   10.000000   10.000000   10.000000   \n",
       "1  478.947368  478.947368  478.947368  478.947368  478.947368  478.947368   \n",
       "2  687.368421  687.368421  687.368421  687.368421  687.368421  687.368421   \n",
       "3  218.421053  218.421053  218.421053  218.421053  218.421053  218.421053   \n",
       "4  635.263158  635.263158  635.263158  635.263158  635.263158  635.263158   \n",
       "\n",
       "           98          99  label  \n",
       "0   10.000000   10.000000      0  \n",
       "1  478.947368  478.947368      0  \n",
       "2  687.368421  687.368421      0  \n",
       "3  218.421053  218.421053      0  \n",
       "4  635.263158  635.263158      0  \n",
       "\n",
       "[5 rows x 101 columns]"
      ]
     },
     "execution_count": 12,
     "metadata": {},
     "output_type": "execute_result"
    }
   ],
   "source": [
    "df_map = df_map.set_index(\"value\")[\"mass\"]\n",
    "df_label_map = pd.DataFrame()\n",
    "# Mapping the values \n",
    "for col in df_label.drop('label', axis=1):\n",
    "    df_label_map[col] = df_label[col].map(df_map).fillna(df_label[col])\n",
    "# Adding the labels\n",
    "df_label_map = df_label_map.assign(label=pid.values)\n",
    "df_label_map.head()"
   ]
  },
  {
   "cell_type": "code",
   "execution_count": 13,
   "id": "7acff34b",
   "metadata": {
    "scrolled": true
   },
   "outputs": [
    {
     "data": {
      "image/png": "[encoded data removed]",
      "text/plain": [
       "<Figure size 432x288 with 1 Axes>"
      ]
     },
     "metadata": {
      "needs_background": "light"
     },
     "output_type": "display_data"
    }
   ],
   "source": [
    "# Separating signal and background\n",
    "df_label_bkg = df_label_map.loc[df_label_map['label']==0]\n",
    "df_label_sig = df_label_map.loc[df_label_map['label']==1]\n",
    "# Plotting \n",
    "# 'stack' to plot all the values of each dataframe on the histogram\n",
    "df_label_bkg.drop('label', axis=1).stack().plot.hist(facecolor='b', alpha=0.2, label='background', density=True)\n",
    "df_label_sig.drop('label', axis=1).stack().plot.hist(facecolor='r', alpha=0.2, label='signal', density=True)\n",
    "plt.legend(loc='upper right')\n",
    "plt.title('Distribution of the label variable');"
   ]
  },
  {
   "cell_type": "markdown",
   "id": "ade14708",
   "metadata": {},
   "source": [
    "#### Masses"
   ]
  },
  {
   "cell_type": "code",
   "execution_count": 14,
   "id": "9af19d68",
   "metadata": {},
   "outputs": [
    {
     "data": {
      "image/png": "[encoded data removed]",
      "text/plain": [
       "<Figure size 432x288 with 1 Axes>"
      ]
     },
     "metadata": {
      "needs_background": "light"
     },
     "output_type": "display_data"
    }
   ],
   "source": [
    "df_masses = pd.DataFrame(np.array(h5py.File('..\\data\\\\train_20v_RD_100P_2NJET.h5', 'r')['masses']), columns=['mass'])\n",
    "df_masses=df_masses.assign(label=pid.values)\n",
    "bkg_sig_hist(df_masses, variable='mass', label='label')\n",
    "plt.show()"
   ]
  },
  {
   "cell_type": "markdown",
   "id": "1b263b4e",
   "metadata": {},
   "source": [
    "The variables for the other files is the same, but let's see how many events had more than 2 jets:"
   ]
  },
  {
   "cell_type": "code",
   "execution_count": 15,
   "id": "ecb0ff3f",
   "metadata": {},
   "outputs": [
    {
     "name": "stdout",
     "output_type": "stream",
     "text": [
      "root:NXroot\n",
      "  data = float64(137681x100x7)\n",
      "  global = float64(137681x4)\n",
      "  label = int8(137681x100)\n",
      "  masses = float64(137681)\n",
      "  pid = int8(137681)\n"
     ]
    }
   ],
   "source": [
    "f = nx.nxload('..\\data\\\\test_20v_RD_100P_2NJET.h5')\n",
    "print(f.tree)"
   ]
  },
  {
   "cell_type": "code",
   "execution_count": 16,
   "id": "0347cfb3",
   "metadata": {},
   "outputs": [
    {
     "name": "stdout",
     "output_type": "stream",
     "text": [
      "root:NXroot\n",
      "  data = float64(312345x100x7)\n",
      "  global = float64(312345x4)\n",
      "  label = int8(312345x100)\n",
      "  masses = float64(312345)\n",
      "  pid = int8(312345)\n"
     ]
    }
   ],
   "source": [
    "f = nx.nxload('..\\data\\eval_20v_RD_100P_2NJET.h5')\n",
    "print(f.tree)"
   ]
  },
  {
   "cell_type": "markdown",
   "id": "a1c1e57e",
   "metadata": {},
   "source": [
    "- For the *test set* there were processed 149,999 events. 137,681 had two or more jets.\n",
    "- For the *evaluation set* 312,345 had two jets, from the 340,000 that were processed."
   ]
  },
  {
   "cell_type": "markdown",
   "id": "ba279323",
   "metadata": {},
   "source": [
    "## Output\n",
    "According to the [script](https://github.com/ViniciusMikuni/UCluster/blob/master/scripts/evaluate_kmeans_seg.py), the output has 5 dataframes: *label*, *pid*, *max_pool*, *global* and *masses*"
   ]
  },
  {
   "cell_type": "code",
   "execution_count": 17,
   "id": "76c29727",
   "metadata": {},
   "outputs": [],
   "source": [
    "from benchtools.src.metrictools import performance_metrics, rejection_plot, inverse_roc_plot, significance_plot, precision_recall_plot"
   ]
  },
  {
   "cell_type": "code",
   "execution_count": 18,
   "id": "298f51a1",
   "metadata": {},
   "outputs": [
    {
     "name": "stdout",
     "output_type": "stream",
     "text": [
      "root:NXroot\n",
      "  global = float64(312320x4)\n",
      "  label = int8(312320)\n",
      "  masses = float64(312320)\n",
      "  max_pool = float32(312320x2)\n",
      "  pid = int64(312320)\n"
     ]
    }
   ],
   "source": [
    "f = nx.nxload('..\\data\\evaluation_full.h5')\n",
    "print(f.tree)"
   ]
  },
  {
   "cell_type": "code",
   "execution_count": 19,
   "id": "018221c3",
   "metadata": {},
   "outputs": [
    {
     "data": {
      "text/plain": [
       "(312320, 1)"
      ]
     },
     "execution_count": 19,
     "metadata": {},
     "output_type": "execute_result"
    }
   ],
   "source": [
    "y_label = pd.DataFrame(np.array(h5py.File('..\\data\\evaluation_full.h5', 'r')['label']), columns=['label'])\n",
    "y_pred = pd.DataFrame(np.array(h5py.File('..\\data\\evaluation_full.h5', 'r')['pid']), columns=['pred'])\n",
    "y_pred.shape"
   ]
  },
  {
   "cell_type": "code",
   "execution_count": 20,
   "id": "374a0ca1",
   "metadata": {},
   "outputs": [
    {
     "name": "stdout",
     "output_type": "stream",
     "text": [
      "==============================\n",
      "Ucluster\n",
      "****Results****\n"
     ]
    },
    {
     "name": "stderr",
     "output_type": "stream",
     "text": [
      "C:\\Users\\maria\\anaconda3\\lib\\site-packages\\sklearn\\metrics\\_classification.py:1248: UndefinedMetricWarning: Precision is ill-defined and being set to 0.0 due to no predicted samples. Use `zero_division` parameter to control this behavior.\n",
      "  _warn_prf(average, modifier, msg_start, len(result))\n",
      "C:\\Users\\maria\\anaconda3\\lib\\site-packages\\sklearn\\metrics\\_classification.py:1248: UndefinedMetricWarning: Precision and F-score are ill-defined and being set to 0.0 in labels with no predicted samples. Use `zero_division` parameter to control this behavior.\n",
      "  _warn_prf(average, modifier, msg_start, len(result))\n"
     ]
    },
    {
     "name": "stdout",
     "output_type": "stream",
     "text": [
      "              precision    recall  f1-score   support\n",
      "\n",
      "  background       0.99      1.00      1.00    309296\n",
      "      signal       0.00      0.00      0.00      3024\n",
      "\n",
      "    accuracy                           0.99    312320\n",
      "   macro avg       0.50      0.50      0.50    312320\n",
      "weighted avg       0.98      0.99      0.99    312320\n",
      "\n"
     ]
    },
    {
     "name": "stderr",
     "output_type": "stream",
     "text": [
      "C:\\Users\\maria\\anaconda3\\lib\\site-packages\\sklearn\\metrics\\_classification.py:1248: UndefinedMetricWarning: Precision and F-score are ill-defined and being set to 0.0 in labels with no predicted samples. Use `zero_division` parameter to control this behavior.\n",
      "  _warn_prf(average, modifier, msg_start, len(result))\n",
      "C:\\Users\\maria\\anaconda3\\lib\\site-packages\\sklearn\\metrics\\_classification.py:1248: UndefinedMetricWarning: Precision and F-score are ill-defined and being set to 0.0 in labels with no predicted samples. Use `zero_division` parameter to control this behavior.\n",
      "  _warn_prf(average, modifier, msg_start, len(result))\n"
     ]
    },
    {
     "data": {
      "text/html": [
       "<div>\n",
       "<style scoped>\n",
       "    .dataframe tbody tr th:only-of-type {\n",
       "        vertical-align: middle;\n",
       "    }\n",
       "\n",
       "    .dataframe tbody tr th {\n",
       "        vertical-align: top;\n",
       "    }\n",
       "\n",
       "    .dataframe thead th {\n",
       "        text-align: right;\n",
       "    }\n",
       "</style>\n",
       "<table border=\"1\" class=\"dataframe\">\n",
       "  <thead>\n",
       "    <tr style=\"text-align: right;\">\n",
       "      <th></th>\n",
       "      <th>Classifier</th>\n",
       "      <th>Recall</th>\n",
       "      <th>Precision</th>\n",
       "      <th>F1 score</th>\n",
       "    </tr>\n",
       "  </thead>\n",
       "  <tbody>\n",
       "    <tr>\n",
       "      <th>0</th>\n",
       "      <td>Ucluster</td>\n",
       "      <td>0.0</td>\n",
       "      <td>0.0</td>\n",
       "      <td>0.0</td>\n",
       "    </tr>\n",
       "  </tbody>\n",
       "</table>\n",
       "</div>"
      ],
      "text/plain": [
       "  Classifier  Recall  Precision  F1 score\n",
       "0   Ucluster     0.0        0.0       0.0"
      ]
     },
     "execution_count": 20,
     "metadata": {},
     "output_type": "execute_result"
    }
   ],
   "source": [
    "metrics= performance_metrics('Ucluster', label=y_label, pred_label=y_pred)\n",
    "metrics"
   ]
  },
  {
   "cell_type": "markdown",
   "id": "355ca0c5",
   "metadata": {},
   "source": [
    "It appears that the classifier classified everything as background.\n",
    "\n",
    "I changed the code to get the cluster distance "
   ]
  },
  {
   "cell_type": "markdown",
   "id": "3e0db3fa",
   "metadata": {},
   "source": [
    "### Distances"
   ]
  },
  {
   "cell_type": "code",
   "execution_count": 21,
   "id": "d2582e4a",
   "metadata": {},
   "outputs": [
    {
     "name": "stdout",
     "output_type": "stream",
     "text": [
      "root:NXroot\n",
      "  distances = float32(312320x2)\n",
      "  global = float64(312320x4)\n",
      "  label = int8(312320)\n",
      "  masses = float64(312320)\n",
      "  max_pool = float32(312320x2)\n",
      "  pid = int64(312320)\n"
     ]
    }
   ],
   "source": [
    "f = nx.nxload('..\\data\\evaluation_dist.h5')\n",
    "print(f.tree)"
   ]
  },
  {
   "cell_type": "code",
   "execution_count": 22,
   "id": "3bbdc59e",
   "metadata": {},
   "outputs": [
    {
     "data": {
      "text/html": [
       "<div>\n",
       "<style scoped>\n",
       "    .dataframe tbody tr th:only-of-type {\n",
       "        vertical-align: middle;\n",
       "    }\n",
       "\n",
       "    .dataframe tbody tr th {\n",
       "        vertical-align: top;\n",
       "    }\n",
       "\n",
       "    .dataframe thead th {\n",
       "        text-align: right;\n",
       "    }\n",
       "</style>\n",
       "<table border=\"1\" class=\"dataframe\">\n",
       "  <thead>\n",
       "    <tr style=\"text-align: right;\">\n",
       "      <th></th>\n",
       "      <th>dist_0</th>\n",
       "      <th>dist_1</th>\n",
       "    </tr>\n",
       "  </thead>\n",
       "  <tbody>\n",
       "    <tr>\n",
       "      <th>0</th>\n",
       "      <td>0.010410</td>\n",
       "      <td>10.275502</td>\n",
       "    </tr>\n",
       "    <tr>\n",
       "      <th>1</th>\n",
       "      <td>0.020848</td>\n",
       "      <td>9.507950</td>\n",
       "    </tr>\n",
       "    <tr>\n",
       "      <th>2</th>\n",
       "      <td>0.000487</td>\n",
       "      <td>9.650536</td>\n",
       "    </tr>\n",
       "    <tr>\n",
       "      <th>3</th>\n",
       "      <td>0.007560</td>\n",
       "      <td>9.725061</td>\n",
       "    </tr>\n",
       "    <tr>\n",
       "      <th>4</th>\n",
       "      <td>0.015914</td>\n",
       "      <td>10.527639</td>\n",
       "    </tr>\n",
       "    <tr>\n",
       "      <th>...</th>\n",
       "      <td>...</td>\n",
       "      <td>...</td>\n",
       "    </tr>\n",
       "    <tr>\n",
       "      <th>312315</th>\n",
       "      <td>0.007062</td>\n",
       "      <td>9.281509</td>\n",
       "    </tr>\n",
       "    <tr>\n",
       "      <th>312316</th>\n",
       "      <td>0.007038</td>\n",
       "      <td>9.441727</td>\n",
       "    </tr>\n",
       "    <tr>\n",
       "      <th>312317</th>\n",
       "      <td>0.003599</td>\n",
       "      <td>9.658307</td>\n",
       "    </tr>\n",
       "    <tr>\n",
       "      <th>312318</th>\n",
       "      <td>0.001220</td>\n",
       "      <td>9.930380</td>\n",
       "    </tr>\n",
       "    <tr>\n",
       "      <th>312319</th>\n",
       "      <td>0.005627</td>\n",
       "      <td>10.219425</td>\n",
       "    </tr>\n",
       "  </tbody>\n",
       "</table>\n",
       "<p>312320 rows × 2 columns</p>\n",
       "</div>"
      ],
      "text/plain": [
       "          dist_0     dist_1\n",
       "0       0.010410  10.275502\n",
       "1       0.020848   9.507950\n",
       "2       0.000487   9.650536\n",
       "3       0.007560   9.725061\n",
       "4       0.015914  10.527639\n",
       "...          ...        ...\n",
       "312315  0.007062   9.281509\n",
       "312316  0.007038   9.441727\n",
       "312317  0.003599   9.658307\n",
       "312318  0.001220   9.930380\n",
       "312319  0.005627  10.219425\n",
       "\n",
       "[312320 rows x 2 columns]"
      ]
     },
     "execution_count": 22,
     "metadata": {},
     "output_type": "execute_result"
    }
   ],
   "source": [
    "y_score = pd.DataFrame(np.array(h5py.File('..\\data\\evaluation_dist.h5', 'r')['distances']), columns=['dist_0', 'dist_1'])\n",
    "y_label = pd.DataFrame(np.array(h5py.File('..\\data\\evaluation_dist.h5', 'r')['label']), columns=['label'])\n",
    "\n",
    "y_score"
   ]
  },
  {
   "cell_type": "markdown",
   "id": "b7e17c65",
   "metadata": {},
   "source": [
    "Here can be seen why all the events are labeled as background:"
   ]
  },
  {
   "cell_type": "code",
   "execution_count": 23,
   "id": "db04068e",
   "metadata": {},
   "outputs": [
    {
     "name": "stdout",
     "output_type": "stream",
     "text": [
      "The minimum and maximum distance for background is: 2.22e-08 and 1.2\n",
      "The minimum and maximum distance for signal is: 4.44 and 11.8\n"
     ]
    }
   ],
   "source": [
    "y_score = y_score.assign(label=y_label)\n",
    "\n",
    "min_bkg = y_score['dist_0'].min()\n",
    "max_bkg = y_score['dist_0'].max()\n",
    "min_sig = y_score['dist_1'].min()\n",
    "max_sig = y_score['dist_1'].max()\n",
    "\n",
    "print('The minimum and maximum distance for background is: {:.3} and {:.3}'.format(min_bkg, max_bkg))\n",
    "print('The minimum and maximum distance for signal is: {:.3} and {:.3}'.format(min_sig, max_sig))"
   ]
  },
  {
   "cell_type": "markdown",
   "id": "9d00e740",
   "metadata": {},
   "source": [
    "The curves should look like those of a random classifier"
   ]
  },
  {
   "cell_type": "code",
   "execution_count": 24,
   "id": "f7a40615",
   "metadata": {},
   "outputs": [
    {
     "data": {
      "image/png": "[encoded data removed]",
      "text/plain": [
       "<Figure size 576x432 with 1 Axes>"
      ]
     },
     "metadata": {
      "needs_background": "light"
     },
     "output_type": "display_data"
    },
    {
     "data": {
      "image/png": "[encoded data removed]",
      "text/plain": [
       "<Figure size 576x432 with 1 Axes>"
      ]
     },
     "metadata": {
      "needs_background": "light"
     },
     "output_type": "display_data"
    },
    {
     "data": {
      "image/png": "[encoded data removed]",
      "text/plain": [
       "<Figure size 576x432 with 1 Axes>"
      ]
     },
     "metadata": {
      "needs_background": "light"
     },
     "output_type": "display_data"
    },
    {
     "data": {
      "image/png": "[encoded data removed]",
      "text/plain": [
       "<Figure size 576x432 with 1 Axes>"
      ]
     },
     "metadata": {
      "needs_background": "light"
     },
     "output_type": "display_data"
    }
   ],
   "source": [
    "rejection_plot(names='UCluster', labels=y_label.loc[:,'label'], probs=y_score.loc[:,'dist_1'])\n",
    "plt.show()\n",
    "\n",
    "inverse_roc_plot(names='UCluster', labels=y_label.loc[:,'label'], probs=y_score.loc[:,'dist_1'])\n",
    "plt.show()\n",
    "\n",
    "significance_plot(names='UCluster', labels=y_label.loc[:,'label'], probs=y_score.loc[:,'dist_1'])\n",
    "plt.show()\n",
    "\n",
    "precision_recall_plot(names='UCluster', labels=y_label.loc[:,'label'], probs=y_score.loc[:,'dist_1'])\n",
    "plt.show()"
   ]
  },
  {
   "cell_type": "markdown",
   "id": "85ead657",
   "metadata": {},
   "source": [
    "## Multiple runs\n",
    "I'm trying to run this trying multiple things to see if the classification works. First an old evaluation which I did with little to no change to the code"
   ]
  },
  {
   "cell_type": "code",
   "execution_count": 25,
   "id": "8d095f41",
   "metadata": {},
   "outputs": [
    {
     "name": "stdout",
     "output_type": "stream",
     "text": [
      "==============================\n",
      "Ucluster\n",
      "****Results****\n",
      "              precision    recall  f1-score   support\n",
      "\n",
      "  background       0.99      0.93      0.96      3049\n",
      "      signal       0.00      0.04      0.01        23\n",
      "\n",
      "    accuracy                           0.92      3072\n",
      "   macro avg       0.50      0.49      0.48      3072\n",
      "weighted avg       0.98      0.92      0.95      3072\n",
      "\n"
     ]
    },
    {
     "data": {
      "text/html": [
       "<div>\n",
       "<style scoped>\n",
       "    .dataframe tbody tr th:only-of-type {\n",
       "        vertical-align: middle;\n",
       "    }\n",
       "\n",
       "    .dataframe tbody tr th {\n",
       "        vertical-align: top;\n",
       "    }\n",
       "\n",
       "    .dataframe thead th {\n",
       "        text-align: right;\n",
       "    }\n",
       "</style>\n",
       "<table border=\"1\" class=\"dataframe\">\n",
       "  <thead>\n",
       "    <tr style=\"text-align: right;\">\n",
       "      <th></th>\n",
       "      <th>Classifier</th>\n",
       "      <th>Recall</th>\n",
       "      <th>Precision</th>\n",
       "      <th>F1 score</th>\n",
       "    </tr>\n",
       "  </thead>\n",
       "  <tbody>\n",
       "    <tr>\n",
       "      <th>0</th>\n",
       "      <td>Ucluster</td>\n",
       "      <td>0.043478</td>\n",
       "      <td>0.458716</td>\n",
       "      <td>0.008299</td>\n",
       "    </tr>\n",
       "  </tbody>\n",
       "</table>\n",
       "</div>"
      ],
      "text/plain": [
       "  Classifier    Recall  Precision  F1 score\n",
       "0   Ucluster  0.043478   0.458716  0.008299"
      ]
     },
     "execution_count": 25,
     "metadata": {},
     "output_type": "execute_result"
    }
   ],
   "source": [
    "y_label = pd.DataFrame(np.array(h5py.File('..\\data\\evaluation.h5', 'r')['label']), columns=['label'])\n",
    "y_pred = pd.DataFrame(np.array(h5py.File('..\\data\\evaluation.h5', 'r')['pid']), columns=['pred'])\n",
    "performance_metrics('Ucluster', label=y_label, pred_label=y_pred)"
   ]
  },
  {
   "cell_type": "markdown",
   "id": "c2d21be4",
   "metadata": {},
   "source": [
    "Still I didn't do better, but at least is not zero. I tried to run that again:"
   ]
  },
  {
   "cell_type": "code",
   "execution_count": 26,
   "id": "cb4fdcb2",
   "metadata": {},
   "outputs": [
    {
     "name": "stdout",
     "output_type": "stream",
     "text": [
      "==============================\n",
      "Ucluster\n",
      "****Results****\n",
      "              precision    recall  f1-score   support\n",
      "\n",
      "  background       0.99      1.00      0.99      3038\n",
      "      signal       0.00      0.00      0.00        34\n",
      "\n",
      "    accuracy                           0.99      3072\n",
      "   macro avg       0.49      0.50      0.50      3072\n",
      "weighted avg       0.98      0.99      0.98      3072\n",
      "\n"
     ]
    },
    {
     "name": "stderr",
     "output_type": "stream",
     "text": [
      "C:\\Users\\maria\\anaconda3\\lib\\site-packages\\sklearn\\metrics\\_classification.py:1248: UndefinedMetricWarning: Precision is ill-defined and being set to 0.0 due to no predicted samples. Use `zero_division` parameter to control this behavior.\n",
      "  _warn_prf(average, modifier, msg_start, len(result))\n",
      "C:\\Users\\maria\\anaconda3\\lib\\site-packages\\sklearn\\metrics\\_classification.py:1248: UndefinedMetricWarning: Precision and F-score are ill-defined and being set to 0.0 in labels with no predicted samples. Use `zero_division` parameter to control this behavior.\n",
      "  _warn_prf(average, modifier, msg_start, len(result))\n",
      "C:\\Users\\maria\\anaconda3\\lib\\site-packages\\sklearn\\metrics\\_classification.py:1248: UndefinedMetricWarning: Precision and F-score are ill-defined and being set to 0.0 in labels with no predicted samples. Use `zero_division` parameter to control this behavior.\n",
      "  _warn_prf(average, modifier, msg_start, len(result))\n",
      "C:\\Users\\maria\\anaconda3\\lib\\site-packages\\sklearn\\metrics\\_classification.py:1248: UndefinedMetricWarning: Precision and F-score are ill-defined and being set to 0.0 in labels with no predicted samples. Use `zero_division` parameter to control this behavior.\n",
      "  _warn_prf(average, modifier, msg_start, len(result))\n"
     ]
    },
    {
     "data": {
      "text/html": [
       "<div>\n",
       "<style scoped>\n",
       "    .dataframe tbody tr th:only-of-type {\n",
       "        vertical-align: middle;\n",
       "    }\n",
       "\n",
       "    .dataframe tbody tr th {\n",
       "        vertical-align: top;\n",
       "    }\n",
       "\n",
       "    .dataframe thead th {\n",
       "        text-align: right;\n",
       "    }\n",
       "</style>\n",
       "<table border=\"1\" class=\"dataframe\">\n",
       "  <thead>\n",
       "    <tr style=\"text-align: right;\">\n",
       "      <th></th>\n",
       "      <th>Classifier</th>\n",
       "      <th>Recall</th>\n",
       "      <th>Precision</th>\n",
       "      <th>F1 score</th>\n",
       "    </tr>\n",
       "  </thead>\n",
       "  <tbody>\n",
       "    <tr>\n",
       "      <th>0</th>\n",
       "      <td>Ucluster</td>\n",
       "      <td>0.0</td>\n",
       "      <td>0.0</td>\n",
       "      <td>0.0</td>\n",
       "    </tr>\n",
       "  </tbody>\n",
       "</table>\n",
       "</div>"
      ],
      "text/plain": [
       "  Classifier  Recall  Precision  F1 score\n",
       "0   Ucluster     0.0        0.0       0.0"
      ]
     },
     "execution_count": 26,
     "metadata": {},
     "output_type": "execute_result"
    }
   ],
   "source": [
    "y_label = pd.DataFrame(np.array(h5py.File('..\\data\\prueba.h5', 'r')['label']), columns=['label'])\n",
    "y_pred = pd.DataFrame(np.array(h5py.File('..\\data\\prueba.h5', 'r')['pid']), columns=['pred'])\n",
    "\n",
    "performance_metrics('Ucluster', label=y_label, pred_label=y_pred)"
   ]
  },
  {
   "cell_type": "markdown",
   "id": "191695a7",
   "metadata": {},
   "source": [
    "But got zero on everything. Then I tried to change the code because it was giving errors due to trying to use a gpu while the computer doesn't have one. So I changed to the cpu:"
   ]
  },
  {
   "cell_type": "code",
   "execution_count": 27,
   "id": "5f34c3e7",
   "metadata": {},
   "outputs": [
    {
     "name": "stdout",
     "output_type": "stream",
     "text": [
      "==============================\n",
      "Ucluster\n",
      "****Results****\n",
      "              precision    recall  f1-score   support\n",
      "\n",
      "  background       0.99      1.00      0.99      3038\n",
      "      signal       0.00      0.00      0.00        34\n",
      "\n",
      "    accuracy                           0.99      3072\n",
      "   macro avg       0.49      0.50      0.50      3072\n",
      "weighted avg       0.98      0.99      0.98      3072\n",
      "\n"
     ]
    },
    {
     "name": "stderr",
     "output_type": "stream",
     "text": [
      "C:\\Users\\maria\\anaconda3\\lib\\site-packages\\sklearn\\metrics\\_classification.py:1248: UndefinedMetricWarning: Precision is ill-defined and being set to 0.0 due to no predicted samples. Use `zero_division` parameter to control this behavior.\n",
      "  _warn_prf(average, modifier, msg_start, len(result))\n",
      "C:\\Users\\maria\\anaconda3\\lib\\site-packages\\sklearn\\metrics\\_classification.py:1248: UndefinedMetricWarning: Precision and F-score are ill-defined and being set to 0.0 in labels with no predicted samples. Use `zero_division` parameter to control this behavior.\n",
      "  _warn_prf(average, modifier, msg_start, len(result))\n",
      "C:\\Users\\maria\\anaconda3\\lib\\site-packages\\sklearn\\metrics\\_classification.py:1248: UndefinedMetricWarning: Precision and F-score are ill-defined and being set to 0.0 in labels with no predicted samples. Use `zero_division` parameter to control this behavior.\n",
      "  _warn_prf(average, modifier, msg_start, len(result))\n",
      "C:\\Users\\maria\\anaconda3\\lib\\site-packages\\sklearn\\metrics\\_classification.py:1248: UndefinedMetricWarning: Precision and F-score are ill-defined and being set to 0.0 in labels with no predicted samples. Use `zero_division` parameter to control this behavior.\n",
      "  _warn_prf(average, modifier, msg_start, len(result))\n"
     ]
    },
    {
     "data": {
      "text/html": [
       "<div>\n",
       "<style scoped>\n",
       "    .dataframe tbody tr th:only-of-type {\n",
       "        vertical-align: middle;\n",
       "    }\n",
       "\n",
       "    .dataframe tbody tr th {\n",
       "        vertical-align: top;\n",
       "    }\n",
       "\n",
       "    .dataframe thead th {\n",
       "        text-align: right;\n",
       "    }\n",
       "</style>\n",
       "<table border=\"1\" class=\"dataframe\">\n",
       "  <thead>\n",
       "    <tr style=\"text-align: right;\">\n",
       "      <th></th>\n",
       "      <th>Classifier</th>\n",
       "      <th>Recall</th>\n",
       "      <th>Precision</th>\n",
       "      <th>F1 score</th>\n",
       "    </tr>\n",
       "  </thead>\n",
       "  <tbody>\n",
       "    <tr>\n",
       "      <th>0</th>\n",
       "      <td>Ucluster</td>\n",
       "      <td>0.0</td>\n",
       "      <td>0.0</td>\n",
       "      <td>0.0</td>\n",
       "    </tr>\n",
       "  </tbody>\n",
       "</table>\n",
       "</div>"
      ],
      "text/plain": [
       "  Classifier  Recall  Precision  F1 score\n",
       "0   Ucluster     0.0        0.0       0.0"
      ]
     },
     "execution_count": 27,
     "metadata": {},
     "output_type": "execute_result"
    }
   ],
   "source": [
    "y_label = pd.DataFrame(np.array(h5py.File('..\\data\\pruebacpu.h5', 'r')['label']), columns=['label'])\n",
    "y_pred = pd.DataFrame(np.array(h5py.File('..\\data\\pruebacpu.h5', 'r')['pid']), columns=['pred'])\n",
    "\n",
    "performance_metrics('Ucluster', label=y_label, pred_label=y_pred)"
   ]
  },
  {
   "cell_type": "markdown",
   "id": "f205b146",
   "metadata": {},
   "source": [
    "Still got zero. Then I tried 60 clusters:"
   ]
  },
  {
   "cell_type": "code",
   "execution_count": 28,
   "id": "1bbee130",
   "metadata": {},
   "outputs": [
    {
     "name": "stdout",
     "output_type": "stream",
     "text": [
      "==============================\n",
      "Ucluster\n",
      "****Results****\n",
      "              precision    recall  f1-score   support\n",
      "\n",
      "  background       0.99      1.00      0.99      3038\n",
      "      signal       0.00      0.00      0.00        34\n",
      "\n",
      "    accuracy                           0.99      3072\n",
      "   macro avg       0.49      0.50      0.50      3072\n",
      "weighted avg       0.98      0.99      0.98      3072\n",
      "\n"
     ]
    },
    {
     "name": "stderr",
     "output_type": "stream",
     "text": [
      "C:\\Users\\maria\\anaconda3\\lib\\site-packages\\sklearn\\metrics\\_classification.py:1248: UndefinedMetricWarning: Precision is ill-defined and being set to 0.0 due to no predicted samples. Use `zero_division` parameter to control this behavior.\n",
      "  _warn_prf(average, modifier, msg_start, len(result))\n",
      "C:\\Users\\maria\\anaconda3\\lib\\site-packages\\sklearn\\metrics\\_classification.py:1248: UndefinedMetricWarning: Precision and F-score are ill-defined and being set to 0.0 in labels with no predicted samples. Use `zero_division` parameter to control this behavior.\n",
      "  _warn_prf(average, modifier, msg_start, len(result))\n",
      "C:\\Users\\maria\\anaconda3\\lib\\site-packages\\sklearn\\metrics\\_classification.py:1248: UndefinedMetricWarning: Precision and F-score are ill-defined and being set to 0.0 in labels with no predicted samples. Use `zero_division` parameter to control this behavior.\n",
      "  _warn_prf(average, modifier, msg_start, len(result))\n",
      "C:\\Users\\maria\\anaconda3\\lib\\site-packages\\sklearn\\metrics\\_classification.py:1248: UndefinedMetricWarning: Precision and F-score are ill-defined and being set to 0.0 in labels with no predicted samples. Use `zero_division` parameter to control this behavior.\n",
      "  _warn_prf(average, modifier, msg_start, len(result))\n"
     ]
    },
    {
     "data": {
      "text/html": [
       "<div>\n",
       "<style scoped>\n",
       "    .dataframe tbody tr th:only-of-type {\n",
       "        vertical-align: middle;\n",
       "    }\n",
       "\n",
       "    .dataframe tbody tr th {\n",
       "        vertical-align: top;\n",
       "    }\n",
       "\n",
       "    .dataframe thead th {\n",
       "        text-align: right;\n",
       "    }\n",
       "</style>\n",
       "<table border=\"1\" class=\"dataframe\">\n",
       "  <thead>\n",
       "    <tr style=\"text-align: right;\">\n",
       "      <th></th>\n",
       "      <th>Classifier</th>\n",
       "      <th>Recall</th>\n",
       "      <th>Precision</th>\n",
       "      <th>F1 score</th>\n",
       "    </tr>\n",
       "  </thead>\n",
       "  <tbody>\n",
       "    <tr>\n",
       "      <th>0</th>\n",
       "      <td>Ucluster</td>\n",
       "      <td>0.0</td>\n",
       "      <td>0.0</td>\n",
       "      <td>0.0</td>\n",
       "    </tr>\n",
       "  </tbody>\n",
       "</table>\n",
       "</div>"
      ],
      "text/plain": [
       "  Classifier  Recall  Precision  F1 score\n",
       "0   Ucluster     0.0        0.0       0.0"
      ]
     },
     "execution_count": 28,
     "metadata": {},
     "output_type": "execute_result"
    }
   ],
   "source": [
    "y_label = pd.DataFrame(np.array(h5py.File('..\\data\\prueba60.h5', 'r')['label']), columns=['label'])\n",
    "y_pred = pd.DataFrame(np.array(h5py.File('..\\data\\prueba60.h5', 'r')['pid']), columns=['pred'])\n",
    "\n",
    "performance_metrics('Ucluster', label=y_label, pred_label=y_pred)"
   ]
  }
 ],
 "metadata": {
  "kernelspec": {
   "display_name": "Python 3",
   "language": "python",
   "name": "python3"
  },
  "language_info": {
   "codemirror_mode": {
    "name": "ipython",
    "version": 3
   },
   "file_extension": ".py",
   "mimetype": "text/x-python",
   "name": "python",
   "nbconvert_exporter": "python",
   "pygments_lexer": "ipython3",
   "version": "3.8.11"
  }
 },
 "nbformat": 4,
 "nbformat_minor": 5
}
