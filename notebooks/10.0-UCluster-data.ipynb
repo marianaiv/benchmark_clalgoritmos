{
 "cells": [
  {
   "cell_type": "markdown",
   "id": "452a4966",
   "metadata": {},
   "source": [
    "# UCluster\n",
    "Visualizing the pre-processed data for training, testing and evaluation\n",
    "## Pre-processed data\n",
    "### Training data\n",
    "According to the [repository](https://github.com/ViniciusMikuni/UCluster):\n",
    "> The data is expected to be stored in .h5 files containing the following:  \n",
    ">- data: [N,P,F],  \n",
    ">- label:[N,P]  \n",
    ">- pid: [N]  \n",
    ">- global: [N,G]  \n",
    ">\n",
    ">Where,  \n",
    ">- N = Number of events  \n",
    ">- F = Number of features per point  \n",
    ">- P = Number of points  \n",
    ">- G = Number of global features  \n",
    ">\n",
    ">For Unsupervised multiclass classification, only the pid is required, while for anomaly detection, label and global are required.\n",
    "\n",
    "Since we are using the anomaly detection one, let's check for these features and what they mean"
   ]
  },
  {
   "cell_type": "code",
   "execution_count": 1,
   "id": "6f59e3f8",
   "metadata": {},
   "outputs": [],
   "source": [
    "# Importing some basic libraries\n",
    "import pandas as pd\n",
    "import h5py\n",
    "import numpy as np\n",
    "import matplotlib.pyplot as plt\n",
    "import nexusformat.nexus as nx"
   ]
  },
  {
   "cell_type": "markdown",
   "id": "cb14218b",
   "metadata": {},
   "source": [
    "First, we want to see what is inside the file"
   ]
  },
  {
   "cell_type": "code",
   "execution_count": 2,
   "id": "416a4425",
   "metadata": {},
   "outputs": [
    {
     "name": "stdout",
     "output_type": "stream",
     "text": [
      "root:NXroot\n",
      "  data = float64(367212x100x7)\n",
      "  global = float64(367212x4)\n",
      "  label = int8(367212x100)\n",
      "  masses = float64(367212)\n",
      "  pid = int8(367212)\n"
     ]
    }
   ],
   "source": [
    "f = nx.nxload('..\\data\\\\train_20v_RD_100P_2NJET.h5')\n",
    "print(f.tree)"
   ]
  },
  {
   "cell_type": "markdown",
   "id": "a4b6729a",
   "metadata": {},
   "source": [
    "There are 5 sets of data. After [checking the code](https://github.com/ViniciusMikuni/UCluster/blob/master/scripts/prepare_data_unsup.py), we found that for the training file there where 400,000 events, from which 367,212 events had two jets or more.   \n",
    "In general, each h5 pre-processed file has:\n",
    "- **Data**  \n",
    "    For each event there is a dataframe of 100 x 7. The rows consist of constituyents particles for both of the most energetic jets, with zero padding until 100. The columns are: \n",
    "    1. $\\eta_{const}-\\eta_{jet}$\n",
    "    2. $\\phi_{const}-\\phi{jet}$\n",
    "    3. $\\log\\left( \\frac{p_{T_{const}}}{p_{T_{jet}}}\\right)$\n",
    "    4. $\\log\\left( \\frac{E_{const}}{E_{jet}}\\right)$\n",
    "    5. $\\log(p_{T_{const}})$\n",
    "    6. $\\log (E_{const})$\n",
    "    7. $\\Delta R= \\sqrt{\\left(\\eta_{const}-\\eta_{jet}\\right)^2+\\left(\\phi_{const}-\\phi_{jet}\\right)^2}$\n",
    "    \n",
    "- **Global**  \n",
    "    For each event and for the two principal jets it has: $\\log(m_{jet})$ and $\\tau_{21}$\n",
    "    \n",
    "- **Label**  \n",
    "    Information about in which part of a range from 10 to 1000 divided in 20 with a upper bound of 100,000 is the mass of each of the principal jets. This information is added for each event, and for each constituent of the jets, with zero padding until 100.\n",
    "    \n",
    "- **Masses**  \n",
    "    Norm squared of the four-momentum vector of the principal jet of each event.\n",
    "    \n",
    "- **PID**  \n",
    "    The true label for each event (0 for background, 1 for signal)\n",
    "\n",
    "Let's vizualise each variabel\n",
    "#### Data"
   ]
  },
  {
   "cell_type": "code",
   "execution_count": 3,
   "id": "7e423aaa",
   "metadata": {},
   "outputs": [
    {
     "data": {
      "text/plain": [
       "(367212, 100, 7)"
      ]
     },
     "execution_count": 3,
     "metadata": {},
     "output_type": "execute_result"
    }
   ],
   "source": [
    "with h5py.File('..\\data\\\\train_20v_RD_100P_2NJET.h5', 'r') as hdf:\n",
    "    hdfdata = hdf.get('data')\n",
    "    data = np.array(hdfdata)\n",
    "data.shape"
   ]
  },
  {
   "cell_type": "markdown",
   "id": "aa7d28b3",
   "metadata": {},
   "source": [
    "We can get the dataframe for the first event and see the distributions of the variables:"
   ]
  },
  {
   "cell_type": "code",
   "execution_count": 4,
   "id": "05b76e46",
   "metadata": {},
   "outputs": [
    {
     "data": {
      "text/plain": [
       "(100, 7)"
      ]
     },
     "execution_count": 4,
     "metadata": {},
     "output_type": "execute_result"
    }
   ],
   "source": [
    "columns = ['eta', 'phi', 'ratio_pT', 'ratio_E', 'pT', 'E', 'delta_R']\n",
    "df = pd.DataFrame(data[0], columns = columns)\n",
    "df.shape"
   ]
  },
  {
   "cell_type": "code",
   "execution_count": 5,
   "id": "8c918fb5",
   "metadata": {},
   "outputs": [
    {
     "data": {
      "text/plain": [
       "eta        -0.020297\n",
       "phi         0.103812\n",
       "ratio_pT   -3.650434\n",
       "ratio_E    -3.643657\n",
       "pT          1.288967\n",
       "E           1.304195\n",
       "delta_R     0.181066\n",
       "dtype: float64"
      ]
     },
     "execution_count": 5,
     "metadata": {},
     "output_type": "execute_result"
    }
   ],
   "source": [
    "df.mean(axis=0)"
   ]
  },
  {
   "cell_type": "code",
   "execution_count": 6,
   "id": "754176c4",
   "metadata": {},
   "outputs": [
    {
     "data": {
      "image/png": "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\n",
      "text/plain": [
       "<Figure size 432x288 with 9 Axes>"
      ]
     },
     "metadata": {
      "needs_background": "light"
     },
     "output_type": "display_data"
    },
    {
     "data": {
      "image/png": "iVBORw0KGgoAAAANSUhEUgAAAX4AAAEICAYAAABYoZ8gAAAAOXRFWHRTb2Z0d2FyZQBNYXRwbG90bGliIHZlcnNpb24zLjQuMiwgaHR0cHM6Ly9tYXRwbG90bGliLm9yZy8rg+JYAAAACXBIWXMAAAsTAAALEwEAmpwYAAAfkklEQVR4nO3df7QdZX3v8fengdiaxAYJHhICBCu6ClaUpKgVlgeLmkS90V6XBvEXiBHWza262i4RFala6w/oVRdojJhSrj/gehXM1VAVy5G2EIRDE4QAEmKUkDTIb04OLT36vX/MnDDZ2fvs2efM7D37zOe11l5n7z2zn/me59nzPc88M/McRQRmZlYfv9PrAMzMrLuc+M3MasaJ38ysZpz4zcxqxonfzKxmnPjNzGrGid8sJWlQ0o4Jlq+R9JFuxmST5/ZqTb6OPz9J5wPPiYi39joWK56kQeBrEbGwx6FYhyS9EzgzIk7s0vbOBc5NXx4AHAg8kb7+ZUQc2404Jss9fjOrPEkH9DqGrIj4ZETMjojZwFnADeOvq570wYm/KUkLJH1b0q8l/ULSn0taSvIX/s2SRiRtTtc9XdIdkh6XtE3Se3obvbUjabukD0raIulhSX8v6Xczy/9C0v2Sdkk6PfP+pZI+0Zuo6ydtpw9IuhXYI+nDku5J97Utkt6QrveHwBrgpem++Uj6/j7tJendkrZKekjSekkLcsQQ6f6/TdIDkj4rqe/zZt//AkVLG/X/AZuBw4A/Bd4HBPBJ4Ir0r/px6UfuB14LPAM4Hfhfko7vdtzWsdOAVwN/ADwX+HD6/qHA75O0/buAiyUd1JMIDeBU4DXAXOAu4CSS9vlr4GuS5kfEHezb657bWIikVwB/C7wJmA/8Erg8ZwxvAJYAxwMrgDOm8PtUghP//v4YOCQiPhYRT0bENuArwMpmK0fE9yPinkj8BPghyZfTqu2iiLg3Ih4C/oYkwQD8F/CxiPiviNgAjADP61WQxhfSdnoiIr4VETsj4rcRcQVwN3BCznJOA9ZFxC0R8Z/AB0mOEBbl+OynI+KhiPgV8Dme+q70LSf+/R0JLJD0yPiDZIhnoNnKkpZJ2pgePj4CLAfmdS1am6x7M89/CYwf9j8YEWOZZaPA7K5FZY32tpOkt0valNkvn0/+fW0BSTsDEBEjwIMkR3a5Y2Df70rfcuLf373ALyJibuYxJyKWkwz37CXpacC3gQuAgfQQcwOgbgdtHTs88/wIYGevArEJBYCkI0mOvFcDB6f72m08ta+1uzxxJ0mnjrS8WcDBwH05Yph23xUn/v39FHgsPan0e5JmSHq+pD8GdgOLMid3ZgJPA34NjElaBryqN2Fbh/6HpIWSnklyRHdFrwOyCc0iSe6/huSiCpIe/7jdwEJJM1t8/hvA6ZJemHbYPgncGBHbc2z7ryQdJOlw4L1Mg++KE3+DiPgN8DrghcAvgAeAS0hOKH0rXe1BSbdExOPAnwP/B3gYeAuwvtsx26R8g+R8zLb04at1KiwitgAXAjeQJPk/Av41s8o/AbcD/y7pgSaf/zHwEZIj9F0kJ/Wbnrdr4rvAMLAJ+D7w1Un9EhXiG7isdiRtJ7nZ55pex2LVJimAoyNia69jKZJ7/GZmNVOpu+HMzLpJ0knA1c2WpXflTkse6jEzqxkP9ZiZ1UzPhnrmzZsXixYtKqy8PXv2MGvWrMLKm47bGB4efiAiDiml8CaKbuNx3WiHft1Ov7Vxt+q4U1WO684775x6G0dETx6LFy+OIl177bWFljcdtwHcHH3cxuO60Q79up1+a+Nu1XGnqhxXEW3soR4zs5qZVlf1DA+3X2fx4vLjMIP230d/FyfPdTs17vGbmdWME7+ZWc048ZuZ1YwTv5lZzTjxm5nVjBO/mVnNOPGbmdWME7+ZWc048ZuZ1YwTv5lZzTjxm5nVjBO/mVnNOPGbmdWME7+ZWc048ZuZ1cy0mo8/D8/jbWZF6Of//1FYj1/SOkn3S7qtqDLNzKx4RQ71XAosLbA8MzMrQWFDPRFxnaRFRZVnZsWStBT4PDADuCQiPtWw/DTgA+nLEeDsiNjc3SjzDaGUXcbo6NRjqLKujvFLWgWsAhgYGGBoaKiwskdGRhgdnXp5E4U0MjJSaMy92obVj6QZwMXAK4EdwE2S1kfElsxqvwBeHhEPS1oGrAVe3P1orWxdTfwRsZbky8SSJUticHCwsLKHhoaYM2fq5U10MmZoaIgiY+7VNiZL0jrgtcD9EfH8XsczWf18Um4KTgC2RsQ2AEmXAyuAvYk/Iq7PrL8RWNjVCK1randVTzsTJYXR0WT5NEwKeV0KXARc1uM4rHOHAfdmXu9g4t78u4Crmy0o8si92RFuFYZZxsbaH3nnibPog/eRkZFCynHit9x8Hqevqcl70XRF6WSSxH9is+VFHrk3O8ItYox/qnbvbn/k3Ysjx6KGgQtL/JK+CQwC8yTtAD4aEV8tqnzrD2Wexxk31fMgeXtqZW9nvOgundfZARyeeb0Q2Nm4kqQXAJcAyyLiwbKDst4o8qqeU4sqq9/VdAwZKPc8zripngfJ2z5lb2f8O9Cl8zo3AUdLOgq4D1gJvCW7gqQjgO8Ab4uIn5cdkPWOh3rMaiAixiStBn5Acjnnuoi4XdJZ6fI1wHnAwcAXJQGMRcSSXsVs5XHiN6uJiNgAbGh4b03m+ZnAmd2Oy7rPk7RZbul5nBuA50naIeldvY7JzDrnHr/l5vM4VidVuLqoLO7xm5nVjBO/mVnNeKjHzLoqO4Qyfje8dZcTv007TiRmE/NQj5lZzbjHb2ZWkiKOPsu4y989fjOzmnGP36yi6jznk5XLPX4zs5pxj9+sieHhiS81dE/b+pl7/GZmNeMev/WVdj1xM2vPPX4zs5px4jczq5nKDPXU7dK1Vr/v+DDGdPpdzaxaKpP4zcBj92bd4KEeM7OacY/fbBJ8ZGL9zD1+M7Oa6ase/0S9rNFRmDOne7GYmfUr9/jNzGqmr3r8VdGN8d26Xd5q04PPffQHJ37rGicFs2pw4u9j7RKpjwjMrBmP8ZuZ1UxhiV/SUkl3Sdoq6ZyiyrXqcBv3t3btp8QX0uW3Sjq+F3Fa+QoZ6pE0A7gYeCWwA7hJ0vqI2FJE+dZ7buPijQ/VdWOa6Zzttww4On28GPhS+tOmmaJ6/CcAWyNiW0Q8CVwOrCiobKsGt3F/y9N+K4DLIrERmCtpfrcDtfIVdXL3MODezOsdNOkpSFoFrEpfjki6q6DtA8wDHiiwvOm4jSOn8NkqtPG4brRDv26nVRvnab9m6xwG7MquVHAbd6uOO1XluKayHwPFJX41eS/2eyNiLbC2oG3uG4B0c0QsKaPs6baNSep5G+8NpEt1NM22k6f9ut7GVf2+VzyuRVMtp6ihnh3A4ZnXC4GdBZVt1eA27m952s9tXBNFJf6bgKMlHSVpJrASWF9Q2VYNbuP+lqf91gNvT6/ueQnwaETsaizI+l8hQz0RMSZpNfADYAawLiJuL6LsDpQ2vCBpDXBfmdvI6MY2OlaRNh5XZlufBnw5fTlT0m+B0fHlETG7hM2W3uat2k/SWenyNcAGYDmwleR3Pr3suOjy913SdmAA+E3m7UsjYnXDqpXcDylqiC1ivyG8WpP0TuDMiDix4HKDZGfKVvjHIuIzRW7HiiNpEPhaRCzscShWkDTxnxkR1/Q6ll6q3ZQNkg6IiLEebf64iNjao21bgzQJfBl4GzAfuAo4OyL+o4dhmZWuFlM2SNou6QOSbgX2SPqwpHskPS5pi6Q3pOv9IbAGeKmkEUmPpO9fKukTmfLend7d+JCk9ZIW9OL3skKcBrwa+APgucCHexuOWfn6NvFLeqakH0m6O/15UIv1tgMLgPNJhlnmAncBJwG/D/w18DVJ8yPiDuAs4A6SMf0HGm9tl/QK4G9JTpY9BPwJ8L0OY2936/ygpEclbUof53VS/nTTSVtL+llaZzfnLP4i4FjgBuAo4Owm5RYylYHbHSRdkfn9tkva1GK9ybRlXldJeiTzeLek8yXdl4lteYu4ujZtiaTPSroz/c5dKWlui/U6r6uI6MsH8BngnPT5OcCnW6y3HfgVcMYEZW0CVqTPTweeAJ4NzAQ2A1cCn0iXfxX4v8DVJNc9nwz8FljUJt4AHgMeITmx9BjwmrT8YxrWHQS+1+s6rsqjw7ae10G524HXAfek7X1c2pbHZNphB8kJz/H2fglw4yR+hxmZ7Yx/r2rd7sCFwHlFtGWHbX5Kk/fPB/5yqm1YcKyvAg5In3+6qO99RPRvj5/k9vJ/SJ//A/D6NuvvvSNR0tvTv46PpMM5zye5Iw6SRv2P2PfW9iMy5SwADuWpW9uvJUkWL8gR8/Ek86FcExHPiIjv46kP8ui0rTtxIulUBiRt+zDlTGXgKS8yJAl4E/DNXsfSga62YUT8MJ46H7mR5L6KQvRz4h+I9Brj9OezWqwXJJdvXSxplaQjga8Aq4GDI2IucBtP3bU4F/jPzOd3AE/PvN5JkvjvBZA0i6Qe814e1eq2+EYvlbRZ0tWSjs1Z9nTVSVv/UNKwkmkF8lgJPCjpmcC5wL+yf3vkbbOJuN33dRKwOyLubrF8Mm05VavTYZV1LYYTi/geTNYZJEedzXRcV5W+qkfSNSRJttGHOijmZcD1JDv1R0iGcQL4dbqN00l6/OMeA2ZJmpn+VW/0DeCtwHMk3QR8Mv1M3jsc89wWfwtwZESMpGONV5HMmDhtFdXWEbFT0rOAH0m6MyKua/OZfyEZytkGfBe4DnhhY3hNPtfpddC1afeJ2jIivps+P5WJe/uTacs8cS0gSZLZuv8pyVHkx0na5OMkw1BnNBbRpNgpXQ+fp64kfQgYA77eopiO66rSiT8iTmm1TNLu9ITsrvSw+/4WZexMjip5hGSsfoCkUW8gGaK5jKSXN+4fSSag+nclN+9cyL438PxY0o0kY25/R/JH5UHyJf7NJF+emZJWApcAuxs/GxGPZZ5vkPRFSfMiooqTRhWiqLZOf94v6UqSQ/N2yWIjyfjoq9NtfZC0PSJiCFgo6ctMfSqDttMhTJd2n6gtIbmkGvgzoOX/iJtkW04prkx8X6H5BRuFT2mRo67eAbwW+NNIB/SblNF5XZV1YqLsB/BZ9j3h95km68wC5mSeXw8sbVPuASS9v6N46gTOsQ3rvIZ9T/b9tIO485R/KE/dXHcCyclp9brOp2Fbbyc5gVZae7vdm9bFUuAnEyzvuC0LiGl+5vn7gcsn04Yl1NMW4JCi66rnX4IpVMrBwI+Bu9Ofz0zfXwBsSJ8/O22czcDtJIdPecpeDvyc5Az+h9L3zgLOSp+L5J9a3AP8DFjSYeztyl+dxruZpEf6J72u7+nY1mniP6Xs9na771cPl47/zpn3przfTjGm/5227a0kcxbNb4yrVRuWGNNWknMKm9LHmqLqylM2FETSSbQ4+RLlzO9iZjYpTvxmZjXTs5O78+bNi0WLFk25nD179jBr1qypB1SQKsXTGMvw8PADEXFIt7ZfVBuPq1LdZlUprn5s4yrVX5VigebxFNLGvRrnW7x4cRTh2muvLaScolQpnsZYgJujD9u41e9TFVWKqx/buEr1V6VYIprHU0Qb9/MNXGZmNgmVvo6/DMPDEy9f3PLKYusXbuPpz208Ne7xm5nVjBO/mVnNOPGbmdWME7+ZWc048ZuZ1UztrurphnZXHICvOjCruul85ZB7/GZmNePEb2ZWM9NqqCfPEIuZVZv34/K5x29mVjNO/GZmNePEb2ZWM078ZmY148RvZlYzTvxmZjWT63JOSUuBzwMzgEsi4lMNy08DPpC+HAHOjojNRQZq1m+qduen92Mb17bHL2kGcDGwDDgGOFXSMQ2r/QJ4eUS8APg4sLboQM1s8rwfW1aeoZ4TgK0RsS0ingQuB1ZkV4iI6yPi4fTlRmBhsWFa2SQtlXSXpK2Szmmy/DRJt6aP6yUd14s4bdK8H9teeYZ6DgPuzbzeAbx4gvXfBVzdbIGkVcAqgIGBAYaGhvJFOYGRkZG95YyOTrk4phrSyMgIo6PtCyngV28rWzcTyfQGX0nSvjdJWh8RWzKrjfcGH5a0jKQ3ONH3oBRF3NVZRBl9OEFXZffjxu9pL/fjTvJJlfbhTuVJ/GryXjRdUTqZ5AtzYrPlEbGW9PBxyZIlMTg4mC/KCQwNDTFeThV26KGhIebMGSx9O3ljyVnHe3uDAJLGe4N7E39EXJ9Z373B/lPZ/bjxe9rL/biTfFKxfbgjeYZ6dgCHZ14vBHY2riTpBcAlwIqIeLCY8KxLmvUGD5tg/Za9Qass78e2V54e/03A0ZKOAu4DVgJvya4g6QjgO8DbIuLnhUfZRTWdS7+w3mAZw3nj8g6jdUP212p1OF6FoYIM78cZ03Af7kjbxB8RY5JWAz8guQxsXUTcLumsdPka4DzgYOCLkgDGImJJeWFbwTrtDS5r1RssYzhvXN5htG7IJo5Wh+NVSj7ejy0r13X8EbEB2NDw3prM8zOBM4sNzbqoVr3BuvJ+bOP6aj7+Zj2o0VHP3z1V7g1aNzXur96Hu6+vEr+Vx71Bs/rwXD1mZjXjxG9mVjMe6pmEicYjR0dhzpzuxWK9kf0OeIy6P9X5nKF7/GZmNePEb2ZWMx7q6ZEq3dxTJR5Gs37Rz3f5u8dvZlYzTvxmZjXjoZ6K6ufDSMunCtOIW7mqOqTrHr+ZWc048ZuZ1YwTv5lZzTjxm5nVjBO/mVnN+KqePlaHOUXMprN2+3C7f985We7xm5nVjBO/mVnNOPGbmdWME7+ZWc048ZuZ1YwTv5lZzTjxm5nVjBO/mVnNOPGbmdWM79y1rvGdxmbV4B6/mVnNOPGbmdVMrqEeSUuBzwMzgEsi4lMNy5UuXw6MAu+MiFs6CcTDAL3VjTa23vJ+bOPa9vglzQAuBpYBxwCnSjqmYbVlwNHpYxXwpYLjtBK5jac/t7Fl5RnqOQHYGhHbIuJJ4HJgRcM6K4DLIrERmCtpfsGxWnncxtOf29j2yjPUcxhwb+b1DuDFOdY5DNiVXUnSKpKeBMCIpLs6ira5ecADBZRTlCrF0xjLkS3Wq3obj6tS3WZVKa5+bOMq1V+VYoHm8bRq49zyJH41eS8msQ4RsRZYm2ObuUm6OSKWFFnmVFQpng5iqXQb7w2gQnWbVdW4GlS2jatUf1WKBcqLJ89Qzw7g8MzrhcDOSaxj1eU2nv7cxrZXnsR/E3C0pKMkzQRWAusb1lkPvF2JlwCPRsSuxoKsstzG05/b2PZqO9QTEWOSVgM/ILkMbF1E3C7prHT5GmADySVgW0kuAzu9vJD309Ehp6RLgR0R8eE2620HzoyIa8qMp2S5YumDNh5XpbrNqmpce1W8jatUf1WKBcoaNo3YbwhvWptM4pd0PvCciHjrFLc9CPwTyU4VJIfRn4qIv59KuWZmnfCdu923MyJmA88A3g98RdLzehyTmdXItE/8kl4k6RZJj0u6AvjdzLLXStok6RFJ10t6QZPPLwXOBd4saUTS5vT90yXdkZa7TdJ7OokrvVZ6A/AQsN92zczK0neJX9IVabLeJGm7pE0t1tsu6TbgRpJrYZ8JfAv47+ny44F1wHuAg4EvA+slPS1bTkT8I/BJ4IqImB0Rx6WL7gdeC1wIzAG+JOkuSctbxLMUuAw4VNI5kn5H0n9LY9s62fpo2MZnJd0p6VZJV0qa22K97ZJ+ltbhzUVsu0iSlqZ1uVXSOU2WS9IX0uW3pm1ZdkyHS7o2/WN/u6T3NllnUNKjme/neWXH1U+q0q5VbMt2+2ThdRMRffsgSbrntVi2HXgdyTi6Mu9fD3yC5Hb0jzd85i7g5ZnPn5I+Px/4WovtnA/8JXAV8N4W68wA7gFOBX4L/AZ4Mv35vgLr41XAAenzTwOfnqBu5vW6/drU1bOBmcBm4JiGdZYDV5Ncd/4S4MYuxDUfOD59Pgf4eZO4BoHv9boOq/ioUrtWsS3b7ZNF103fzscvScCbgFdMsNqhwH2R1lzql+nPI4F3SPqfmWUzgQU5t78M+CgwfgQwA/hZi9VPIOnV7yL5Q3Rxuv7Bafyfy7PNdiLih5mXG4E3FlFul+2dWgBA0vjUAlsy6+ydWgDYKGmupPlR4qWHadm70uePS7qD5K7WLRN+0MZVpl37tC0LrZu+G+rJOAnYHRF3t1gewF8Bxym5xXzcEenPe4G/iYi5mcfTI+KbLcraKx0O+jZwAfBZYDfwBPA6SQc1+XyzW+EPBT4A/JGk10/we07WGSQ9hGYC+KGk4Ya6qYJW0wZ0uk5pJC0CXkQyjNjopZI2S7pa0rHdiqkPVLJdK9SW7fbJQuumkj1+SdeQJMZGH4qI76bPTwWaJelxLyOZ42Ib8FFJdwMHkfQ8rgW+AlyZbuunwNNJDu+ui4jHG8paCRyRnjOA5A/m7wHPJem930hy/mCEZPjpjMZfqUl8ERFPSroQOI9kqKitPHUj6UPAGPD1FsW8LCJ2SnoW8CNJd0bEdXm23wWFTS1QBkmzSf7ovy8iHmtYfAtwZESMpOd6riKZ6dIq2K4Va8t2+2ShdVPJHn9EnBIRz2/yGE9sBwB/BlwxQRk7I5mF8PUkv+fVwJuB76TLbwbeDVwEPEwyFPPOFsWdCPwbyV/YJyPiGGA18F6S8wLjd0H+G8kflkYT3Qq/juSPyutaVsi+v1e7unkHyUnn0xqGuLJl7Ex/3g9c2SLmXqns1AKSDiRJFF+PiO80Lo+IxyJiJH2+AThQ0ryy4+oTlWrXqrVljn2y2Lrp1smLIh/AUuAnEyyfBczJPL8eWFpSLPMzz98PXN5knQNIjjyO4qkTW8eWVC9bgEOqUDeT/B3a1hXwGvY90fXTLsQlkquyPjfBOofy1E2RJwC/InNhQZ0fVWrXqrVlnn2y6Lqp5FBPDitpGOaRtIDkvwotBwZIhnEg+cJ9I5LLMsvwGUkvJDns2k5yeeg+8USL2+VLiOUi4Gkkh4oAGyPirB7WTcda1ZV6P7XAy4C3AT/TU5cQn0t6ziiN643A2ZLGSM75rIx0r627irVr1dqy6T5ZZt3UbsqGskk6l+RL1OifI2JZt+MxM2vkxG9mVjM9G+qZN29eHHLIIcyaNatXIXRsz549fR3v8PDwAxFxSA9DMrMK6FniX7RoERdccAGDg4O9CqFjQ0NDfR2vpF+2XtvM6qKSl3OamVl5+vWqntIMD7deNjqaLF+8uHvxmJkVzT1+M7OaceI3M6sZJ34zs5px4jczqxknfjOzmnHiNzOrGSd+M7OaceI3M6sZJ34zs5px4jczq5nCEr+kwyVdK+kOSbdLem9RZZuZWXGKnKtnDPiLiLhF0hxgWNKPImJLgdswM7MpKqzHHxG7IuKW9PnjwB0k/5zczMwqpJTZOSUtAl4E3Njw/ipgFcDAwAAjIyMMDQ2VEcKkjY62XjY2NsLu3UNULOSWqli/ZtZ7hSd+SbOBbwPvi4jHsssiYi2wFmDJkiUxe/bsyv1jk4mmZd69e4iBgcG+mZa53/5xjJl1R6FX9Ug6kCTpfz0ivlNk2WZmVowir+oR8FXgjoj4u6LKNTOzYhXZ438Z8DbgFZI2pY/lBZZvZmYFKGyMPyL+BVBR5ZmZWTl8566ZWc3U7p+tT3TVjplZHbjHb2ZWM078ZmY148RvZlYzTvxmZjXjxG9mVjNO/GZmNePEb2ZWM078ZmY101c3cLW7+apfpks2M+sl9/jNzGrGid/MrGaKnI9/naT7Jd1WVJlmZla8Inv8lwJLCyzPzMxKUOR8/Nel/2S99vLMAOoT0WbWK129qkfSKmAVwMDAACMjIwwNDeX+/OjoxMvzFNWujImMjY2we/dQ2+3k2UYHv/akdVq/ZlYPXU38EbEWWAuwZMmSmD17NoODg7k/X8TlnFOZj3/37iEGBgbbrjdnTvuy2sVaxFHD0NBQR/VrZvXgq3rMzGqmMjdw+T9jmZl1R5GXc34TuAF4nqQdkt5VVNlmZlacIq/qObWosszMrDyVGeqxznl4zMwmwyd3zcxqxonfzKxmnPjNzGrGid/MrGac+M3MasaJ38ysZpz4zcxqxonfzKxmptUNXL6hycysPff4zcxqxonfzKxmnPjNzGqmsDF+SUuBzwMzgEsi4lNFlT0d+XyEmfVKIT1+STOAi4FlwDHAqZKOKaJsMzMrVlFDPScAWyNiW0Q8CVwOrCiobDMzK1BRQz2HAfdmXu8AXty4kqRVwKr05cjJJ5/8IPBAQTF0wzz6O94jexWImVVHUYlfTd6L/d6IWAus3fsh6eaIWFJQDKVzvGY2HRQ11LMDODzzeiGws6CyzcysQEUl/puAoyUdJWkmsBJYX1DZZmZWoEKGeiJiTNJq4Ackl3Oui4jbc3x0bftVKsXxmlnfU8R+Q/FmZjaN+c5dM7OaceI3M6uZ0hO/pKWS7pK0VdI5TZZL0hfS5bdKOr7smCaSI95BSY9K2pQ+zutFnJl41km6X9JtLZZXqn7NrPdKTfw5p3JYBhydPlYBXyozpol0MPXEP0fEC9PHx7oa5P4uBZZOsLwy9Wtm1VB2jz/PVA4rgMsisRGYK2l+yXG10ndTT0TEdcBDE6xSpfo1swooO/E3m8rhsEms0y15Y3mppM2SrpZ0bHdCm7Qq1a+ZVUDZ/3oxz1QOuaZ76JI8sdwCHBkRI5KWA1eRDKNUVZXq18wqoOwef56pHKo03UPbWCLisYgYSZ9vAA6UNK97IXasSvVrZhVQduLPM5XDeuDt6dUnLwEejYhdJcfVStt4JR0qSenzE0jq8MGuR5pflerXzCqg1KGeVlM5SDorXb4G2AAsB7YCo8DpZcZUQLxvBM6WNAY8AayMHt7+LOmbwCAwT9IO4KPAgVC9+jWzavCUDWZmNeM7d83MasaJ38ysZpz4zcxqxonfzKxmnPjNzGrGid/MrGac+M3Maub/AxplsXU5QMcxAAAAAElFTkSuQmCC\n",
      "text/plain": [
       "<Figure size 432x288 with 9 Axes>"
      ]
     },
     "metadata": {
      "needs_background": "light"
     },
     "output_type": "display_data"
    },
    {
     "data": {
      "image/png": "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\n",
      "text/plain": [
       "<Figure size 432x288 with 9 Axes>"
      ]
     },
     "metadata": {
      "needs_background": "light"
     },
     "output_type": "display_data"
    }
   ],
   "source": [
    "for ii in range(3):\n",
    "    df_plot = pd.DataFrame(data[ii], columns = columns)\n",
    "    df_plot.hist(facecolor='b', alpha=0.2, density=True);"
   ]
  },
  {
   "cell_type": "markdown",
   "id": "b4254446",
   "metadata": {},
   "source": [
    "To see the distribution of the variables I'll calculate the mean of each variable for each event to have it in a dataframe with the label. Then I can plot the distributions separating signal from background"
   ]
  },
  {
   "cell_type": "code",
   "execution_count": 7,
   "id": "0ee28f5f",
   "metadata": {},
   "outputs": [
    {
     "data": {
      "text/html": [
       "<div>\n",
       "<style scoped>\n",
       "    .dataframe tbody tr th:only-of-type {\n",
       "        vertical-align: middle;\n",
       "    }\n",
       "\n",
       "    .dataframe tbody tr th {\n",
       "        vertical-align: top;\n",
       "    }\n",
       "\n",
       "    .dataframe thead th {\n",
       "        text-align: right;\n",
       "    }\n",
       "</style>\n",
       "<table border=\"1\" class=\"dataframe\">\n",
       "  <thead>\n",
       "    <tr style=\"text-align: right;\">\n",
       "      <th></th>\n",
       "      <th>eta</th>\n",
       "      <th>phi</th>\n",
       "      <th>ratio_pT</th>\n",
       "      <th>ratio_E</th>\n",
       "      <th>pT</th>\n",
       "      <th>E</th>\n",
       "      <th>delta_R</th>\n",
       "      <th>label</th>\n",
       "    </tr>\n",
       "  </thead>\n",
       "  <tbody>\n",
       "    <tr>\n",
       "      <th>0</th>\n",
       "      <td>-0.020297</td>\n",
       "      <td>0.103812</td>\n",
       "      <td>-3.650434</td>\n",
       "      <td>-3.643657</td>\n",
       "      <td>1.288967</td>\n",
       "      <td>1.304195</td>\n",
       "      <td>0.181066</td>\n",
       "      <td>0</td>\n",
       "    </tr>\n",
       "    <tr>\n",
       "      <th>1</th>\n",
       "      <td>-0.102285</td>\n",
       "      <td>0.048621</td>\n",
       "      <td>-5.436459</td>\n",
       "      <td>-5.587739</td>\n",
       "      <td>1.771213</td>\n",
       "      <td>1.982283</td>\n",
       "      <td>0.488595</td>\n",
       "      <td>0</td>\n",
       "    </tr>\n",
       "    <tr>\n",
       "      <th>2</th>\n",
       "      <td>0.057016</td>\n",
       "      <td>0.209191</td>\n",
       "      <td>-5.607668</td>\n",
       "      <td>-5.716557</td>\n",
       "      <td>1.494795</td>\n",
       "      <td>1.525411</td>\n",
       "      <td>0.504339</td>\n",
       "      <td>0</td>\n",
       "    </tr>\n",
       "    <tr>\n",
       "      <th>3</th>\n",
       "      <td>0.012093</td>\n",
       "      <td>-1.364511</td>\n",
       "      <td>-5.692059</td>\n",
       "      <td>-5.702109</td>\n",
       "      <td>1.448475</td>\n",
       "      <td>1.535315</td>\n",
       "      <td>1.602382</td>\n",
       "      <td>0</td>\n",
       "    </tr>\n",
       "    <tr>\n",
       "      <th>4</th>\n",
       "      <td>0.126981</td>\n",
       "      <td>1.849751</td>\n",
       "      <td>-6.124994</td>\n",
       "      <td>-6.222594</td>\n",
       "      <td>1.001034</td>\n",
       "      <td>1.730127</td>\n",
       "      <td>2.085833</td>\n",
       "      <td>0</td>\n",
       "    </tr>\n",
       "  </tbody>\n",
       "</table>\n",
       "</div>"
      ],
      "text/plain": [
       "        eta       phi  ratio_pT   ratio_E        pT         E   delta_R  label\n",
       "0 -0.020297  0.103812 -3.650434 -3.643657  1.288967  1.304195  0.181066      0\n",
       "1 -0.102285  0.048621 -5.436459 -5.587739  1.771213  1.982283  0.488595      0\n",
       "2  0.057016  0.209191 -5.607668 -5.716557  1.494795  1.525411  0.504339      0\n",
       "3  0.012093 -1.364511 -5.692059 -5.702109  1.448475  1.535315  1.602382      0\n",
       "4  0.126981  1.849751 -6.124994 -6.222594  1.001034  1.730127  2.085833      0"
      ]
     },
     "execution_count": 7,
     "metadata": {},
     "output_type": "execute_result"
    }
   ],
   "source": [
    "df = pd.DataFrame(data.mean(axis=(1)), columns = columns)\n",
    "pid = pd.Series(np.array(h5py.File('..\\data\\\\train_20v_RD_100P_2NJET.h5', 'r')['pid']))\n",
    "df = df.assign(label=pid.values)\n",
    "df.head()"
   ]
  },
  {
   "cell_type": "code",
   "execution_count": 8,
   "id": "079fd5eb",
   "metadata": {
    "scrolled": false
   },
   "outputs": [
    {
     "data": {
      "image/png": "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\n",
      "text/plain": [
       "<Figure size 432x288 with 1 Axes>"
      ]
     },
     "metadata": {
      "needs_background": "light"
     },
     "output_type": "display_data"
    },
    {
     "data": {
      "image/png": "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\n",
      "text/plain": [
       "<Figure size 432x288 with 1 Axes>"
      ]
     },
     "metadata": {
      "needs_background": "light"
     },
     "output_type": "display_data"
    },
    {
     "data": {
      "image/png": "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\n",
      "text/plain": [
       "<Figure size 432x288 with 1 Axes>"
      ]
     },
     "metadata": {
      "needs_background": "light"
     },
     "output_type": "display_data"
    },
    {
     "data": {
      "image/png": "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\n",
      "text/plain": [
       "<Figure size 432x288 with 1 Axes>"
      ]
     },
     "metadata": {
      "needs_background": "light"
     },
     "output_type": "display_data"
    },
    {
     "data": {
      "image/png": "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\n",
      "text/plain": [
       "<Figure size 432x288 with 1 Axes>"
      ]
     },
     "metadata": {
      "needs_background": "light"
     },
     "output_type": "display_data"
    },
    {
     "data": {
      "image/png": "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\n",
      "text/plain": [
       "<Figure size 432x288 with 1 Axes>"
      ]
     },
     "metadata": {
      "needs_background": "light"
     },
     "output_type": "display_data"
    },
    {
     "data": {
      "image/png": "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\n",
      "text/plain": [
       "<Figure size 432x288 with 1 Axes>"
      ]
     },
     "metadata": {
      "needs_background": "light"
     },
     "output_type": "display_data"
    }
   ],
   "source": [
    "from benchtools.src.plotools import bkg_sig_hist\n",
    "\n",
    "variables = df.drop('label', axis=1).columns\n",
    "for variable in variables:\n",
    "    bkg_sig_hist(df, variable=variable, label='label')\n",
    "    plt.show()"
   ]
  },
  {
   "cell_type": "markdown",
   "id": "f82318e1",
   "metadata": {},
   "source": [
    "#### Global\n",
    "I'll separate the data for each jet and each variable:"
   ]
  },
  {
   "cell_type": "code",
   "execution_count": 9,
   "id": "e997137e",
   "metadata": {},
   "outputs": [
    {
     "data": {
      "image/png": "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\n",
      "text/plain": [
       "<Figure size 432x288 with 1 Axes>"
      ]
     },
     "metadata": {
      "needs_background": "light"
     },
     "output_type": "display_data"
    },
    {
     "data": {
      "image/png": "iVBORw0KGgoAAAANSUhEUgAAAYIAAAEXCAYAAACgUUN5AAAAOXRFWHRTb2Z0d2FyZQBNYXRwbG90bGliIHZlcnNpb24zLjQuMiwgaHR0cHM6Ly9tYXRwbG90bGliLm9yZy8rg+JYAAAACXBIWXMAAAsTAAALEwEAmpwYAAAjIElEQVR4nO3de5wcVZn/8c+XZCBiEiIkQMg9GDQhEAhDAMmSiMByCWBYZEGQi0q4yOqKsEjW5eau67Ksu7II+SEggixGkZsQEHGJgeWWCwm3wBqRy5AsJAEDIRAZ8vz+qJrYdOZSM9PVPTP1fb9e/ZruqtOnnpqZrqfrnFOnFBGYmVlxbVbrAMzMrLacCMzMCs6JwMys4JwIzMwKzonAzKzgnAjMzArOicByI2mWpH+oUF3DJa2V1Ct9PVfSlytRd1rfPZJOqlR97djuP0paJen/qr3tSij/u1j35ERgHSLpRUnvSnpb0h8lPSzpdEkb/6ci4vSI+HbGug5orUxEvBwRfSPigwrEfpGkn5TVf0hE/LizdbczjmHAN4BxEbF9M+unSmqo4PYGS7pT0nJJIWlk2frLJP0u/Zs+J+nEtuos/7tIOib9X1gnaW6lYrd8ORFYZxweEf2AEcB3gfOAayu9EUm9K11nFzECWB0Rr1dpexuAe4G/amH9O8DhwFbAScD3JX2qndt4A/gPkv8H6y4iwg8/2v0AXgQOKFs2ieRgMz59fT3wj+nzgcBdwB9JDhYPknwRuTF9z7vAWuDvgJFAAF8CXgbmlSzrndY3F/hn4HFgDXAHsHW6birQ0Fy8wMHAn4D30+0tKanvy+nzzYBvAS8BrwM3AFul65riOCmNbRXw9638nrZK378yre9baf0HpPu8IY3j+rL3fbRs/Vpgh/R3/Ej6e1wBXAFsXhZb75J6Nu5XybLeabmRbfyN7wS+0UaZTbaZLv8yMLfW/6d+ZHv4jMAqJiIeBxqAv2hm9TfSdYOA7YCZyVviCyQH1MMjaWK4tOQ9U4CxwF+2sMkTgS+SHCAbgcszxHgv8B1gdrq9Cc0UOzl9fBoYDfQlOeCWmgx8AvgMcIGksS1s8j9JksHodH9OBE6JiPuBQ4DlaRwnl8X5Ttn6vhGxHPgA+DpJYt0n3f6Zbe13e0n6CLAn8Eyl67aux4nAKm05sHUzy98HBgMjIuL9iHgw0q+OrbgoIt6JiHdbWH9jRDydHjT/ATimQp2WxwPfi4gXImItcD5wbFkT1cUR8W5ELAGWAJsklDSWvwbOj4i3I+JF4N+AL3Q0sIhYGBGPRkRjWt//I0kwlTaLZL9+lUPd1sU4EVilDSFp+in3r8Ay4D5JL0j6Zoa6XmnH+peAOpJvyp21Q1pfad29Sc5kmpSO8llHctZQbiCweTN1DeloYJJ2knSXpP+T9BbJ2U0l9rl0G/8KjAeOyZCsrQdwIrCKkbQnyUHuofJ16Tfib0TEaJIOybMlfaZpdQtVtnUQGlbyfDjJWccqkk7PLUvi6kXSJJW13uUkHbmldTcCr7XxvnKr0pjK63o14/ubi/Mq4DlgTET0J2liU7runfTnliXlNxmN1BpJF5M0SR0UEW+1573WfTkRWKdJ6i9pGvBT4CcR8VQzZaZJ+rgkAW+RtHU3DQV9jaQNvb1OkDRO0pbAJcAtkQxj/F+gj6TDJNWRdNBuUfK+14CRpUNdy9wMfF3SKEl9+XOfQmN7gktj+RnwT5L6SRoBnA38pPV3fijObSRtVbKsH8nvb62kTwJnlGxvJUmSOUFSL0lfBHYsrVBSH/78u9gifd207nzg88CBEbG6HbtaWn+vtM7ewGaS+qR/A+vCnAisM34p6W2SJpq/B74HnNJC2THA/SSjXx4BroyIuem6fwa+lV6PcE47tn8jycik/wP6AF8FiIg1JB2o15AcGN8h6ahu8vP052pJi5qp97q07nnAH4D3gL9pR1yl/ibd/gskZ0r/ldbfpoh4jiQpvZD+bnYAziE5WL8N/BCYXfa2U4FzgdXAzsDDZeubRmdBcmZR2v/yHZIzlt+lF4mtlTQzS6wlvpDWeRXJoIF30zitC5ObAM2soySNBn5HMnzUB5NuymcEZtYZ44EXnQS6t556xaaZVYik40mGqZbrRXIxX0ebzayLcNOQmVnBuWnIzKzgul3T0MCBA2PkyJG1DsPMrFtZuHDhqogY1Ny6bpcIRo4cyYIFC2odhplZtyLppZbWuWnIzKzgnAjMzArOicDMrOC6XR+BmXUP77//Pg0NDbz33nu1DqVQ+vTpw9ChQ6mryz7FU26JIJ14ah7JBFe9SSYEu7CszFSSO0v9IV10a0RckldMZlY9DQ0N9OvXj5EjR5LMNWh5iwhWr15NQ0MDo0aNyvy+PM8I1gP7R8TadPbBhyTdExGPlpV7MCKm5RiHmdXAe++95yRQZZLYZpttWLlyZbvel1siSOceaZrlsC59+DJmswJxEqi+jvzOc+0sTucmX0xyA/BfR8RjzRTbR9ISSfdI2rmFemZIWiBpQXsznZmZtS7XzuL0xhy7SRoA3CZpfEQ8XVJkEck9bNdKOhS4nWTe+vJ6rgauBqivr/dZhVk3tHBhZevbY4+2y7z44otMmzaNp59+uu3CLZg7dy6XXXYZd911V4fryEvTBbYDB3bubqVVGTUUEX+UNBc4GHi6ZPlbJc/nSLpS0sCIWFWNuHLT3H98lv9aM+tRIoKIYLPNuvZI/dyikzQoPRNA0keAA0juiFRaZvv01oVImpTG06Fb5JmZNaexsZGTTjqJXXfdlaOPPpp169ZxySWXsOeeezJ+/HhmzJhB0yzMy5Yt44ADDmDChAlMnDiR3//+9x+qa/78+ey+++688MILrFy5kgMPPJCJEydy2mmnMWLECFatWsWLL77I2LFjOfPMM5k4cSKvvPIK5557LuPHj2eXXXZh9uzkpnJz585l2rQ/j5M566yzuP7664Hkm/6FF17IxIkT2WWXXXjuueTQuXr1ag466CB23313TjvtNCo1e3SeaWow8ICkJ4H5JH0Ed0k6XdLpaZmjgaclLQEuB471DS7MrJKef/55ZsyYwZNPPkn//v258sorOeuss5g/fz5PP/0077777sZmn+OPP56vfOUrLFmyhIcffpjBgwdvrOfhhx/m9NNP54477mD06NFcfPHF7L///ixatIjp06fz8ssvf2ibJ554Ik888QQLFixg8eLFLFmyhPvvv59zzz2XFStWtBn3wIEDWbRoEWeccQaXXXYZABdffDGTJ0/miSee4IgjjvjQNjsjz1FDTwK7N7N8VsnzK4Ar8orBzGzYsGHsu+++AJxwwglcfvnljBo1iksvvZR169bxxhtvsPPOOzN16lReffVVpk+fDiQXZjVZunQpM2bM4L777mOHHXYA4KGHHuK2224D4OCDD+ZjH/vYxvIjRoxg77333ljuuOOOo1evXmy33XZMmTKF+fPn079//1bjPuqoowDYY489uPXWWwGYN2/exueHHXbYh7bZGV274crMrJPKh1NK4swzz+SWW27hqaee4tRTT+W9995rtZll8ODB9OnThyeeeGLjstbKf/SjH22zXO/evdmwYcPG1+VXYG+xxRYA9OrVi8bGxhb3pxKcCMysR3v55Zd55JFHALj55puZPHkykDS9rF27lltuuQWA/v37M3ToUG6//XYA1q9fz7p16wAYMGAAd999NzNnzmTu3LkATJ48mZ/97GcA3Hfffbz55pvNbn+//fZj9uzZfPDBB6xcuZJ58+YxadIkRowYwbPPPsv69etZs2YNv/nNb9rcl/3224+bbroJgHvuuafFbbaX5xoys6qo1cC5sWPH8uMf/5jTTjuNMWPGcMYZZ/Dmm2+yyy67MHLkSPbcc8+NZW+88UZOO+00LrjgAurq6vj5z3++cd12223HL3/5Sw455BCuu+46LrzwQo477jhmz57NlClTGDx4MP369WPt2rUf2v706dN55JFHmDBhApK49NJL2X777QE45phj2HXXXRkzZgy7775JS/ommrY5ceJEpkyZwvDhwyvyO+p29yyur6+PLn9jGg8fNWPp0qWMHTu21mHkZv369fTq1YvevXvzyCOPcMYZZ7B48eJahwU0/7uXtDAi6psr7zMCM7MOePnllznmmGPYsGEDm2++OT/84Q9rHVKHORGYmXXAmDFjPtR53J25s9jMrOCcCMzMCs6JwMys4JwIzMwKzp3FZlYdtZiHuhlf/vKXOfvssxk3blxFw+nbt+8m1xB0F04E1eJrC8y6hGuuuabWIXQ5bhoysx7rnXfe4bDDDmPChAmMHz+e2bNnM3XqVJouSr322mvZaaedmDp1KqeeeipnnXUWACeffDJf/epX+dSnPsXo0aM3TkOxdu1aPvOZz2ycHvqOO+6o2b5Vks8IzKzHuvfee9lhhx24++67AVizZg1XXXUVAMuXL+fb3/42ixYtol+/fuy///5MmDBh43tXrFjBQw89xHPPPccRRxzB0UcfTZ8+fbjtttvo378/q1atYu+99+aII47o9vdm9hmBmfVYu+yyC/fffz/nnXceDz74IFtttdXGdY8//jhTpkxh6623pq6ujs997nMfeu9nP/tZNttsM8aNG8drr70GJDOJzpw5k1133ZUDDjiAV199deO67sxnBGbWY+20004sXLiQOXPmcP7553PQQQdtXNfWPGtN00CXlr3ppptYuXIlCxcupK6ujpEjR24yfXR35DMCM+uxli9fzpZbbskJJ5zAOeecw6JFizaumzRpEr/97W958803aWxs5Be/+EWb9a1Zs4Ztt92Wuro6HnjgAV566aU8w68anxF0VqWHxJn1VDUYJffUU09x7rnnstlmm1FXV8dVV13FOeecA8CQIUOYOXMme+21FzvssAPjxo37UNNRc44//ngOP/xw6uvr2W233fjkJz9Zjd3Inaeh7qzOJAIPH7UerDtMQ7127Vr69u1LY2Mj06dP54tf/OLGW1V2Z+2dhtpNQ2ZWWBdddBG77bYb48ePZ9SoUXz2s5+tdUg14aYhMyusyy67rNYhdAm5nRFI6iPpcUlLJD0j6eJmykjS5ZKWSXpS0sS84jGz6utuTc89QUd+53k2Da0H9o+ICcBuwMGS9i4rcwgwJn3MAK7KMR4zq6I+ffqwevVqJ4MqighWr15Nnz592vW+3JqGIvnrN83AVJc+yv8jjgRuSMs+KmmApMERsSKvuMysOoYOHUpDQwMrV66sdSiF0qdPH4YOHdqu9+TaRyCpF7AQ+Djwg4h4rKzIEOCVktcN6bIPJQJJM0jOGBg+fHhu8ZpZ5dTV1TFq1Khah2EZ5DpqKCI+iIjdgKHAJEnjy4o0N0HHJueREXF1RNRHRP2gQYNyiNTMrLiqMnw0Iv4IzAUOLlvVAAwreT0UWF6NmMzMLJHnqKFBkgakzz8CHAA8V1bsTuDEdPTQ3sAa9w+YmVVXnn0Eg4Efp/0EmwE/i4i7JJ0OEBGzgDnAocAyYB1wSo7xdA++gY2ZVVmeo4aeBHZvZvmskucBfCWvGLo8z1NkZl2Ap5gwMys4JwIzs4JzIjAzKzgnAjOzgnMiMDMrOCcCM7OCcyIwMys4JwIzs4JzIjAzKzgnAjOzgnMiMDMrOCcCM7OCcyIwMys4JwIzs4JzIjAzKzgnAjOzgsvzDmVWKS3dwMZ3LjOzCvAZgZlZwTkRmJkVnBOBmVnB5ZYIJA2T9ICkpZKekfS1ZspMlbRG0uL0cUFe8ZiZWfPy7CxuBL4REYsk9QMWSvp1RDxbVu7BiJiWYxxmZtaK3M4IImJFRCxKn78NLAWG5LU9MzPrmKr0EUgaCewOPNbM6n0kLZF0j6SdqxGPmZn9We7XEUjqC/wC+NuIeKts9SJgRESslXQocDswppk6ZgAzAIYPH55vwGZmBZPrGYGkOpIkcFNE3Fq+PiLeioi16fM5QJ2kgc2Uuzoi6iOiftCgQXmGbGZWOHmOGhJwLbA0Ir7XQpnt03JImpTGszqvmMzMbFN5Ng3tC3wBeErS4nTZTGA4QETMAo4GzpDUCLwLHBsRkWNMZmZWJrdEEBEPAWqjzBXAFXnFYGZmbWuzaUjS+GoEYmZmtZGlj2CWpMclnSlpQN4BmZlZdbWZCCJiMnA8MAxYIOm/JB2Ye2RmZlYVmUYNRcTvgG8B5wFTgMslPSfpqDyDMzOz/GXpI9hV0r+TTBGxP3B4RIxNn/97zvGZmVnOsowaugL4ITAzIt5tWhgRyyV9K7fIuqKW7hRmZtaNZUkEt0bEjaULJH0tIr5fvtyqrLnE5NtXmlk7ZekjOLGZZSdXOA4zM6uRFs8IJB0HfB4YJenOklX98DQQZmY9RmtNQw8DK4CBwL+VLH8beDLPoMzMrHpaTAQR8RLwErBP9cIxM7Nqa61p6KGImCzpbaB0IjgBERH9c4/OzMxy19oZweT0Z7/qhWNmZtXW5vBRSTsCDRGxXtJUYFfghoj4Y76hWYdkvdbBw0zNLJVl+OgvgA8kfZzkRjOjgP/KNSozM6uaLIlgQ0Q0AtOB/4iIrwOD8w3LzMyqJUsieD+9puAk4K50WV1+IZmZWTVlSQSnkAwh/aeI+IOkUcBP8g3LzMyqpc3O4oh4Fvhqyes/AN/NMygzM6ueLKOG9gUuAkak5ZuuIxidb2hmZlYNWWYfvRb4OrAQ+CDfcMzMrNqy9BGsiYh7IuL1iFjd9GjrTZKGSXpA0lJJz0j6WjNlJOlyScskPSlpYof2wszMOizLGcEDkv4VuBVY37QwIha18b5G4BsRsUhSP2ChpF+nfQ5NDgHGpI+9gKvSn2ZmViVZEkHTgbm+ZFmQ3KqyRRGxgmT2UiLibUlLgSFAaSI4kuQq5QAelTRA0uD0vWZmVgVZRg19urMbkTQS2B14rGzVEOCVktcN6TInAjOzKsly8/rtJF0r6Z709ThJX8q6AUl9Saap+NuIeKt8dTNvifIFkmZIWiBpwcqVK7Nu2szMMsjSWXw98Ctgh/T1/wJ/m6VySXUkSeCmiLi1mSINwLCS10OB5eWFIuLqiKiPiPpBgwZl2bSZmWWUJREMjIifARsA0nmH2hxGKkkkQ0+XRsT3Wih2J3BiOnpob5IRSm4WMjOroiydxe9I2oa0yabpgJ3hffsCXwCekrQ4XTYTGA4QEbOAOcChwDJgHcl0FmZmVkVZEsHZJN/cd5T0P8Ag4Oi23hQRD9F8H0BpmQC+kiEGMzPLSZZRQ4skTQE+QXJgfz4i3s89MjMzq4rW7ll8VAurdpJEC52/ZmbWzbR2RnB4+nNb4FPAf6evPw3MJbnS2MzMurnWbl5/CoCku4BxTaN5JA0GflCd8MzMLG9Zho+OLBvS+RqwU07xmJlZlWUZNTRX0q+Am0mGkB4LPJBrVGZmVjVZRg2dJWk6sF+66OqIuC3fsMzMrFqynBGQHvh98Dcz64Gy9BGYmVkP5kRgZlZwmZqGmkj6GDAsIp7MKR6rloULN122xx7Vj8PMai7L/QjmSuovaWtgCfAjSS3NJmpmZt1MlqahrdIbyhwF/Cgi9gAOyDcsMzOrliyJoHd6NfExwF05x2NmZlWWpY/gYpI7lD0UEfMljQZ+l29YXUBzbehmZj1QlkSwIiJ2bXoRES+4j8DMrOfI0jT0nxmXmZlZN9Ta/Qj2IZl+epCks0tW9Qd65R2YmZlVR2tNQ5sDfdMy/UqWv0WGW1WamVn30Nr9CH4L/FbS9RHxUhVjMjOzKsrSWbyFpKuBkaXlI2L/vIIyM7PqyZIIfg7MAq4BPshasaTrgGnA6xExvpn1U4E7gD+ki26NiEuy1m9mZpWRJRE0RsRVHaj7euAK4IZWyjwYEdM6ULeZmVVIluGjv5R0pqTBkrZuerT1poiYB7zR+RDNzCxPWc4ITkp/nluyLIDRFdj+PpKWAMuBcyLimeYKSZoBzAAYPnx4BTZrZmZNstyqclRO214EjIiItZIOBW4HxrQQw9XA1QD19fWRUzxmZoWUZRrqLSV9Kx05hKQxkjrdrh8Rb0XE2vT5HKBO0sDO1mtmZu2TpY/gR8CfSK4yBmgA/rGzG5a0vSSlzyelsazubL1mZtY+WfoIdoyIv5Z0HEBEvNt0AG+NpJuBqcBASQ3AhUBdWscskquTz5DUCLwLHBsRbvYxM6uyLIngT5I+QtJBjKQdgfVtvSkijmtj/RUkw0utq/DtK80KKUsiuAi4Fxgm6SZgX+DkHGMyM7MqyjJq6D5JC4G9AQFfi4hVuUdmVmAt3RepvSdolarHerY2E4GkO4GbgTsj4p38QzKz9mrvDfWcIKxUlqahfwP+GviupMeB2cBdEfFerpGZ2SbyvoOqE0QxZWkaapqOuhewP3AqcB3JDWrMzKyby3JGQDpq6HCSM4OJwI/zDCpXHhljXUje3/DNssjSRzAb2Itk5NAPgLkRsSHvwMx6ku5+wHeTUc+W5YzgR8DnIyLzvQjMzKz7aO3m9X8XEZdGxL2SPkdyg5qmdd+JiJlVidCsG+nu3/ytmFo7IzgWuDR9fj4liQA4GHAisB6hI80ePuAnWvs9uNmo+2gtEaiF5829NstNrdqnfbC3omgtEUQLz5t7bdZl+ABu1j6tJYIJkt4i+fb/kfQ56es+uUdmZmZV0WIiiIhe1QzErL38zd+sMjJdUGYF1okL8Np7oHbnolltOBFYl+Fv+Ga14URg7Vd2xF66FNaN9dd5+zBfjdx9ZLlnsZmZ9WBOBGZmBeemIcts6dJaR2BmefAZgZlZweV2RiDpOmAa8HpEjG9mvYDvA4cC64CTI2JRXvG0ysNVzKzA8mwauh64ArihhfWHAGPSx17AVelPqyE3/5gVT25NQxExD3ijlSJHAjdE4lFggKTBecVjZmbNq2Vn8RDglZLXDemyFeUFJc0AZgAMHz68KsGZWT58fUHXU8vO4uamsm52VtOIuDoi6iOiftCgQTmHZWZWLLU8I2gAhpW8Hgosr1EshVPpvoAtl276Nc9XG5t1D7U8I7gTOFGJvYE1EbFJs5CZmeUrz+GjNwNTgYGSGoALgTqAiJgFzCEZOrqMZPjoKXnFYmZmLcstEUTEcW2sD+AreW3fErUcDurmIrPuwVNMmFmX4NFEteMpJszMCs6JwMys4JwIzMwKzonAzKzg3FncQ3iyODPrKCcCq7nmhpmCh5pawqOJ8uemITOzgnMiMDMrODcNWVW11AxkZrXjMwIzs4LzGUE349FBZlZpPiMwMys4JwIzs4Jz05CZdUu+vqByfEZgZlZwPiOwLss3tjGrDieCLsqjg8ysWtw0ZGZWcE4EZmYF50RgZlZwuSYCSQdLel7SMknfbGb9VElrJC1OHxfkGY+ZmW0qt85iSb2AHwAHAg3AfEl3RsSzZUUfjIhpecVhPUtnJq3ziCOz5uU5amgSsCwiXgCQ9FPgSKA8ERSaRweZWa3l2TQ0BHil5HVDuqzcPpKWSLpH0s7NVSRphqQFkhasXLkyj1jNzAorz0SgZpZF2etFwIiImAD8J3B7cxVFxNURUR8R9YMGDapslGZmBZdn01ADMKzk9VBgeWmBiHir5PkcSVdKGhgRq3KMy6zqfJW0dWV5JoL5wBhJo4BXgWOBz5cWkLQ98FpEhKRJJGcoq3OMyQrMB2Oz5uWWCCKiUdJZwK+AXsB1EfGMpNPT9bOAo4EzJDUC7wLHRkR581FVtNRpO3ZsdeMwM6u2XOcaiog5wJyyZbNKnl8BXJFnDF2FRwdZLfgsyLLwlcVmZgXn2Ufb4CYjK6r2XLzns4zuzYnACq0zTSdudrGewomgwtwX0DN1ZmqLrsYJzMo5EZiV6cxBvyclDCsOJ4IO8jd/qxYnF8ubE4FZF1Krg76TTbE5EZjViA++1lU4EZhZj7Kwhfy6h/vDW+QLyszMCq5QZwQLF8KW7uQ1q7iszVwepto1+YzAzKzgnAjMzAquUE1DZtY9+Orn6nIiMLOq8dxOXZObhszMCs6JwMys4Nw0ZGY1VelJ/txc1H4+IzAzKzgnAjOzgnPTkJkVgucgalmuiUDSwcD3gV7ANRHx3bL1StcfCqwDTo6IRXnGZGY9m/sN2i+3RCCpF/AD4ECgAZgv6c6IeLak2CHAmPSxF3BV+tPMrCp8ppDvGcEkYFlEvAAg6afAkUBpIjgSuCEiAnhU0gBJgyNiRY5xmZm1qUgJIs9EMAR4peR1A5t+22+uzBDgQ4lA0gxgRvpyraTnOxjTQGBVB9/blfSU/QDvS1fVU/alp+wHdH5fRrS0Is9EoGaWRQfKEBFXA1d3OiBpQUTUd7aeWusp+wHel66qp+xLT9kPyHdf8hw+2gAMK3k9FFjegTJmZpajPBPBfGCMpFGSNgeOBe4sK3MncKISewNr3D9gZlZduTUNRUSjpLOAX5EMH70uIp6RdHq6fhYwh2To6DKS4aOn5BVPqtPNS11ET9kP8L50VT1lX3rKfkCO+6JkwI6ZmRWVp5gwMys4JwIzs4LrcYlA0sGSnpe0TNI3m1kvSZen65+UNLEWcWaRYV+OT/fhSUkPS5pQizizaGtfSsrtKekDSUdXM772yLIvkqZKWizpGUm/rXaMWWT4/9pK0i8lLUn3I+8+vA6RdJ2k1yU93cL67vSZb2tf8vnMR0SPeZB0Sv8eGA1sDiwBxpWVORS4h+Qahr2Bx2oddyf25VPAx9Lnh3TnfSkp998kgwiOrnXcnfi7DCC5gn54+nrbWsfdwf2YCfxL+nwQ8Aawea1jb2Zf9gMmAk+3sL5bfOYz7ksun/medkawcVqLiPgT0DStRamN01pExKPAAEmDqx1oBm3uS0Q8HBFvpi8fJbkOoyvK8ncB+BvgF8Dr1QyunbLsy+eBWyPiZYCI6Ir7k2U/AuiXTg7ZlyQRNFY3zLZFxDyS2FrSXT7zbe5LXp/5npYIWpqyor1luoL2xvklkm89XVGb+yJpCDAdmFXFuDoiy99lJ+BjkuZKWijpxKpFl12W/bgCGEtykedTwNciYkN1wquo7vKZb6+KfeZ72v0IKjatRReQOU5Jnyb5p5ica0Qdl2Vf/gM4LyI+SL6AdllZ9qU3sAfwGeAjwCOSHo2I/807uHbIsh9/CSwG9gd2BH4t6cGIeCvn2Cqtu3zmM6v0Z76nJYKeNK1Fpjgl7QpcAxwSEaurFFt7ZdmXeuCnaRIYCBwqqTEibq9KhNll/R9bFRHvAO9ImgdMALpSIsiyH6cA342kQXqZpD8AnwQer06IFdNdPvOZ5PGZ72lNQz1pWos290XScOBW4Atd7NtmuTb3JSJGRcTIiBgJ3AKc2QWTAGT7H7sD+AtJvSVtSTLr7tIqx9mWLPvxMslZDZK2Az4BvFDVKCuju3zm25TXZ75HnRFE15zWokMy7ssFwDbAlek36cbogjMtZtyXbiHLvkTEUkn3Ak8CG0juztfscMBayfg3+TZwvaSnSJpXzouILjels6SbganAQEkNwIVAHXSvzzxk2pdcPvOeYsLMrOB6WtOQmZm1kxOBmVnBORGYmRWcE4GZWcE5EZiZFZwTgZlZwTkRWCFJGiDpzE68/3Pp1MwbJNWXLD8wnV/oqfTn/m3UM0fSgPR5q1MQm+XFicCKagDQ4UQAPA0cBcwrW74KODwidgFOAm5srZKIODQi/pi+vB44uBMxmXWIE4EV1XeBHdObx/y7pN9IWpR+kz8SQNLI0m/nks6RdBFARCyNiOfLK42IJyKiaR6bZ4A+krZoKQhJL0oamL63remUzXLRo6aYMGuHbwLjI2I3Sb2BLSPirfSg/Kik8nl3OuKvgCciYn0F6jLLjROBWTKPznck7UcyN9AQYLtOVSjtDPwLcFDnwzPLlxOBGRxPcivGPSLifUkvAn1I7sZV2nzaJ0tlkoYCtwEnRsTvKxyrWcW5j8CK6m2gX/p8K+D1NAl8GhiRLn8N2FbSNmk7/7S2Kk1HAN0NnB8R/1P5sM0qz4nACim9ocf/pJ3BuwH1khaQnB08l5Z5H7gEeAy4q2k5gKTp6TTB+wB3S/pVuuos4OPAP6Qd0YslbdtWOGmdNwOPAJ+Q1CDpS5XZW7PWeRpqsxqR1At4Hdg+TTpmNeEzArPaeYbkpjVOAlZT7iw2qwJJjwHl1xN8LiKeqkU8ZqXcNGRmVnBuGjIzKzgnAjOzgnMiMDMrOCcCM7OC+/+I2urLF2eUIQAAAABJRU5ErkJggg==\n",
      "text/plain": [
       "<Figure size 432x288 with 1 Axes>"
      ]
     },
     "metadata": {
      "needs_background": "light"
     },
     "output_type": "display_data"
    },
    {
     "data": {
      "image/png": "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\n",
      "text/plain": [
       "<Figure size 432x288 with 1 Axes>"
      ]
     },
     "metadata": {
      "needs_background": "light"
     },
     "output_type": "display_data"
    },
    {
     "data": {
      "image/png": "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\n",
      "text/plain": [
       "<Figure size 432x288 with 1 Axes>"
      ]
     },
     "metadata": {
      "needs_background": "light"
     },
     "output_type": "display_data"
    }
   ],
   "source": [
    "columns=['mass_j1', 'tau12_j1', 'mass_j2', 'tau12_j2']\n",
    "df_global = pd.DataFrame(np.array(h5py.File('..\\data\\\\train_20v_RD_100P_2NJET.h5', 'r')['global']), columns=columns)\n",
    "df_global=df_global.assign(label=pid.values)\n",
    "\n",
    "for variable in columns:\n",
    "    bkg_sig_hist(df_global, variable=variable, label='label')\n",
    "    plt.show()"
   ]
  },
  {
   "cell_type": "markdown",
   "id": "c8522428",
   "metadata": {},
   "source": [
    "#### Label\n",
    "For this variable I'll separate the rows for signal and background. Then I'll plot all the values in a histogram"
   ]
  },
  {
   "cell_type": "code",
   "execution_count": 10,
   "id": "dd62550f",
   "metadata": {},
   "outputs": [
    {
     "data": {
      "image/png": "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\n",
      "text/plain": [
       "<Figure size 432x288 with 1 Axes>"
      ]
     },
     "metadata": {
      "needs_background": "light"
     },
     "output_type": "display_data"
    }
   ],
   "source": [
    "# Loading the label dataframe\n",
    "df_label = pd.DataFrame(np.array(h5py.File('..\\data\\\\train_20v_RD_100P_2NJET.h5', 'r')['label']))\n",
    "# Adding the labels\n",
    "df_label = df_label.assign(label=pid.values)\n",
    "# Separating signal and background\n",
    "df_label_bkg = df_label.loc[df_label['label']==0]\n",
    "df_label_sig = df_label.loc[df_label['label']==1]\n",
    "# Plotting \n",
    "# 'stack' to plot all the values of each dataframe on the histogram\n",
    "df_label_bkg.drop('label', axis=1).stack().plot.hist(facecolor='b', alpha=0.2, label='background', density=True)\n",
    "df_label_sig.drop('label', axis=1).stack().plot.hist(facecolor='r', alpha=0.2, label='signal', density=True)\n",
    "plt.legend(loc='upper right')\n",
    "plt.title('Distribution of the label variable');"
   ]
  },
  {
   "cell_type": "markdown",
   "id": "2ac1a869",
   "metadata": {},
   "source": [
    "I'll try to substitute the number for the range with the mass values"
   ]
  },
  {
   "cell_type": "code",
   "execution_count": 11,
   "id": "872e1028",
   "metadata": {},
   "outputs": [
    {
     "data": {
      "text/html": [
       "<div>\n",
       "<style scoped>\n",
       "    .dataframe tbody tr th:only-of-type {\n",
       "        vertical-align: middle;\n",
       "    }\n",
       "\n",
       "    .dataframe tbody tr th {\n",
       "        vertical-align: top;\n",
       "    }\n",
       "\n",
       "    .dataframe thead th {\n",
       "        text-align: right;\n",
       "    }\n",
       "</style>\n",
       "<table border=\"1\" class=\"dataframe\">\n",
       "  <thead>\n",
       "    <tr style=\"text-align: right;\">\n",
       "      <th></th>\n",
       "      <th>value</th>\n",
       "      <th>mass</th>\n",
       "    </tr>\n",
       "  </thead>\n",
       "  <tbody>\n",
       "    <tr>\n",
       "      <th>0</th>\n",
       "      <td>0</td>\n",
       "      <td>10.000000</td>\n",
       "    </tr>\n",
       "    <tr>\n",
       "      <th>1</th>\n",
       "      <td>1</td>\n",
       "      <td>62.105263</td>\n",
       "    </tr>\n",
       "    <tr>\n",
       "      <th>2</th>\n",
       "      <td>2</td>\n",
       "      <td>114.210526</td>\n",
       "    </tr>\n",
       "    <tr>\n",
       "      <th>3</th>\n",
       "      <td>3</td>\n",
       "      <td>166.315789</td>\n",
       "    </tr>\n",
       "    <tr>\n",
       "      <th>4</th>\n",
       "      <td>4</td>\n",
       "      <td>218.421053</td>\n",
       "    </tr>\n",
       "    <tr>\n",
       "      <th>5</th>\n",
       "      <td>5</td>\n",
       "      <td>270.526316</td>\n",
       "    </tr>\n",
       "    <tr>\n",
       "      <th>6</th>\n",
       "      <td>6</td>\n",
       "      <td>322.631579</td>\n",
       "    </tr>\n",
       "    <tr>\n",
       "      <th>7</th>\n",
       "      <td>7</td>\n",
       "      <td>374.736842</td>\n",
       "    </tr>\n",
       "    <tr>\n",
       "      <th>8</th>\n",
       "      <td>8</td>\n",
       "      <td>426.842105</td>\n",
       "    </tr>\n",
       "    <tr>\n",
       "      <th>9</th>\n",
       "      <td>9</td>\n",
       "      <td>478.947368</td>\n",
       "    </tr>\n",
       "    <tr>\n",
       "      <th>10</th>\n",
       "      <td>10</td>\n",
       "      <td>531.052632</td>\n",
       "    </tr>\n",
       "    <tr>\n",
       "      <th>11</th>\n",
       "      <td>11</td>\n",
       "      <td>583.157895</td>\n",
       "    </tr>\n",
       "    <tr>\n",
       "      <th>12</th>\n",
       "      <td>12</td>\n",
       "      <td>635.263158</td>\n",
       "    </tr>\n",
       "    <tr>\n",
       "      <th>13</th>\n",
       "      <td>13</td>\n",
       "      <td>687.368421</td>\n",
       "    </tr>\n",
       "    <tr>\n",
       "      <th>14</th>\n",
       "      <td>14</td>\n",
       "      <td>739.473684</td>\n",
       "    </tr>\n",
       "    <tr>\n",
       "      <th>15</th>\n",
       "      <td>15</td>\n",
       "      <td>791.578947</td>\n",
       "    </tr>\n",
       "    <tr>\n",
       "      <th>16</th>\n",
       "      <td>16</td>\n",
       "      <td>843.684211</td>\n",
       "    </tr>\n",
       "    <tr>\n",
       "      <th>17</th>\n",
       "      <td>17</td>\n",
       "      <td>895.789474</td>\n",
       "    </tr>\n",
       "    <tr>\n",
       "      <th>18</th>\n",
       "      <td>18</td>\n",
       "      <td>947.894737</td>\n",
       "    </tr>\n",
       "    <tr>\n",
       "      <th>19</th>\n",
       "      <td>19</td>\n",
       "      <td>1000.000000</td>\n",
       "    </tr>\n",
       "  </tbody>\n",
       "</table>\n",
       "</div>"
      ],
      "text/plain": [
       "    value         mass\n",
       "0       0    10.000000\n",
       "1       1    62.105263\n",
       "2       2   114.210526\n",
       "3       3   166.315789\n",
       "4       4   218.421053\n",
       "5       5   270.526316\n",
       "6       6   322.631579\n",
       "7       7   374.736842\n",
       "8       8   426.842105\n",
       "9       9   478.947368\n",
       "10     10   531.052632\n",
       "11     11   583.157895\n",
       "12     12   635.263158\n",
       "13     13   687.368421\n",
       "14     14   739.473684\n",
       "15     15   791.578947\n",
       "16     16   843.684211\n",
       "17     17   895.789474\n",
       "18     18   947.894737\n",
       "19     19  1000.000000"
      ]
     },
     "execution_count": 11,
     "metadata": {},
     "output_type": "execute_result"
    }
   ],
   "source": [
    "MASSRANGE = np.linspace(10,1000,20)\n",
    "MASSRANGE = np.append(MASSRANGE, [100000])\n",
    "map_list = []\n",
    "for x in enumerate(MASSRANGE):\n",
    "    if x[0]==20: break\n",
    "    map_list.append(x)\n",
    "df_map = pd.DataFrame(map_list, columns=['value', 'mass'])\n",
    "df_map.head()"
   ]
  },
  {
   "cell_type": "code",
   "execution_count": 12,
   "id": "306b511e",
   "metadata": {},
   "outputs": [
    {
     "data": {
      "text/html": [
       "<div>\n",
       "<style scoped>\n",
       "    .dataframe tbody tr th:only-of-type {\n",
       "        vertical-align: middle;\n",
       "    }\n",
       "\n",
       "    .dataframe tbody tr th {\n",
       "        vertical-align: top;\n",
       "    }\n",
       "\n",
       "    .dataframe thead th {\n",
       "        text-align: right;\n",
       "    }\n",
       "</style>\n",
       "<table border=\"1\" class=\"dataframe\">\n",
       "  <thead>\n",
       "    <tr style=\"text-align: right;\">\n",
       "      <th></th>\n",
       "      <th>0</th>\n",
       "      <th>1</th>\n",
       "      <th>2</th>\n",
       "      <th>3</th>\n",
       "      <th>4</th>\n",
       "      <th>5</th>\n",
       "      <th>6</th>\n",
       "      <th>7</th>\n",
       "      <th>8</th>\n",
       "      <th>9</th>\n",
       "      <th>...</th>\n",
       "      <th>91</th>\n",
       "      <th>92</th>\n",
       "      <th>93</th>\n",
       "      <th>94</th>\n",
       "      <th>95</th>\n",
       "      <th>96</th>\n",
       "      <th>97</th>\n",
       "      <th>98</th>\n",
       "      <th>99</th>\n",
       "      <th>label</th>\n",
       "    </tr>\n",
       "  </thead>\n",
       "  <tbody>\n",
       "    <tr>\n",
       "      <th>0</th>\n",
       "      <td>114.210526</td>\n",
       "      <td>114.210526</td>\n",
       "      <td>114.210526</td>\n",
       "      <td>114.210526</td>\n",
       "      <td>114.210526</td>\n",
       "      <td>114.210526</td>\n",
       "      <td>114.210526</td>\n",
       "      <td>114.210526</td>\n",
       "      <td>114.210526</td>\n",
       "      <td>114.210526</td>\n",
       "      <td>...</td>\n",
       "      <td>10.000000</td>\n",
       "      <td>10.000000</td>\n",
       "      <td>10.000000</td>\n",
       "      <td>10.000000</td>\n",
       "      <td>10.000000</td>\n",
       "      <td>10.000000</td>\n",
       "      <td>10.000000</td>\n",
       "      <td>10.000000</td>\n",
       "      <td>10.000000</td>\n",
       "      <td>0</td>\n",
       "    </tr>\n",
       "    <tr>\n",
       "      <th>1</th>\n",
       "      <td>635.263158</td>\n",
       "      <td>635.263158</td>\n",
       "      <td>635.263158</td>\n",
       "      <td>635.263158</td>\n",
       "      <td>635.263158</td>\n",
       "      <td>635.263158</td>\n",
       "      <td>635.263158</td>\n",
       "      <td>635.263158</td>\n",
       "      <td>635.263158</td>\n",
       "      <td>635.263158</td>\n",
       "      <td>...</td>\n",
       "      <td>478.947368</td>\n",
       "      <td>478.947368</td>\n",
       "      <td>478.947368</td>\n",
       "      <td>478.947368</td>\n",
       "      <td>478.947368</td>\n",
       "      <td>478.947368</td>\n",
       "      <td>478.947368</td>\n",
       "      <td>478.947368</td>\n",
       "      <td>478.947368</td>\n",
       "      <td>0</td>\n",
       "    </tr>\n",
       "    <tr>\n",
       "      <th>2</th>\n",
       "      <td>687.368421</td>\n",
       "      <td>687.368421</td>\n",
       "      <td>687.368421</td>\n",
       "      <td>687.368421</td>\n",
       "      <td>687.368421</td>\n",
       "      <td>687.368421</td>\n",
       "      <td>687.368421</td>\n",
       "      <td>687.368421</td>\n",
       "      <td>687.368421</td>\n",
       "      <td>687.368421</td>\n",
       "      <td>...</td>\n",
       "      <td>687.368421</td>\n",
       "      <td>687.368421</td>\n",
       "      <td>687.368421</td>\n",
       "      <td>687.368421</td>\n",
       "      <td>687.368421</td>\n",
       "      <td>687.368421</td>\n",
       "      <td>687.368421</td>\n",
       "      <td>687.368421</td>\n",
       "      <td>687.368421</td>\n",
       "      <td>0</td>\n",
       "    </tr>\n",
       "    <tr>\n",
       "      <th>3</th>\n",
       "      <td>531.052632</td>\n",
       "      <td>531.052632</td>\n",
       "      <td>531.052632</td>\n",
       "      <td>531.052632</td>\n",
       "      <td>531.052632</td>\n",
       "      <td>531.052632</td>\n",
       "      <td>531.052632</td>\n",
       "      <td>531.052632</td>\n",
       "      <td>531.052632</td>\n",
       "      <td>531.052632</td>\n",
       "      <td>...</td>\n",
       "      <td>218.421053</td>\n",
       "      <td>218.421053</td>\n",
       "      <td>218.421053</td>\n",
       "      <td>218.421053</td>\n",
       "      <td>218.421053</td>\n",
       "      <td>218.421053</td>\n",
       "      <td>218.421053</td>\n",
       "      <td>218.421053</td>\n",
       "      <td>218.421053</td>\n",
       "      <td>0</td>\n",
       "    </tr>\n",
       "    <tr>\n",
       "      <th>4</th>\n",
       "      <td>635.263158</td>\n",
       "      <td>635.263158</td>\n",
       "      <td>635.263158</td>\n",
       "      <td>635.263158</td>\n",
       "      <td>635.263158</td>\n",
       "      <td>635.263158</td>\n",
       "      <td>635.263158</td>\n",
       "      <td>635.263158</td>\n",
       "      <td>635.263158</td>\n",
       "      <td>635.263158</td>\n",
       "      <td>...</td>\n",
       "      <td>635.263158</td>\n",
       "      <td>635.263158</td>\n",
       "      <td>635.263158</td>\n",
       "      <td>635.263158</td>\n",
       "      <td>635.263158</td>\n",
       "      <td>635.263158</td>\n",
       "      <td>635.263158</td>\n",
       "      <td>635.263158</td>\n",
       "      <td>635.263158</td>\n",
       "      <td>0</td>\n",
       "    </tr>\n",
       "  </tbody>\n",
       "</table>\n",
       "<p>5 rows × 101 columns</p>\n",
       "</div>"
      ],
      "text/plain": [
       "            0           1           2           3           4           5  \\\n",
       "0  114.210526  114.210526  114.210526  114.210526  114.210526  114.210526   \n",
       "1  635.263158  635.263158  635.263158  635.263158  635.263158  635.263158   \n",
       "2  687.368421  687.368421  687.368421  687.368421  687.368421  687.368421   \n",
       "3  531.052632  531.052632  531.052632  531.052632  531.052632  531.052632   \n",
       "4  635.263158  635.263158  635.263158  635.263158  635.263158  635.263158   \n",
       "\n",
       "            6           7           8           9  ...          91  \\\n",
       "0  114.210526  114.210526  114.210526  114.210526  ...   10.000000   \n",
       "1  635.263158  635.263158  635.263158  635.263158  ...  478.947368   \n",
       "2  687.368421  687.368421  687.368421  687.368421  ...  687.368421   \n",
       "3  531.052632  531.052632  531.052632  531.052632  ...  218.421053   \n",
       "4  635.263158  635.263158  635.263158  635.263158  ...  635.263158   \n",
       "\n",
       "           92          93          94          95          96          97  \\\n",
       "0   10.000000   10.000000   10.000000   10.000000   10.000000   10.000000   \n",
       "1  478.947368  478.947368  478.947368  478.947368  478.947368  478.947368   \n",
       "2  687.368421  687.368421  687.368421  687.368421  687.368421  687.368421   \n",
       "3  218.421053  218.421053  218.421053  218.421053  218.421053  218.421053   \n",
       "4  635.263158  635.263158  635.263158  635.263158  635.263158  635.263158   \n",
       "\n",
       "           98          99  label  \n",
       "0   10.000000   10.000000      0  \n",
       "1  478.947368  478.947368      0  \n",
       "2  687.368421  687.368421      0  \n",
       "3  218.421053  218.421053      0  \n",
       "4  635.263158  635.263158      0  \n",
       "\n",
       "[5 rows x 101 columns]"
      ]
     },
     "execution_count": 12,
     "metadata": {},
     "output_type": "execute_result"
    }
   ],
   "source": [
    "df_map = df_map.set_index(\"value\")[\"mass\"]\n",
    "df_label_map = pd.DataFrame()\n",
    "# Mapping the values \n",
    "for col in df_label.drop('label', axis=1):\n",
    "    df_label_map[col] = df_label[col].map(df_map).fillna(df_label[col])\n",
    "# Adding the labels\n",
    "df_label_map = df_label_map.assign(label=pid.values)\n",
    "df_label_map.head()"
   ]
  },
  {
   "cell_type": "code",
   "execution_count": 13,
   "id": "7acff34b",
   "metadata": {
    "scrolled": true
   },
   "outputs": [
    {
     "data": {
      "image/png": "iVBORw0KGgoAAAANSUhEUgAAAZUAAAEICAYAAACXo2mmAAAAOXRFWHRTb2Z0d2FyZQBNYXRwbG90bGliIHZlcnNpb24zLjQuMiwgaHR0cHM6Ly9tYXRwbG90bGliLm9yZy8rg+JYAAAACXBIWXMAAAsTAAALEwEAmpwYAAAoPklEQVR4nO3deZxU1Z338c9XBIkKwQUNm4BJm4C4gC0wiVHjEsEFJFGjo3FJIqIyzozRUTRPXDI+Y4yTxUQlxjiJRqNGoxLFuGSixldkZHFFJEFUaGFMiwZFFG38PX/c0zxFUd19u7lF0833/XrVi6p7zzn3nOqmfn2WOlcRgZmZWRE2a+8KmJlZ5+GgYmZmhXFQMTOzwjiomJlZYRxUzMysMA4qZmZWGAcVazNJUyX9n4LK2knSCkld0utHJH2jiLJTefdLOqmo8lpx3X+X9Iak/82Z/mJJvyro2r+Q9O8507b5/S76Z9XCteZK2j9n2pD0qSbOnSzp8SLrZpnN27sCtnGS9AqwI9AArAZeAG4ErouIjwAiYlIryvpGRDzcVJqIWARsvX61XnO9i4FPRcQJJeWPLaLsVtZjAPBNYGBE/K3C+f2BX0VE/w1ctQ4rInZt7zpY89xTseYcERE9gIHA5cB5wM+LvoikzvrHzUBgWaWAYq3TiX9HOh0HFWtRRCyPiGnAV4CTJA2DtYdXJG0v6V5Jf5f0pqQ/SdpM0k3ATsDv0vDWv0kalIYmvi5pEfDfJcdKPzw+KelJScsl3SNp23St/SXVldZR0iuSDpI0BrgA+Eq63jPp/JohmlSvb0l6VdLfJN0o6ePpXGM9TpK0KA1dXdjUeyPp4yl/fSrvW6n8g4CHgL6pHr8oy7cVcH/J+RWS+qbT3VKZ76ThntqSfH0l3Zmu97Kks/L8DCVtk34+9ZLeSs/Le0gV3++Uf7SkP6ef7zN5hqBSXd8rK2d4ek+7SvqkpP+WtCwdu1lSr5K0r0g6T9KzwLuSNm/8OafzIyU9keq0VNJPJHUrq8ahkham8r8nqeJnnqTPSHoo/e7Ol3RMS+2zyhxULLeIeBKoAz5f4fQ307neZMNmF2RZ4qvAIrJez9YRcUVJnv2AIcAhTVzyROBrQF+yYbirctTx98D/BW5L19ujQrKT0+MLwM5kw24/KUuzD/Bp4EDg25KGNHHJHwMfT+Xsl+p8ShrqGwssSfU4uaye75ad3zoilqTT44BbgV7AtMa6pQ/E3wHPAP1S3f5FUlPvX6nNgP8i6z3tBLxXoc0V329J/YD7gH8HtgXOAe6U1Lu5C6b2PAF8ueTwPwJ3RMSHgID/SNcbAgwALi4r5jjgMKBXRDSUnVsN/CuwPfAPZO/HGWVpJgC1wAhgfGrfWlKAfwi4BdghXfMaSR5qawMHFWutJWQfLOU+BPqQzR98GBF/ipY3lrs4It6NiPeaOH9TRDyfPoD/D3CM0kT+ejoe+H5ELIyIFcAU4NiyXtIlEfFeRDxD9iG+TnBKdfkKMCUi3omIV4D/BL66nvV7PCKmR8Rq4KaSa+8N9I6ISyPig4hYCPwMOLalAiNiWUTcGRErI+Id4DKyIFiqqff7BGB6qtNHEfEQMAs4NEdbbiH7kEaSUl1vSXVaEBEPRcSqiKgHvl+hTldFxOJKvyMRMTsiZkREQ3rvf1oh/3cj4s00Z/fDxrqUORx4JSL+K5U1B7gTOCpH+6yMxymttfoBb1Y4/j2yvzIfzD47uC4iLm+hrMWtOP8q0JXsr9L11TeVV1r25mQ9rEalq7VWUnkRwfZAtwpl9VvP+pVfu3sKeAPJhsv+XnK+C/CnlgqUtCXwA2AMsE063ENSlxS8oOn3eyBwtKQjSs53Bf6Yoy13AD9OQ3s1QDTWV9IOZL2hzwM9yP7Ifassf5O/I5J2IQtEtcCWZD/D2c3kf5XsZ19uIDCq7H3dnCygWyu5p2K5Sdqb7ANznaWY6S/1b0bEzsARwNmSDmw83USRLfVkBpQ834msN/QG8C7Zh0hjvbqQDbvlLXcJ2QdJadkNwOst5Cv3RqpTeVmv5czf2i3CFwMvR0SvkkePiMjTY/gm2XDeqIjoCeybjqskTVPv92KyXkzpdbfK8UcDEfF34EHgGLKhr1+X9GD/g+w92D3V6YSy+kDz79G1wItATcp/QYX85W1awroWA4+WtW/riDi9pfbZuhxUrEWSeko6nGyc/1cR8VyFNIdL+lQa4nibbLy78S/g18nmHFrrBElD01/Zl5KNxa8G/kL21/thkroC3wK2KMn3OjCoqUlZ4NfAv0oaLGlr/v8cTPmYfbNSXW4HLpPUQ9JA4Gwg7/dMXge2a1wkkMOTwNtp8vpjkrpIGpaCfUt6kM2j/D1NnF9UIU1T7/evgCMkHZKu2V3ZYom8S6FvIZuv+XJ6XlqnFalO/YBzc5ZXmv9tYIWkzwCVgsC5aZHCAOCfgdsqpLkX2EXSV9MCgq6S9m5mHs2a4aBizfmdpHfI/pK7kGyo4ZQm0tYAD5N9SDwBXBMRj6Rz/wF8K63SOacV178J+AXZcFB34CzIVqORTcheT9YreJdskUCj36R/l0maU6HcG1LZjwEvA+8D/9SKepX6p3T9hWQ9uFtS+S2KiBfJAtzC9N5UGpopTb+arBe4Z6r3G2TvQZ6g9EPgYynPDOD3FdI09X4vJpvkvgCoJ/t9OJf8nx/TyH4/Xk9zVI0uIZtAX062EOC3OctrdA5Z7+cdsrmlSgHjHrIhsafTNdZZEp/mmL5INt+zhKz932XtP1QsJ/kmXWZmVhT3VMzMrDAOKmZmVhgHFTMzK4yDipmZFWaT/vLj9ttvH4MGDWrvapiZdSizZ89+IyIqbtOzSQeVQYMGMWvWrPauhplZhyLp1abOefjLzMwK46BiZmaFcVAxM7PCbNJzKmbWMXz44YfU1dXx/vvvt3dVNindu3enf//+dO3aNXeeqgYVZXfh+xHZ9tzXl+9qmjYf/BHZfRlWAienexnkyXsO2XbrvSPijXRsCvB1so0Mz4qIB6rYPDPbQOrq6ujRoweDBg0i3VrBqiwiWLZsGXV1dQwePDh3vqoNf6XtyK8mu7vdUOA4SUPLko0l22iuBphItpV1i3nTjqMHk91RsPHYULIN4XYlu2fENQXd0MnM2tn777/Pdttt54CyAUliu+22a3XvsJpzKiOBBenueh+QbZs+vizNeODGyMwAeknqkyPvD4B/Y+17LYwHbk13kXsZWJDKMbNOwAFlw2vLe17NoNKPte+6Vse6d8RrKk2TeSWNA14r20I77/WQNFHSLEmz6uvr87fGzMxaVM05lUohrnyf/abSVDyebh50Idm9D9pyPSLiOuA6gNraWu/7b9YBzS6/afB62muvltO88sorHH744Tz//PNtvs4jjzzClVdeyb333tvmMqql8cvg22+/fnfsrmZQqWPtW3n2Z91beTaVplsTxz8JDAaeSd2y/sAcSSNzXs+s4yj6kzOvPJ+wtsFFBBHBZptt3N8EqWbtZgI16Zat3cgm0aeVpZkGnKjMaGB5RCxtKm9EPBcRO0TEoIgYRBZIRkTE/6ayjpW0haTBZJP/T1axfWa2iWloaOCkk05i991356ijjmLlypVceuml7L333gwbNoyJEyfSeOPDBQsWcNBBB7HHHnswYsQIXnrppbXKmjlzJsOHD2fhwoXU19dz8MEHM2LECE477TQGDhzIG2+8wSuvvMKQIUM444wzGDFiBIsXL+bcc89l2LBh7Lbbbtx2W3azy0ceeYTDDz98TdmTJ0/mF7/4BZD1QC666CJGjBjBbrvtxosvvgjAsmXL+OIXv8jw4cM57bTTKOqGjVULKul+35OBB4B5wO0RMVfSJEmTUrLpZLdhXUB2O9AzmsvbwvXmkt0v/AWyW6WemW6/amZWiPnz5zNx4kSeffZZevbsyTXXXMPkyZOZOXMmzz//PO+9996aoa3jjz+eM888k2eeeYY///nP9OnTZ005f/7zn5k0aRL33HMPO++8M5dccgkHHHAAc+bMYcKECSxatGita5544ok89dRTzJo1i6effppnnnmGhx9+mHPPPZelS5e2WO/tt9+eOXPmcPrpp3PllVcCcMkll7DPPvvw1FNPMW7cuLWuuT6q+j2ViJhOFjhKj00teR7AmXnzVkgzqOz1ZcBlbayumVmzBgwYwOc+9zkATjjhBK666ioGDx7MFVdcwcqVK3nzzTfZdddd2X///XnttdeYMGECkH2JsNG8efOYOHEiDz74IH379gXg8ccf56677gJgzJgxbLPNNmvSDxw4kNGjR69Jd9xxx9GlSxd23HFH9ttvP2bOnEnPnj2brfeXvvQlAPbaay9++9vfAvDYY4+teX7YYYetdc31sXEPzpmZbUTKl9hK4owzzuCOO+7gueee49RTT+X9999vdiipT58+dO/enaeeemrNsebSb7XVVi2m23zzzfnoo4/WvC7/bskWW2wBQJcuXWhoaGiyPUVwUDEzy2nRokU88cQTAPz6179mn332AbLhpRUrVnDHHXcA0LNnT/r378/dd98NwKpVq1i5ciUAvXr14r777uOCCy7gkUceAWCfffbh9ttvB+DBBx/krbfeqnj9fffdl9tuu43Vq1dTX1/PY489xsiRIxk4cCAvvPACq1atYvny5fzhD39osS377rsvN998MwD3339/k9dsLe/9ZWYdTnstUBsyZAi//OUvOe2006ipqeH000/nrbfeYrfddmPQoEHsvffea9LedNNNnHbaaXz729+ma9eu/OY3v1lzbscdd+R3v/sdY8eO5YYbbuCiiy7iuOOO47bbbmO//fajT58+9OjRgxUrVqx1/QkTJvDEE0+wxx57IIkrrriCT3ziEwAcc8wx7L777tTU1DB8+PAW29J4zREjRrDffvux0047FfIeqagZ/46otrY2fJMu22h5SfEa8+bNY8iQIe1djapZtWoVXbp0YfPNN+eJJ57g9NNP5+mnn27vagGV33tJsyOitlJ691TMzNrZokWLOOaYY/joo4/o1q0bP/vZz9q7Sm3moGJm1s5qamrWmrjvyDxRb2ZmhXFQMTOzwjiomJlZYRxUzMysMJ6oN7OOpz32vq/gG9/4BmeffTZDh5bf1Hb9bL311ut8R6WjcFAxM2uj66+/vr2rsNHx8JeZWQ7vvvsuhx12GHvssQfDhg3jtttuY//996fxC9Q///nP2WWXXdh///059dRTmTx5MgAnn3wyZ511Fp/97GfZeeed12zlsmLFCg488MA1W9Lfc8897da2IrmnYmaWw+9//3v69u3LfffdB8Dy5cu59tprAViyZAnf+c53mDNnDj169OCAAw5gjz32WJN36dKlPP7447z44ouMGzeOo446iu7du3PXXXfRs2dP3njjDUaPHs24ceOqssnjhuSeiplZDrvtthsPP/ww5513Hn/605/4+Mc/vubck08+yX777ce2225L165dOfroo9fKe+SRR7LZZpsxdOhQXn/9dSDbcfiCCy5g991356CDDuK1115bc64jc0/FzCyHXXbZhdmzZzN9+nSmTJnCF7/4xTXnWtpDsXHr+dK0N998M/X19cyePZuuXbsyaNCgdbas74jcUzEzy2HJkiVsueWWnHDCCZxzzjnMmTNnzbmRI0fy6KOP8tZbb9HQ0MCdd97ZYnnLly9nhx12oGvXrvzxj3/k1VdfrWb1N5iq9lQkjQF+BHQBro+Iy8vOK50/FFgJnBwRc5rLK+k7wHjgI+BvKc8SSYPIbj08PxU/IyImYWadTzvspPzcc89x7rnnstlmm9G1a1euvfZazjnnHAD69evHBRdcwKhRo+jbty9Dhw5da3iskuOPP54jjjiC2tpa9txzTz7zmc9siGZUXdW2vpfUBfgLcDBQB8wEjouIF0rSHAr8E1lQGQX8KCJGNZdXUs+IeDvlPwsYGhGTUlC5NyKG5a2jt763jZq3vl+jI2x9v2LFCrbeemsaGhqYMGECX/va19bcTrgja+3W99Uc/hoJLIiIhRHxAXArWQ+j1HjgxsjMAHpJ6tNc3saAkmwFbLo3hDGzjcbFF1/MnnvuybBhwxg8eDBHHnlke1epXVRz+KsfsLjkdR1Zb6SlNP1ayivpMuBEYDnwhZJ0gyU9BbwNfCsi/lReKUkTgYlAYXc6MzO78sor27sKG4Vq9lQqLbYu71U0labZvBFxYUQMAG4GJqfDS4GdImI4cDZwi6Se6xQScV1E1EZEbe/evXM0w8w2BpvyXWrbS1ve82oGlTpgQMnr/sCSnGny5AW4BfgyQESsiohl6fls4CVgl/Wov5ltJLp3786yZcscWDagiGDZsmV07969VfmqOfw1E6iRNBh4DTgW+MeyNNOAyZJuJRveWh4RSyXVN5VXUk1E/DXlHwe8mI73Bt6MiNWSdgZqgIVVbJ+ZbSD9+/enrq6O+vr69q7KJqV79+7079+/VXmqFlQiokHSZOABsmXBN0TEXEmT0vmpwHSylV8LyJYUn9Jc3lT05ZI+Tbak+FWgcdnwvsClkhqA1cCkiHizWu0zsw2na9euDB48uL2rYTlUbUlxR+AlxbZR85Ji20i115JiMzPbxDiomJlZYRxUzMysMA4qZmZWGAcVMzMrjIOKmZkVxkHFzMwK46BiZmaFcVAxM7PCOKiYmVlhHFTMzKwwDipmZlYYBxUzMyuMg4qZmRXGQcXMzArjoGJmZoVxUDEzs8JUNahIGiNpvqQFks6vcF6Srkrnn5U0oqW8kr6T0j4t6UFJfUvOTUnp50s6pJptMzOzdVUtqEjqAlwNjAWGAsdJGlqWbCxQkx4TgWtz5P1eROweEXsC9wLfTnmGAscCuwJjgGtSOWZmtoFUs6cyElgQEQsj4gPgVmB8WZrxwI2RmQH0ktSnubwR8XZJ/q2AKCnr1ohYFREvAwtSOWZmtoFUM6j0AxaXvK5Lx/KkaTavpMskLQaOJ/VUcl4PSRMlzZI0q76+vlUNMjOz5lUzqKjCsciZptm8EXFhRAwAbgYmt+J6RMR1EVEbEbW9e/euWHEzM2ubagaVOmBAyev+wJKcafLkBbgF+HIrrmdmZlVUzaAyE6iRNFhSN7JJ9GllaaYBJ6ZVYKOB5RGxtLm8kmpK8o8DXiwp61hJW0gaTDb5/2S1GmdmZuvavFoFR0SDpMnAA0AX4IaImCtpUjo/FZgOHEo2qb4SOKW5vKnoyyV9GvgIeBVoLG+upNuBF4AG4MyIWF2t9pmZ2boUsc60wyajtrY2Zs2a1d7VMKts9uz2ue5ee7XPda3DkDQ7ImornfM36s3MrDBVG/6y6vEfsGa2sXJPxczMCuOgYmZmhXFQMTOzwjiomJlZYRxUzMysMA4qZmZWGAcVMzMrjIOKmZkVxkHFzMwK46BiZmaFcVAxM7PCOKiYmVlhHFTMzKwwDipmZlYYBxUzMytMVYOKpDGS5ktaIOn8Cucl6ap0/llJI1rKK+l7kl5M6e+S1CsdHyTpPUlPp8fUarbNzMzWVbWbdEnqAlwNHAzUATMlTYuIF0qSjQVq0mMUcC0wqoW8DwFT0n3svwtMAc5L5b0UEXtWq00biy3n+S5dZrZxytVTkTSsDWWPBBZExMKI+AC4FRhflmY8cGNkZgC9JPVpLm9EPBgRDSn/DKB/G+pmZmZVkHf4a6qkJyWd0TjclEM/YHHJ67p0LE+aPHkBvgbcX/J6sKSnJD0q6fOVKiVpoqRZkmbV19fna4mZmeWSK6hExD7A8cAAYJakWyQd3EI2VSoqZ5oW80q6EGgAbk6HlgI7RcRw4GzgFkk91ykk4rqIqI2I2t69e7fQBDMza43ccyoR8VdJ3wJmAVcBwyUJuCAiflshSx1ZEGrUH1iSM0235vJKOgk4HDgwIiLVbxWwKj2fLeklYJdUXzMz2wDyzqnsLukHwDzgAOCIiBiSnv+giWwzgRpJgyV1A44FppWlmQacmFaBjQaWR8TS5vJKGkM2MT8uIlaW1LF3muBH0s5kk/8L87TPzMyKkben8hPgZ2S9kvcaD0bEktR7WUdanTUZeADoAtwQEXMlTUrnpwLTgUOBBcBK4JTm8pbUZQvgoayjxIyImATsC1wqqQFYDUyKiDdzts/MzAqQN6gcCrwXEasBJG0GdI+IlRFxU1OZImI6WeAoPTa15HkAZ+bNm45/qon0dwJ3ttwUMzOrlryrvx4GPlbyest0zMzMbI28QaV7RKxofJGeb1mdKpmZWUeVN6i8W7aFyl7Ae82kNzOzTVDeOZV/AX4jqXFZbx/gK1WpkW20ZrfT7jDgHWLMOopcQSUiZkr6DPBpsi8mvhgRH1a1ZmZm1uG0ZkPJvYFBKc9wSUTEjVWplZmZdUi5goqkm4BPAk+TfQcEsm1THFTMzGyNvD2VWmBo45YoZmZmleRd/fU88IlqVsTMzDq+vD2V7YEXJD1J2rQRICLGVaVWZmbWIeUNKhdXsxJmZtY55F1S/KikgUBNRDwsaUuyjR7NzMzWyLv1/anAHcBP06F+wN1VqpOZmXVQeSfqzwQ+B7wN2Q27gB2qVSkzM+uY8gaVVRHxQeMLSZuz7q2BzcxsE5c3qDwq6QLgY+ne9L8Bfle9apmZWUeUN6icD9QDzwGnkd08q+IdH83MbNOVK6hExEcR8bOIODoijkrPWxz+kjRG0nxJCySdX+G8JF2Vzj9btr1+xbySvifpxZT+Lkm9Ss5NSennSzokT9vMzKw4eVd/vSxpYfmjhTxdgKuBscBQ4DhJQ8uSjQVq0mMicG2OvA8BwyJid+AvwJSUZyhwLLArMAa4JpVjZmYbSGv2/mrUHTga2LaFPCOBBRGxEEDSrcB44IWSNOOBG1OvZ4akXpL6kO2GXDFvRDxYkn8GcFRJWbdGxCrgZUkLUh2eyNlGMzNbT3mHv5aVPF6LiB8CB7SQrR+wuOR1XTqWJ02evABfA+5vxfWQNFHSLEmz6uvrW2iCmZm1Rt6t70eUvNyMrOfSo6VsFY6Vz8M0labFvJIuBBqAm1txPSLiOuA6gNraWi+LNjMrUN7hr/8sed4AvAIc00KeOmBAyev+wJKcabo1l1fSScDhwIElCwbyXM/MzKoo795fX2hD2TOBGkmDgdfIJtH/sSzNNGBymjMZBSyPiKWS6pvKK2kMcB6wX0SsLCvrFknfB/qSTf4/2YZ6m5lZG+Ud/jq7ufMR8f0KxxokTQYeINt88oaImCtpUjo/lez7LocCC4CVwCnN5U1F/wTYAnhIEsCMiJiUyr6dbCFAA3BmRDTepdLMzDaA1qz+2pusNwBwBPAYa0+MryMippMFjtJjU0ueB9m+YrnypuOfauZ6lwGXNVcnMzOrntbcpGtERLwDIOli4DcR8Y1qVczMzDqevNu07AR8UPL6A7LvkpiZma2Rt6dyE/CkpLvIlulOAG6sWq3MzKxDyrv66zJJ9wOfT4dOiYinqlctMzPriPIOfwFsCbwdET8C6tJyXzMzszXybih5Edl3Q6akQ12BX1WrUmZm1jHl7alMAMYB7wJExBJa3qbFzMw2MXmDygfpOyUBIGmr6lXJzMw6qrxB5XZJPwV6SToVeBj4WfWqZWZmHVGLq7+U7YVyG/AZ4G3g08C3I+KhKtfNzMw6mBaDSkSEpLsjYi+yuy6amZlVlHf4a4akvataEzMz6/DyfqP+C8AkSa+QrQATWSdm92pVzMzMOp5mg4qknSJiETB2A9XHzMw6sJZ6KneT7U78qqQ7I+LLG6BOZmbWQbU0p1J63/edq1kRMzPr+FoKKtHEczMzs3W0FFT2kPS2pHeA3dPztyW9I+ntlgqXNEbSfEkLJJ1f4bwkXZXOPytpREt5JR0taa6kjyTVlhwfJOk9SU+nx9Ty65mZWXU1O6cSEV3aWrCkLsDVwMFAHTBT0rSIeKEk2VigJj1GAdcCo1rI+zzwJeCnFS77UkTs2dY6m5nZ+sm7pLgtRgILImIhgKRbgfFAaVAZD9yY9hWbIamXpD5kd5WsmDci5qVjVay6bWxmz26f6+61V/tc16yjas39VFqrH7C45HVdOpYnTZ68lQyW9JSkRyV9vlICSRMlzZI0q76+PkeRZmaWVzV7KpW6EuWT/U2lyZO33FJgp4hYJmkv4G5Ju0bEWnM/EXEdcB1AbW3tei0+aK+/nrdsn8uambWomj2VOmBAyev+wJKcafLkXUtErIqIZen5bOAlYJc21dzMzNqkmkFlJlAjabCkbsCxwLSyNNOAE9MqsNHA8ohYmjPvWiT1ThP8SNqZbPJ/YbFNMjOz5lRt+CsiGiRNBh4AugA3RMRcSZPS+anAdOBQYAGwEjilubwAkiYAPwZ6A/dJejoiDgH2BS6V1ACsBiZFxJvVap+Zma2rmnMqRMR0ssBRemxqyfMAzsybNx2/C7irwvE7gTvXs8pmZrYeqjn8ZWZmmxgHFTMzK4yDipmZFcZBxczMCuOgYmZmhXFQMTOzwjiomJlZYRxUzMysMA4qZmZWGAcVMzMrjIOKmZkVpqp7f5l1eO110xyzDso9FTMzK4yDipmZFcbDX+thy3keGjEzK+WeipmZFcZBxczMClPVoCJpjKT5khZIOr/CeUm6Kp1/VtKIlvJKOlrSXEkfSaotK29KSj9f0iHVbJuZma2rakFFUhfgamAsMBQ4TtLQsmRjgZr0mAhcmyPv88CXgMfKrjcUOBbYFRgDXJPKMTOzDaSaPZWRwIKIWBgRHwC3AuPL0owHbozMDKCXpD7N5Y2IeRExv8L1xgO3RsSqiHgZWJDKMTOzDaSaQaUfsLjkdV06lidNnrxtuZ6ZmVVRNYOKKhyLnGny5G3L9ZA0UdIsSbPq6+tbKNLMzFqjmkGlDhhQ8ro/sCRnmjx523I9IuK6iKiNiNrevXu3UKSZmbVGNYPKTKBG0mBJ3cgm0aeVpZkGnJhWgY0GlkfE0px5y00DjpW0haTBZJP/TxbZIDMza17VvlEfEQ2SJgMPAF2AGyJirqRJ6fxUYDpwKNmk+krglObyAkiaAPwY6A3cJ+npiDgklX078ALQAJwZEaur1T7bNMyb137XHjKk/a5t1lZV3aYlIqaTBY7SY1NLngdwZt686fhdwF1N5LkMuGw9qmxmZuvB36g3M7PCOKiYmVlhHFTMzKwwDipmZlYYBxUzMyuMg4qZmRXGQcXMzArjoGJmZoVxUDEzs8I4qJiZWWEcVMzMrDAOKmZmVhgHFTMzK4yDipmZFcZBxczMCuOgYmZmhXFQMTOzwjiomJlZYaoaVCSNkTRf0gJJ51c4L0lXpfPPShrRUl5J20p6SNJf07/bpOODJL0n6en0mFp+PTMzq66q3aNeUhfgauBgoA6YKWlaRLxQkmwsUJMeo4BrgVEt5D0f+ENEXJ6CzfnAeam8lyJiz2q1yWxDmjevfa47ZK/2ua51DtXsqYwEFkTEwoj4ALgVGF+WZjxwY2RmAL0k9Wkh73jgl+n5L4Ejq9gGMzNrhWoGlX7A4pLXdelYnjTN5d0xIpYCpH93KEk3WNJTkh6V9PlKlZI0UdIsSbPq6+tb2yYzM2tGNYOKKhyLnGny5C23FNgpIoYDZwO3SOq5TiER10VEbUTU9u7du4UizcysNao2p0LWuxhQ8ro/sCRnmm7N5H1dUp+IWJqGyv4GEBGrgFXp+WxJLwG7ALOKaY5tOW92u117pQf6zTqEavZUZgI1kgZL6gYcC0wrSzMNODGtAhsNLE9DWs3lnQaclJ6fBNwDIKl3muBH0s5kk/8Lq9c8MzMrV7WeSkQ0SJoMPAB0AW6IiLmSJqXzU4HpwKHAAmAlcEpzeVPRlwO3S/o6sAg4Oh3fF7hUUgOwGpgUEW9Wq31mZrauag5/ERHTyQJH6bGpJc8DODNv3nR8GXBgheN3AneuZ5XNzGw9VDWomFkHNLv95s7Yy3NnHZ23aTEzs8I4qJiZWWEcVMzMrDAOKmZmVhgHFTMzK4xXf5nZWtprd2TwDsmdgYOKdQjtuUWMmeXn4S8zMyuMg4qZmRXGQcXMzArjoGJmZoVxUDEzs8J49ZeZbTzaazNLb2RZGAcVM9totNd3ZPz9mOJ4+MvMzArjoGJmZoWp6vCXpDHAj8huCXx9RFxedl7p/KFktxM+OSLmNJdX0rbAbcAg4BXgmIh4K52bAnyd7HbCZ0XEA9Vsn5l1Ep7LKUzVgoqkLsDVwMFAHTBT0rSIeKEk2VigJj1GAdcCo1rIez7wh4i4XNL56fV5koYCxwK7An2BhyXtEhGrq9VGM+scPJdTnGr2VEYCCyJiIYCkW4HxQGlQGQ/cmO5VP0NSL0l9yHohTeUdD+yf8v8SeAQ4Lx2/NSJWAS9LWpDq8EQV22hm1mbzftV+e9oNOaE6Ea2aQaUfsLjkdR1Zb6SlNP1ayLtjRCwFiIilknYoKWtGhbLWImkiMDG9XCFpft4GAdsDb7QifWexKbZ7U2wzbJrt3hTbDF9dr3YPbOpENYOKKhyLnGny5G3L9YiI64DrWiir8gWkWRFR25a8Hdmm2O5Nsc2wabZ7U2wzVK/d1Vz9VQcMKHndH1iSM01zeV9PQ2Skf//WiuuZmVkVVTOozARqJA2W1I1sEn1aWZppwInKjAaWp6Gt5vJOA05Kz08C7ik5fqykLSQNJpv8f7JajTMzs3VVbfgrIhokTQYeIFsWfENEzJU0KZ2fCkwnW068gGxJ8SnN5U1FXw7cLunrwCLg6JRnrqTbySbzG4Azq7Dyq03DZp3AptjuTbHNsGm2e1NsM1Sp3coWXpmZma0/f6PezMwK46BiZmaFcVDJSdIYSfMlLUjf5O8UJA2Q9EdJ8yTNlfTP6fi2kh6S9Nf07zYleaak92G+pEPar/brR1IXSU9Juje93hTa3EvSHZJeTD/zf+js7Zb0r+l3+3lJv5bUvTO2WdINkv4m6fmSY61up6S9JD2Xzl2VttPKLyL8aOFBtljgJWBnoBvwDDC0vetVUNv6ACPS8x7AX4ChwBXA+en4+cB30/Ohqf1bAIPT+9KlvdvRxrafDdwC3Jtebwpt/iXwjfS8G9CrM7eb7AvQLwMfS69vB07ujG0G9gVGAM+XHGt1O8lWzf4D2Xf/7gfGtqYe7qnks2bLmYj4AGjcNqbDi4ilkTbxjIh3gHlk/xHHk30Akf49Mj1fsx1ORLxMtnJv5AatdAEk9QcOA64vOdzZ29yT7IPn5wAR8UFE/J1O3m6yVa4fk7Q5sCXZ99c6XZsj4jHgzbLDrWpn+u5fz4h4IrIIc2NJnlwcVPJpajuZTkXSIGA48D+UbYcDlG6H0xneix8C/wZ8VHKss7d5Z6Ae+K807He9pK3oxO2OiNeAK8m+frCU7LtwD9KJ21ymte3sl56XH8/NQSWftmwb06FI2hq4E/iXiHi7uaQVjnWo90LS4cDfIiLvbn4dvs3J5mTDI9dGxHDgXbIhkaZ0+HanOYTxZEM8fYGtJJ3QXJYKxzpUm3MqcoustTio5NOpt4CR1JUsoNwcEb9NhzvzdjifA8ZJeoVsKPMASb+ic7cZsnbURcT/pNd3kAWZztzug4CXI6I+Ij4Efgt8ls7d5lKtbWddel5+PDcHlXzybDnTIaWVHT8H5kXE90tOddrtcCJiSkT0j4hBZD/L/46IE+jEbQaIiP8FFkv6dDp0INkOFJ253YuA0ZK2TL/rB5LNG3bmNpdqVTvTENk7kkan9+vEkjz5tPeKhY7yINtO5i9kqyQubO/6FNiufci6t88CT6fHocB2wB+Av6Z/ty3Jc2F6H+bTypUhG9uD7N48jau/On2bgT2BWennfTewTWdvN3AJ8CLwPHAT2YqnTtdm4Ndk80YfkvU4vt6WdgK16b16CfgJaeeVvA9v02JmZoXx8JeZmRXGQcXMzArjoGJmZoVxUDEzs8I4qJiZWWEcVMzMrDAOKmZmVpj/B6jh26q+WrNOAAAAAElFTkSuQmCC\n",
      "text/plain": [
       "<Figure size 432x288 with 1 Axes>"
      ]
     },
     "metadata": {
      "needs_background": "light"
     },
     "output_type": "display_data"
    }
   ],
   "source": [
    "# Separating signal and background\n",
    "df_label_bkg = df_label_map.loc[df_label_map['label']==0]\n",
    "df_label_sig = df_label_map.loc[df_label_map['label']==1]\n",
    "# Plotting \n",
    "# 'stack' to plot all the values of each dataframe on the histogram\n",
    "df_label_bkg.drop('label', axis=1).stack().plot.hist(facecolor='b', alpha=0.2, label='background', density=True)\n",
    "df_label_sig.drop('label', axis=1).stack().plot.hist(facecolor='r', alpha=0.2, label='signal', density=True)\n",
    "plt.legend(loc='upper right')\n",
    "plt.title('Distribution of the label variable');"
   ]
  },
  {
   "cell_type": "markdown",
   "id": "ade14708",
   "metadata": {},
   "source": [
    "#### Masses"
   ]
  },
  {
   "cell_type": "code",
   "execution_count": 20,
   "id": "9af19d68",
   "metadata": {},
   "outputs": [
    {
     "data": {
      "image/png": "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\n",
      "text/plain": [
       "<Figure size 432x288 with 1 Axes>"
      ]
     },
     "metadata": {
      "needs_background": "light"
     },
     "output_type": "display_data"
    }
   ],
   "source": [
    "df_masses = pd.DataFrame(np.array(h5py.File('..\\data\\\\train_20v_RD_100P_2NJET.h5', 'r')['masses']), columns=['mass'])\n",
    "df_masses=df_masses.assign(label=pid.values)\n",
    "bkg_sig_hist(df_masses, variable='mass', label='label')\n",
    "plt.show()"
   ]
  },
  {
   "cell_type": "markdown",
   "id": "1b263b4e",
   "metadata": {},
   "source": [
    "The variables for the other files is the same, but let's see how many events had more than 2 jets:"
   ]
  },
  {
   "cell_type": "code",
   "execution_count": 21,
   "id": "ecb0ff3f",
   "metadata": {},
   "outputs": [
    {
     "name": "stdout",
     "output_type": "stream",
     "text": [
      "root:NXroot\n",
      "  data = float64(137681x100x7)\n",
      "  global = float64(137681x4)\n",
      "  label = int8(137681x100)\n",
      "  masses = float64(137681)\n",
      "  pid = int8(137681)\n"
     ]
    }
   ],
   "source": [
    "f = nx.nxload('..\\data\\\\test_20v_RD_100P_2NJET.h5')\n",
    "print(f.tree)"
   ]
  },
  {
   "cell_type": "code",
   "execution_count": 22,
   "id": "0347cfb3",
   "metadata": {},
   "outputs": [
    {
     "name": "stdout",
     "output_type": "stream",
     "text": [
      "root:NXroot\n",
      "  data = float64(312345x100x7)\n",
      "  global = float64(312345x4)\n",
      "  label = int8(312345x100)\n",
      "  masses = float64(312345)\n",
      "  pid = int8(312345)\n"
     ]
    }
   ],
   "source": [
    "f = nx.nxload('..\\data\\eval_20v_RD_100P_2NJET.h5')\n",
    "print(f.tree)"
   ]
  },
  {
   "cell_type": "markdown",
   "id": "a1c1e57e",
   "metadata": {},
   "source": [
    "- For the *test set* there were processed 149,999 events. 137,681 had two or more jets.\n",
    "- For the *evaluation set* 312,345 had two jets, from the 340,000 that were processed."
   ]
  },
  {
   "cell_type": "markdown",
   "id": "ba279323",
   "metadata": {},
   "source": [
    "## Output\n",
    "According to the [script](https://github.com/ViniciusMikuni/UCluster/blob/master/scripts/evaluate_kmeans_seg.py), the output has 5 dataframes: *label*, *pid*, *max_pool*, *global* and *masses*"
   ]
  },
  {
   "cell_type": "code",
   "execution_count": 23,
   "id": "298f51a1",
   "metadata": {},
   "outputs": [
    {
     "name": "stdout",
     "output_type": "stream",
     "text": [
      "root:NXroot\n",
      "  global = float64(312320x4)\n",
      "  label = int8(312320)\n",
      "  masses = float64(312320)\n",
      "  max_pool = float32(312320x2)\n",
      "  pid = int64(312320)\n"
     ]
    }
   ],
   "source": [
    "f = nx.nxload('..\\data\\evaluation_full.h5')\n",
    "print(f.tree)"
   ]
  },
  {
   "cell_type": "code",
   "execution_count": 50,
   "id": "018221c3",
   "metadata": {},
   "outputs": [
    {
     "data": {
      "text/plain": [
       "(312320, 1)"
      ]
     },
     "execution_count": 50,
     "metadata": {},
     "output_type": "execute_result"
    }
   ],
   "source": [
    "y_label = pd.DataFrame(np.array(h5py.File('..\\data\\evaluation_full.h5', 'r')['label']), columns=['label'])\n",
    "y_pred = pd.DataFrame(np.array(h5py.File('..\\data\\evaluation_full.h5', 'r')['pid']), columns=['pred'])\n",
    "y_pred.shape"
   ]
  },
  {
   "cell_type": "code",
   "execution_count": 51,
   "id": "374a0ca1",
   "metadata": {},
   "outputs": [
    {
     "name": "stdout",
     "output_type": "stream",
     "text": [
      "==============================\n",
      "Ucluster\n",
      "****Results****\n"
     ]
    },
    {
     "name": "stderr",
     "output_type": "stream",
     "text": [
      "C:\\Users\\maria\\anaconda3\\lib\\site-packages\\sklearn\\metrics\\_classification.py:1248: UndefinedMetricWarning: Precision is ill-defined and being set to 0.0 due to no predicted samples. Use `zero_division` parameter to control this behavior.\n",
      "  _warn_prf(average, modifier, msg_start, len(result))\n",
      "C:\\Users\\maria\\anaconda3\\lib\\site-packages\\sklearn\\metrics\\_classification.py:1248: UndefinedMetricWarning: Precision and F-score are ill-defined and being set to 0.0 in labels with no predicted samples. Use `zero_division` parameter to control this behavior.\n",
      "  _warn_prf(average, modifier, msg_start, len(result))\n",
      "C:\\Users\\maria\\anaconda3\\lib\\site-packages\\sklearn\\metrics\\_classification.py:1248: UndefinedMetricWarning: Precision and F-score are ill-defined and being set to 0.0 in labels with no predicted samples. Use `zero_division` parameter to control this behavior.\n",
      "  _warn_prf(average, modifier, msg_start, len(result))\n"
     ]
    },
    {
     "name": "stdout",
     "output_type": "stream",
     "text": [
      "              precision    recall  f1-score   support\n",
      "\n",
      "  background       0.99      1.00      1.00    309296\n",
      "      signal       0.00      0.00      0.00      3024\n",
      "\n",
      "    accuracy                           0.99    312320\n",
      "   macro avg       0.50      0.50      0.50    312320\n",
      "weighted avg       0.98      0.99      0.99    312320\n",
      "\n"
     ]
    },
    {
     "name": "stderr",
     "output_type": "stream",
     "text": [
      "C:\\Users\\maria\\anaconda3\\lib\\site-packages\\sklearn\\metrics\\_classification.py:1248: UndefinedMetricWarning: Precision and F-score are ill-defined and being set to 0.0 in labels with no predicted samples. Use `zero_division` parameter to control this behavior.\n",
      "  _warn_prf(average, modifier, msg_start, len(result))\n"
     ]
    },
    {
     "data": {
      "text/html": [
       "<div>\n",
       "<style scoped>\n",
       "    .dataframe tbody tr th:only-of-type {\n",
       "        vertical-align: middle;\n",
       "    }\n",
       "\n",
       "    .dataframe tbody tr th {\n",
       "        vertical-align: top;\n",
       "    }\n",
       "\n",
       "    .dataframe thead th {\n",
       "        text-align: right;\n",
       "    }\n",
       "</style>\n",
       "<table border=\"1\" class=\"dataframe\">\n",
       "  <thead>\n",
       "    <tr style=\"text-align: right;\">\n",
       "      <th></th>\n",
       "      <th>Classifier</th>\n",
       "      <th>Recall</th>\n",
       "      <th>Precision</th>\n",
       "      <th>F1 score</th>\n",
       "    </tr>\n",
       "  </thead>\n",
       "  <tbody>\n",
       "    <tr>\n",
       "      <th>0</th>\n",
       "      <td>Ucluster</td>\n",
       "      <td>0.0</td>\n",
       "      <td>0.0</td>\n",
       "      <td>0.0</td>\n",
       "    </tr>\n",
       "  </tbody>\n",
       "</table>\n",
       "</div>"
      ],
      "text/plain": [
       "  Classifier  Recall  Precision  F1 score\n",
       "0   Ucluster     0.0        0.0       0.0"
      ]
     },
     "execution_count": 51,
     "metadata": {},
     "output_type": "execute_result"
    }
   ],
   "source": [
    "from benchtools.src.metrictools import performance_metrics\n",
    "metrics= performance_metrics('Ucluster', label=y_label, pred_label=y_pred)\n",
    "metrics"
   ]
  },
  {
   "cell_type": "code",
   "execution_count": 52,
   "id": "8d095f41",
   "metadata": {},
   "outputs": [
    {
     "name": "stdout",
     "output_type": "stream",
     "text": [
      "==============================\n",
      "Ucluster\n",
      "****Results****\n",
      "              precision    recall  f1-score   support\n",
      "\n",
      "  background       0.99      0.93      0.96      3049\n",
      "      signal       0.00      0.04      0.01        23\n",
      "\n",
      "    accuracy                           0.92      3072\n",
      "   macro avg       0.50      0.49      0.48      3072\n",
      "weighted avg       0.98      0.92      0.95      3072\n",
      "\n"
     ]
    },
    {
     "data": {
      "text/html": [
       "<div>\n",
       "<style scoped>\n",
       "    .dataframe tbody tr th:only-of-type {\n",
       "        vertical-align: middle;\n",
       "    }\n",
       "\n",
       "    .dataframe tbody tr th {\n",
       "        vertical-align: top;\n",
       "    }\n",
       "\n",
       "    .dataframe thead th {\n",
       "        text-align: right;\n",
       "    }\n",
       "</style>\n",
       "<table border=\"1\" class=\"dataframe\">\n",
       "  <thead>\n",
       "    <tr style=\"text-align: right;\">\n",
       "      <th></th>\n",
       "      <th>Classifier</th>\n",
       "      <th>Recall</th>\n",
       "      <th>Precision</th>\n",
       "      <th>F1 score</th>\n",
       "    </tr>\n",
       "  </thead>\n",
       "  <tbody>\n",
       "    <tr>\n",
       "      <th>0</th>\n",
       "      <td>Ucluster</td>\n",
       "      <td>0.043478</td>\n",
       "      <td>0.458716</td>\n",
       "      <td>0.008299</td>\n",
       "    </tr>\n",
       "  </tbody>\n",
       "</table>\n",
       "</div>"
      ],
      "text/plain": [
       "  Classifier    Recall  Precision  F1 score\n",
       "0   Ucluster  0.043478   0.458716  0.008299"
      ]
     },
     "execution_count": 52,
     "metadata": {},
     "output_type": "execute_result"
    }
   ],
   "source": [
    "y_label = pd.DataFrame(np.array(h5py.File('..\\data\\evaluation.h5', 'r')['label']), columns=['label'])\n",
    "y_pred = pd.DataFrame(np.array(h5py.File('..\\data\\evaluation.h5', 'r')['pid']), columns=['pred'])\n",
    "performance_metrics('Ucluster', label=y_label, pred_label=y_pred)"
   ]
<<<<<<< Updated upstream
=======
  },
  {
   "cell_type": "markdown",
   "id": "3e0db3fa",
   "metadata": {},
   "source": [
    "### Distances"
   ]
  },
  {
   "cell_type": "code",
   "execution_count": 26,
   "id": "d2582e4a",
   "metadata": {},
   "outputs": [
    {
     "name": "stdout",
     "output_type": "stream",
     "text": [
      "root:NXroot\n",
      "  distances = float32(312320x2)\n",
      "  global = float64(312320x4)\n",
      "  label = int8(312320)\n",
      "  masses = float64(312320)\n",
      "  max_pool = float32(312320x2)\n",
      "  pid = int64(312320)\n"
     ]
    }
   ],
   "source": [
    "f = nx.nxload('..\\data\\evaluation_dist.h5')\n",
    "print(f.tree)"
   ]
  },
  {
   "cell_type": "code",
   "execution_count": 30,
   "id": "3bbdc59e",
   "metadata": {},
   "outputs": [
    {
     "data": {
      "text/html": [
       "<div>\n",
       "<style scoped>\n",
       "    .dataframe tbody tr th:only-of-type {\n",
       "        vertical-align: middle;\n",
       "    }\n",
       "\n",
       "    .dataframe tbody tr th {\n",
       "        vertical-align: top;\n",
       "    }\n",
       "\n",
       "    .dataframe thead th {\n",
       "        text-align: right;\n",
       "    }\n",
       "</style>\n",
       "<table border=\"1\" class=\"dataframe\">\n",
       "  <thead>\n",
       "    <tr style=\"text-align: right;\">\n",
       "      <th></th>\n",
       "      <th>dist_0</th>\n",
       "      <th>dist_1</th>\n",
       "    </tr>\n",
       "  </thead>\n",
       "  <tbody>\n",
       "    <tr>\n",
       "      <th>0</th>\n",
       "      <td>0.010410</td>\n",
       "      <td>10.275502</td>\n",
       "    </tr>\n",
       "    <tr>\n",
       "      <th>1</th>\n",
       "      <td>0.020848</td>\n",
       "      <td>9.507950</td>\n",
       "    </tr>\n",
       "    <tr>\n",
       "      <th>2</th>\n",
       "      <td>0.000487</td>\n",
       "      <td>9.650536</td>\n",
       "    </tr>\n",
       "    <tr>\n",
       "      <th>3</th>\n",
       "      <td>0.007560</td>\n",
       "      <td>9.725061</td>\n",
       "    </tr>\n",
       "    <tr>\n",
       "      <th>4</th>\n",
       "      <td>0.015914</td>\n",
       "      <td>10.527639</td>\n",
       "    </tr>\n",
       "    <tr>\n",
       "      <th>...</th>\n",
       "      <td>...</td>\n",
       "      <td>...</td>\n",
       "    </tr>\n",
       "    <tr>\n",
       "      <th>312315</th>\n",
       "      <td>0.007062</td>\n",
       "      <td>9.281509</td>\n",
       "    </tr>\n",
       "    <tr>\n",
       "      <th>312316</th>\n",
       "      <td>0.007038</td>\n",
       "      <td>9.441727</td>\n",
       "    </tr>\n",
       "    <tr>\n",
       "      <th>312317</th>\n",
       "      <td>0.003599</td>\n",
       "      <td>9.658307</td>\n",
       "    </tr>\n",
       "    <tr>\n",
       "      <th>312318</th>\n",
       "      <td>0.001220</td>\n",
       "      <td>9.930380</td>\n",
       "    </tr>\n",
       "    <tr>\n",
       "      <th>312319</th>\n",
       "      <td>0.005627</td>\n",
       "      <td>10.219425</td>\n",
       "    </tr>\n",
       "  </tbody>\n",
       "</table>\n",
       "<p>312320 rows × 2 columns</p>\n",
       "</div>"
      ],
      "text/plain": [
       "          dist_0     dist_1\n",
       "0       0.010410  10.275502\n",
       "1       0.020848   9.507950\n",
       "2       0.000487   9.650536\n",
       "3       0.007560   9.725061\n",
       "4       0.015914  10.527639\n",
       "...          ...        ...\n",
       "312315  0.007062   9.281509\n",
       "312316  0.007038   9.441727\n",
       "312317  0.003599   9.658307\n",
       "312318  0.001220   9.930380\n",
       "312319  0.005627  10.219425\n",
       "\n",
       "[312320 rows x 2 columns]"
      ]
     },
     "execution_count": 30,
     "metadata": {},
     "output_type": "execute_result"
    }
   ],
   "source": [
    "y_score = pd.DataFrame(np.array(h5py.File('..\\data\\evaluation_dist.h5', 'r')['distances']), columns=['dist_0', 'dist_1'])\n",
    "y_label = pd.DataFrame(np.array(h5py.File('..\\data\\evaluation_dist.h5', 'r')['label']), columns=['label'])\n",
    "\n",
    "y_score"
   ]
  },
  {
   "cell_type": "code",
   "execution_count": 34,
   "id": "da47fe25",
   "metadata": {},
   "outputs": [
    {
     "data": {
      "text/plain": [
       "2.2157109924592078e-08"
      ]
     },
     "execution_count": 34,
     "metadata": {},
     "output_type": "execute_result"
    }
   ],
   "source": [
    "y_score = y_score.assign(label=y_label)\n",
    "y_score['dist_0'].min()"
   ]
  },
  {
   "cell_type": "code",
   "execution_count": 35,
   "id": "343c5142",
   "metadata": {},
   "outputs": [
    {
     "data": {
      "text/plain": [
       "1.2045034170150757"
      ]
     },
     "execution_count": 35,
     "metadata": {},
     "output_type": "execute_result"
    }
   ],
   "source": [
    "y_score['dist_0'].max()"
   ]
  },
  {
   "cell_type": "code",
   "execution_count": 36,
   "id": "b0006110",
   "metadata": {},
   "outputs": [
    {
     "data": {
      "text/plain": [
       "11.76327896118164"
      ]
     },
     "execution_count": 36,
     "metadata": {},
     "output_type": "execute_result"
    }
   ],
   "source": [
    "y_score['dist_1'].max()"
   ]
  },
  {
   "cell_type": "code",
   "execution_count": 37,
   "id": "72f74f43",
   "metadata": {},
   "outputs": [
    {
     "data": {
      "text/plain": [
       "4.438194751739502"
      ]
     },
     "execution_count": 37,
     "metadata": {},
     "output_type": "execute_result"
    }
   ],
   "source": [
    "y_score['dist_1'].min()"
   ]
  },
  {
   "cell_type": "code",
   "execution_count": 2,
   "id": "78decc98",
   "metadata": {},
   "outputs": [
    {
     "name": "stdout",
     "output_type": "stream",
     "text": [
      "root:NXroot\n",
      "  global = float64(3072x4)\n",
      "  label = int8(3072)\n",
      "  masses = float64(3072)\n",
      "  max_pool = float32(3072x2)\n",
      "  pid = int64(3072)\n"
     ]
    }
   ],
   "source": [
    "f = nx.nxload('..\\data\\prueba.h5')\n",
    "print(f.tree)"
   ]
  },
  {
   "cell_type": "code",
   "execution_count": 3,
   "id": "cb4fdcb2",
   "metadata": {},
   "outputs": [
    {
     "name": "stdout",
     "output_type": "stream",
     "text": [
      "==============================\n",
      "Ucluster\n",
      "****Results****\n",
      "              precision    recall  f1-score   support\n",
      "\n",
      "  background       0.99      1.00      1.00      3044\n",
      "      signal       0.00      0.00      0.00        28\n",
      "\n",
      "    accuracy                           0.99      3072\n",
      "   macro avg       0.50      0.50      0.50      3072\n",
      "weighted avg       0.98      0.99      0.99      3072\n",
      "\n"
     ]
    },
    {
     "name": "stderr",
     "output_type": "stream",
     "text": [
      "C:\\Users\\maria\\anaconda3\\lib\\site-packages\\sklearn\\metrics\\_classification.py:1248: UndefinedMetricWarning: Precision is ill-defined and being set to 0.0 due to no predicted samples. Use `zero_division` parameter to control this behavior.\n",
      "  _warn_prf(average, modifier, msg_start, len(result))\n",
      "C:\\Users\\maria\\anaconda3\\lib\\site-packages\\sklearn\\metrics\\_classification.py:1248: UndefinedMetricWarning: Precision and F-score are ill-defined and being set to 0.0 in labels with no predicted samples. Use `zero_division` parameter to control this behavior.\n",
      "  _warn_prf(average, modifier, msg_start, len(result))\n",
      "C:\\Users\\maria\\anaconda3\\lib\\site-packages\\sklearn\\metrics\\_classification.py:1248: UndefinedMetricWarning: Precision and F-score are ill-defined and being set to 0.0 in labels with no predicted samples. Use `zero_division` parameter to control this behavior.\n",
      "  _warn_prf(average, modifier, msg_start, len(result))\n",
      "C:\\Users\\maria\\anaconda3\\lib\\site-packages\\sklearn\\metrics\\_classification.py:1248: UndefinedMetricWarning: Precision and F-score are ill-defined and being set to 0.0 in labels with no predicted samples. Use `zero_division` parameter to control this behavior.\n",
      "  _warn_prf(average, modifier, msg_start, len(result))\n"
     ]
    },
    {
     "data": {
      "text/html": [
       "<div>\n",
       "<style scoped>\n",
       "    .dataframe tbody tr th:only-of-type {\n",
       "        vertical-align: middle;\n",
       "    }\n",
       "\n",
       "    .dataframe tbody tr th {\n",
       "        vertical-align: top;\n",
       "    }\n",
       "\n",
       "    .dataframe thead th {\n",
       "        text-align: right;\n",
       "    }\n",
       "</style>\n",
       "<table border=\"1\" class=\"dataframe\">\n",
       "  <thead>\n",
       "    <tr style=\"text-align: right;\">\n",
       "      <th></th>\n",
       "      <th>Classifier</th>\n",
       "      <th>Recall</th>\n",
       "      <th>Precision</th>\n",
       "      <th>F1 score</th>\n",
       "    </tr>\n",
       "  </thead>\n",
       "  <tbody>\n",
       "    <tr>\n",
       "      <th>0</th>\n",
       "      <td>Ucluster</td>\n",
       "      <td>0.0</td>\n",
       "      <td>0.0</td>\n",
       "      <td>0.0</td>\n",
       "    </tr>\n",
       "  </tbody>\n",
       "</table>\n",
       "</div>"
      ],
      "text/plain": [
       "  Classifier  Recall  Precision  F1 score\n",
       "0   Ucluster     0.0        0.0       0.0"
      ]
     },
     "execution_count": 3,
     "metadata": {},
     "output_type": "execute_result"
    }
   ],
   "source": [
    "from benchtools.src.metrictools import performance_metrics\n",
    "\n",
    "y_label = pd.DataFrame(np.array(h5py.File('..\\data\\prueba.h5', 'r')['label']), columns=['label'])\n",
    "y_pred = pd.DataFrame(np.array(h5py.File('..\\data\\prueba.h5', 'r')['pid']), columns=['pred'])\n",
    "\n",
    "performance_metrics('Ucluster', label=y_label, pred_label=y_pred)"
   ]
  },
  {
   "cell_type": "code",
   "execution_count": 4,
   "id": "aceb68bb",
   "metadata": {},
   "outputs": [
    {
     "name": "stdout",
     "output_type": "stream",
     "text": [
      "==============================\n",
      "Ucluster\n",
      "****Results****\n",
      "              precision    recall  f1-score   support\n",
      "\n",
      "  background       0.99      1.00      0.99      3038\n",
      "      signal       0.00      0.00      0.00        34\n",
      "\n",
      "    accuracy                           0.99      3072\n",
      "   macro avg       0.49      0.50      0.50      3072\n",
      "weighted avg       0.98      0.99      0.98      3072\n",
      "\n"
     ]
    },
    {
     "name": "stderr",
     "output_type": "stream",
     "text": [
      "C:\\Users\\maria\\anaconda3\\lib\\site-packages\\sklearn\\metrics\\_classification.py:1248: UndefinedMetricWarning: Precision is ill-defined and being set to 0.0 due to no predicted samples. Use `zero_division` parameter to control this behavior.\n",
      "  _warn_prf(average, modifier, msg_start, len(result))\n",
      "C:\\Users\\maria\\anaconda3\\lib\\site-packages\\sklearn\\metrics\\_classification.py:1248: UndefinedMetricWarning: Precision and F-score are ill-defined and being set to 0.0 in labels with no predicted samples. Use `zero_division` parameter to control this behavior.\n",
      "  _warn_prf(average, modifier, msg_start, len(result))\n",
      "C:\\Users\\maria\\anaconda3\\lib\\site-packages\\sklearn\\metrics\\_classification.py:1248: UndefinedMetricWarning: Precision and F-score are ill-defined and being set to 0.0 in labels with no predicted samples. Use `zero_division` parameter to control this behavior.\n",
      "  _warn_prf(average, modifier, msg_start, len(result))\n",
      "C:\\Users\\maria\\anaconda3\\lib\\site-packages\\sklearn\\metrics\\_classification.py:1248: UndefinedMetricWarning: Precision and F-score are ill-defined and being set to 0.0 in labels with no predicted samples. Use `zero_division` parameter to control this behavior.\n",
      "  _warn_prf(average, modifier, msg_start, len(result))\n"
     ]
    },
    {
     "data": {
      "text/html": [
       "<div>\n",
       "<style scoped>\n",
       "    .dataframe tbody tr th:only-of-type {\n",
       "        vertical-align: middle;\n",
       "    }\n",
       "\n",
       "    .dataframe tbody tr th {\n",
       "        vertical-align: top;\n",
       "    }\n",
       "\n",
       "    .dataframe thead th {\n",
       "        text-align: right;\n",
       "    }\n",
       "</style>\n",
       "<table border=\"1\" class=\"dataframe\">\n",
       "  <thead>\n",
       "    <tr style=\"text-align: right;\">\n",
       "      <th></th>\n",
       "      <th>Classifier</th>\n",
       "      <th>Recall</th>\n",
       "      <th>Precision</th>\n",
       "      <th>F1 score</th>\n",
       "    </tr>\n",
       "  </thead>\n",
       "  <tbody>\n",
       "    <tr>\n",
       "      <th>0</th>\n",
       "      <td>Ucluster</td>\n",
       "      <td>0.0</td>\n",
       "      <td>0.0</td>\n",
       "      <td>0.0</td>\n",
       "    </tr>\n",
       "  </tbody>\n",
       "</table>\n",
       "</div>"
      ],
      "text/plain": [
       "  Classifier  Recall  Precision  F1 score\n",
       "0   Ucluster     0.0        0.0       0.0"
      ]
     },
     "execution_count": 4,
     "metadata": {},
     "output_type": "execute_result"
    }
   ],
   "source": [
    "from benchtools.src.metrictools import performance_metrics\n",
    "\n",
    "y_label = pd.DataFrame(np.array(h5py.File('..\\data\\prueba.h5', 'r')['label']), columns=['label'])\n",
    "y_pred = pd.DataFrame(np.array(h5py.File('..\\data\\prueba.h5', 'r')['pid']), columns=['pred'])\n",
    "\n",
    "performance_metrics('Ucluster', label=y_label, pred_label=y_pred)"
   ]
  },
  {
   "cell_type": "code",
   "execution_count": 10,
   "id": "419b2c8d",
   "metadata": {},
   "outputs": [
    {
     "data": {
      "image/png": "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\n",
      "text/plain": [
       "<Figure size 576x432 with 1 Axes>"
      ]
     },
     "metadata": {
      "needs_background": "light"
     },
     "output_type": "display_data"
    },
    {
     "data": {
      "image/png": "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\n",
      "text/plain": [
       "<Figure size 576x432 with 1 Axes>"
      ]
     },
     "metadata": {
      "needs_background": "light"
     },
     "output_type": "display_data"
    },
    {
     "data": {
      "image/png": "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\n",
      "text/plain": [
       "<Figure size 576x432 with 1 Axes>"
      ]
     },
     "metadata": {
      "needs_background": "light"
     },
     "output_type": "display_data"
    }
   ],
   "source": [
    "from benchtools.src.metrictools import rejection_plot, precision_recall_plot, significance_plot\n",
    "\n",
    "y_score = pd.DataFrame(np.array(h5py.File('..\\data\\evaluation_dist.h5', 'r')['distances']), columns=['dist_0', 'dist_1'])\n",
    "y_label = pd.DataFrame(np.array(h5py.File('..\\data\\evaluation_dist.h5', 'r')['label']), columns=['label'])\n",
    "\n",
    "rejection_plot(names='UCluster', labels=y_label.loc[:,'label'], probs=y_score.loc[:,'dist_1'])\n",
    "plt.show()\n",
    "\n",
    "precision_recall_plot(names='UCluster', labels=y_label.loc[:,'label'], probs=y_score.loc[:,'dist_1'])\n",
    "plt.show()\n",
    "\n",
    "significance_plot(names='UCluster', labels=y_label.loc[:,'label'], probs=y_score.loc[:,'dist_1'])\n",
    "plt.show()"
   ]
  },
  {
   "cell_type": "code",
   "execution_count": 11,
   "id": "a7130849",
   "metadata": {},
   "outputs": [
    {
     "name": "stdout",
     "output_type": "stream",
     "text": [
      "root:NXroot\n",
      "  global = float64(3072x4)\n",
      "  label = int8(3072)\n",
      "  masses = float64(3072)\n",
      "  max_pool = float32(3072x2)\n",
      "  pid = int64(3072)\n"
     ]
    }
   ],
   "source": [
    "f = nx.nxload('..\\data\\pruebacpu.h5')\n",
    "print(f.tree)"
   ]
  },
  {
   "cell_type": "code",
   "execution_count": 12,
   "id": "5f34c3e7",
   "metadata": {},
   "outputs": [
    {
     "name": "stdout",
     "output_type": "stream",
     "text": [
      "==============================\n",
      "Ucluster\n",
      "****Results****\n",
      "              precision    recall  f1-score   support\n",
      "\n",
      "  background       0.99      1.00      0.99      3038\n",
      "      signal       0.00      0.00      0.00        34\n",
      "\n",
      "    accuracy                           0.99      3072\n",
      "   macro avg       0.49      0.50      0.50      3072\n",
      "weighted avg       0.98      0.99      0.98      3072\n",
      "\n"
     ]
    },
    {
     "name": "stderr",
     "output_type": "stream",
     "text": [
      "C:\\Users\\maria\\anaconda3\\lib\\site-packages\\sklearn\\metrics\\_classification.py:1248: UndefinedMetricWarning: Precision is ill-defined and being set to 0.0 due to no predicted samples. Use `zero_division` parameter to control this behavior.\n",
      "  _warn_prf(average, modifier, msg_start, len(result))\n",
      "C:\\Users\\maria\\anaconda3\\lib\\site-packages\\sklearn\\metrics\\_classification.py:1248: UndefinedMetricWarning: Precision and F-score are ill-defined and being set to 0.0 in labels with no predicted samples. Use `zero_division` parameter to control this behavior.\n",
      "  _warn_prf(average, modifier, msg_start, len(result))\n",
      "C:\\Users\\maria\\anaconda3\\lib\\site-packages\\sklearn\\metrics\\_classification.py:1248: UndefinedMetricWarning: Precision and F-score are ill-defined and being set to 0.0 in labels with no predicted samples. Use `zero_division` parameter to control this behavior.\n",
      "  _warn_prf(average, modifier, msg_start, len(result))\n",
      "C:\\Users\\maria\\anaconda3\\lib\\site-packages\\sklearn\\metrics\\_classification.py:1248: UndefinedMetricWarning: Precision and F-score are ill-defined and being set to 0.0 in labels with no predicted samples. Use `zero_division` parameter to control this behavior.\n",
      "  _warn_prf(average, modifier, msg_start, len(result))\n"
     ]
    },
    {
     "data": {
      "text/html": [
       "<div>\n",
       "<style scoped>\n",
       "    .dataframe tbody tr th:only-of-type {\n",
       "        vertical-align: middle;\n",
       "    }\n",
       "\n",
       "    .dataframe tbody tr th {\n",
       "        vertical-align: top;\n",
       "    }\n",
       "\n",
       "    .dataframe thead th {\n",
       "        text-align: right;\n",
       "    }\n",
       "</style>\n",
       "<table border=\"1\" class=\"dataframe\">\n",
       "  <thead>\n",
       "    <tr style=\"text-align: right;\">\n",
       "      <th></th>\n",
       "      <th>Classifier</th>\n",
       "      <th>Recall</th>\n",
       "      <th>Precision</th>\n",
       "      <th>F1 score</th>\n",
       "    </tr>\n",
       "  </thead>\n",
       "  <tbody>\n",
       "    <tr>\n",
       "      <th>0</th>\n",
       "      <td>Ucluster</td>\n",
       "      <td>0.0</td>\n",
       "      <td>0.0</td>\n",
       "      <td>0.0</td>\n",
       "    </tr>\n",
       "  </tbody>\n",
       "</table>\n",
       "</div>"
      ],
      "text/plain": [
       "  Classifier  Recall  Precision  F1 score\n",
       "0   Ucluster     0.0        0.0       0.0"
      ]
     },
     "execution_count": 12,
     "metadata": {},
     "output_type": "execute_result"
    }
   ],
   "source": [
    "y_label = pd.DataFrame(np.array(h5py.File('..\\data\\pruebacpu.h5', 'r')['label']), columns=['label'])\n",
    "y_pred = pd.DataFrame(np.array(h5py.File('..\\data\\pruebacpu.h5', 'r')['pid']), columns=['pred'])\n",
    "\n",
    "performance_metrics('Ucluster', label=y_label, pred_label=y_pred)"
   ]
  },
  {
   "cell_type": "code",
   "execution_count": null,
   "id": "03e59e29",
   "metadata": {},
   "outputs": [],
   "source": []
<<<<<<< Updated upstream
<<<<<<< Updated upstream
>>>>>>> Stashed changes
=======
>>>>>>> Stashed changes
=======
>>>>>>> Stashed changes
  }
 ],
 "metadata": {
  "kernelspec": {
   "display_name": "Python 3",
   "language": "python",
   "name": "python3"
  },
  "language_info": {
   "codemirror_mode": {
    "name": "ipython",
    "version": 3
   },
   "file_extension": ".py",
   "mimetype": "text/x-python",
   "name": "python",
   "nbconvert_exporter": "python",
   "pygments_lexer": "ipython3",
   "version": "3.8.11"
  }
 },
 "nbformat": 4,
 "nbformat_minor": 5
}
