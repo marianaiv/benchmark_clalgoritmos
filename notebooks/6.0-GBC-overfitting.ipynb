{
 "cells": [
  {
   "cell_type": "markdown",
   "id": "03428318",
   "metadata": {},
   "source": [
    "# Overfitting Review for Gradient Boosting Classifier\n",
    "In this notebook I am going to check if the Gradient Boosting rating is overfitted.\n",
    "    \n",
    "> A model thats fits the training set well but testing set poorly is said to be overfit to the training set and a model that fits both sets poorly is said to be underfit.\n",
    ">\n",
    "> — <cite>[This article](https://towardsdatascience.com/the-relationship-between-bias-variance-overfitting-generalisation-in-machine-learning-models-fb78614a3f1e)</cite>\n",
    "\n",
    "The code used is from [here](https://towardsdatascience.com/how-to-check-if-a-classification-model-is-overfitted-using-scikit-learn-148b6b19af8b)"
   ]
  },
  {
   "cell_type": "markdown",
   "id": "0ceb9c33",
   "metadata": {},
   "source": [
    "## Loading the data"
   ]
  },
  {
   "cell_type": "code",
   "execution_count": 1,
   "id": "5ba0cc0c",
   "metadata": {},
   "outputs": [],
   "source": [
    "# Importing the libraries\n",
    "import pandas as pd\n",
    "import numpy as np\n",
    "import matplotlib.pyplot as plt\n",
    "from sklearn.model_selection import train_test_split"
   ]
  },
  {
   "cell_type": "code",
   "execution_count": 2,
   "id": "2551a163",
   "metadata": {},
   "outputs": [
    {
     "data": {
      "text/plain": [
       "(512000, 18)"
      ]
     },
     "execution_count": 2,
     "metadata": {},
     "output_type": "execute_result"
    }
   ],
   "source": [
    "# Loading the data\n",
    "from benchtools.src.datatools import read_multifiles\n",
    "\n",
    "df = read_multifiles(filename='RD_dataset', nbatch=10)\n",
    "df.shape"
   ]
  },
  {
   "cell_type": "markdown",
   "id": "14d7c61e",
   "metadata": {},
   "source": [
    "Checking the data"
   ]
  },
  {
   "cell_type": "code",
   "execution_count": 3,
   "id": "6dca3530",
   "metadata": {},
   "outputs": [
    {
     "data": {
      "text/html": [
       "<div>\n",
       "<style scoped>\n",
       "    .dataframe tbody tr th:only-of-type {\n",
       "        vertical-align: middle;\n",
       "    }\n",
       "\n",
       "    .dataframe tbody tr th {\n",
       "        vertical-align: top;\n",
       "    }\n",
       "\n",
       "    .dataframe thead th {\n",
       "        text-align: right;\n",
       "    }\n",
       "</style>\n",
       "<table border=\"1\" class=\"dataframe\">\n",
       "  <thead>\n",
       "    <tr style=\"text-align: right;\">\n",
       "      <th></th>\n",
       "      <th>pT_j1</th>\n",
       "      <th>m_j1</th>\n",
       "      <th>eta_j1</th>\n",
       "      <th>phi_j1</th>\n",
       "      <th>E_j1</th>\n",
       "      <th>tau_21_j1</th>\n",
       "      <th>nhadrons_j1</th>\n",
       "      <th>pT_j2</th>\n",
       "      <th>m_j2</th>\n",
       "      <th>eta_j2</th>\n",
       "      <th>phi_j2</th>\n",
       "      <th>E_j2</th>\n",
       "      <th>tau_21_j2</th>\n",
       "      <th>nhadrons_j2</th>\n",
       "      <th>m_jj</th>\n",
       "      <th>deltaR_j12</th>\n",
       "      <th>n_hadrons</th>\n",
       "      <th>label</th>\n",
       "    </tr>\n",
       "  </thead>\n",
       "  <tbody>\n",
       "    <tr>\n",
       "      <th>0</th>\n",
       "      <td>1286.727685</td>\n",
       "      <td>106.912129</td>\n",
       "      <td>0.185508</td>\n",
       "      <td>-2.763676</td>\n",
       "      <td>1313.290435</td>\n",
       "      <td>0.624659</td>\n",
       "      <td>36</td>\n",
       "      <td>1283.220733</td>\n",
       "      <td>63.164215</td>\n",
       "      <td>0.064989</td>\n",
       "      <td>0.393688</td>\n",
       "      <td>1287.481934</td>\n",
       "      <td>0.713248</td>\n",
       "      <td>33</td>\n",
       "      <td>2580.489568</td>\n",
       "      <td>3.159663</td>\n",
       "      <td>109.0</td>\n",
       "      <td>0.0</td>\n",
       "    </tr>\n",
       "    <tr>\n",
       "      <th>1</th>\n",
       "      <td>1354.394070</td>\n",
       "      <td>614.269108</td>\n",
       "      <td>0.826505</td>\n",
       "      <td>1.365524</td>\n",
       "      <td>1943.559886</td>\n",
       "      <td>0.311688</td>\n",
       "      <td>84</td>\n",
       "      <td>1325.613761</td>\n",
       "      <td>439.064150</td>\n",
       "      <td>-0.874319</td>\n",
       "      <td>-1.786248</td>\n",
       "      <td>1916.370744</td>\n",
       "      <td>0.276881</td>\n",
       "      <td>97</td>\n",
       "      <td>3859.315047</td>\n",
       "      <td>3.581406</td>\n",
       "      <td>208.0</td>\n",
       "      <td>0.0</td>\n",
       "    </tr>\n",
       "    <tr>\n",
       "      <th>2</th>\n",
       "      <td>1214.955723</td>\n",
       "      <td>645.865619</td>\n",
       "      <td>-0.196786</td>\n",
       "      <td>2.040545</td>\n",
       "      <td>1396.840654</td>\n",
       "      <td>0.238205</td>\n",
       "      <td>119</td>\n",
       "      <td>1072.462085</td>\n",
       "      <td>113.768840</td>\n",
       "      <td>0.143831</td>\n",
       "      <td>-1.090330</td>\n",
       "      <td>1089.530630</td>\n",
       "      <td>0.726963</td>\n",
       "      <td>59</td>\n",
       "      <td>2480.769725</td>\n",
       "      <td>3.149348</td>\n",
       "      <td>196.0</td>\n",
       "      <td>0.0</td>\n",
       "    </tr>\n",
       "    <tr>\n",
       "      <th>3</th>\n",
       "      <td>1285.227873</td>\n",
       "      <td>516.835248</td>\n",
       "      <td>0.328693</td>\n",
       "      <td>2.975321</td>\n",
       "      <td>1450.485926</td>\n",
       "      <td>0.013429</td>\n",
       "      <td>65</td>\n",
       "      <td>1220.251279</td>\n",
       "      <td>174.796077</td>\n",
       "      <td>0.294854</td>\n",
       "      <td>-0.322661</td>\n",
       "      <td>1285.618789</td>\n",
       "      <td>0.706361</td>\n",
       "      <td>89</td>\n",
       "      <td>2609.893413</td>\n",
       "      <td>3.298155</td>\n",
       "      <td>183.0</td>\n",
       "      <td>0.0</td>\n",
       "    </tr>\n",
       "    <tr>\n",
       "      <th>4</th>\n",
       "      <td>1210.415787</td>\n",
       "      <td>129.499352</td>\n",
       "      <td>-0.744836</td>\n",
       "      <td>-2.883347</td>\n",
       "      <td>1567.345300</td>\n",
       "      <td>0.423550</td>\n",
       "      <td>54</td>\n",
       "      <td>1091.785816</td>\n",
       "      <td>155.362262</td>\n",
       "      <td>1.060534</td>\n",
       "      <td>0.264977</td>\n",
       "      <td>1772.340209</td>\n",
       "      <td>0.787662</td>\n",
       "      <td>57</td>\n",
       "      <td>3313.488835</td>\n",
       "      <td>3.629229</td>\n",
       "      <td>169.0</td>\n",
       "      <td>1.0</td>\n",
       "    </tr>\n",
       "  </tbody>\n",
       "</table>\n",
       "</div>"
      ],
      "text/plain": [
       "         pT_j1        m_j1    eta_j1    phi_j1         E_j1  tau_21_j1  \\\n",
       "0  1286.727685  106.912129  0.185508 -2.763676  1313.290435   0.624659   \n",
       "1  1354.394070  614.269108  0.826505  1.365524  1943.559886   0.311688   \n",
       "2  1214.955723  645.865619 -0.196786  2.040545  1396.840654   0.238205   \n",
       "3  1285.227873  516.835248  0.328693  2.975321  1450.485926   0.013429   \n",
       "4  1210.415787  129.499352 -0.744836 -2.883347  1567.345300   0.423550   \n",
       "\n",
       "   nhadrons_j1        pT_j2        m_j2    eta_j2    phi_j2         E_j2  \\\n",
       "0           36  1283.220733   63.164215  0.064989  0.393688  1287.481934   \n",
       "1           84  1325.613761  439.064150 -0.874319 -1.786248  1916.370744   \n",
       "2          119  1072.462085  113.768840  0.143831 -1.090330  1089.530630   \n",
       "3           65  1220.251279  174.796077  0.294854 -0.322661  1285.618789   \n",
       "4           54  1091.785816  155.362262  1.060534  0.264977  1772.340209   \n",
       "\n",
       "   tau_21_j2  nhadrons_j2         m_jj  deltaR_j12  n_hadrons  label  \n",
       "0   0.713248           33  2580.489568    3.159663      109.0    0.0  \n",
       "1   0.276881           97  3859.315047    3.581406      208.0    0.0  \n",
       "2   0.726963           59  2480.769725    3.149348      196.0    0.0  \n",
       "3   0.706361           89  2609.893413    3.298155      183.0    0.0  \n",
       "4   0.787662           57  3313.488835    3.629229      169.0    1.0  "
      ]
     },
     "execution_count": 3,
     "metadata": {},
     "output_type": "execute_result"
    }
   ],
   "source": [
    "df.head()"
   ]
  },
  {
   "cell_type": "markdown",
   "id": "0bf3a7d7",
   "metadata": {},
   "source": [
    "**Separating the dataframe** into a dataframe with the characteristics and another with the labels: "
   ]
  },
  {
   "cell_type": "code",
   "execution_count": 4,
   "id": "b7aa2db1",
   "metadata": {},
   "outputs": [],
   "source": [
    "from benchtools.src.datatools import separate_data\n",
    "X, y = separate_data(df, standardize=False)"
   ]
  },
  {
   "cell_type": "markdown",
   "id": "020d2c08",
   "metadata": {},
   "source": [
    "## Building and testing the model"
   ]
  },
  {
   "cell_type": "code",
   "execution_count": 5,
   "id": "2a3fe878",
   "metadata": {},
   "outputs": [],
   "source": [
    "from sklearn.model_selection import KFold\n",
    "from sklearn.neighbors import KNeighborsClassifier\n",
    "from sklearn.ensemble import GradientBoostingClassifier\n",
    "from sklearn.metrics import mean_absolute_error\n",
    "import matplotlib.pyplot as plt\n",
    "\n",
    "kf = KFold(n_splits=4)\n",
    "mae_train = []\n",
    "mae_test = []\n",
    "\n",
    "for train_index, test_index in kf.split(X):\n",
    "    X_train, X_test = X.iloc[list(train_index)], X.iloc[list(test_index)]\n",
    "    y_train, y_test = y.iloc[list(train_index)], y.iloc[list(test_index)]\n",
    "    model = GradientBoostingClassifier()\n",
    "    model.fit(X_train, y_train)\n",
    "    y_train_pred = model.predict(X_train)\n",
    "    y_test_pred = model.predict(X_test)\n",
    "    mae_train.append(mean_absolute_error(y_train, y_train_pred))\n",
    "    mae_test.append(mean_absolute_error(y_test, y_test_pred))"
   ]
  },
  {
   "cell_type": "code",
   "execution_count": 6,
   "id": "ab90aa1c",
   "metadata": {},
   "outputs": [
    {
     "data": {
      "image/png": "[encoded data removed]",
      "text/plain": [
       "<Figure size 432x288 with 1 Axes>"
      ]
     },
     "metadata": {
      "needs_background": "light"
     },
     "output_type": "display_data"
    }
   ],
   "source": [
    "folds = range(1, kf.get_n_splits() + 1)\n",
    "plt.plot(folds, mae_train, 'o-', color='green', label='train')\n",
    "plt.plot(folds, mae_test, 'o-', color='red', label='test')\n",
    "plt.legend()\n",
    "plt.grid()\n",
    "plt.xlabel('Number of fold')\n",
    "plt.ylabel('Mean Absolute Error')\n",
    "plt.show()"
   ]
  },
  {
   "cell_type": "markdown",
   "id": "bbb3fbca",
   "metadata": {},
   "source": [
    "The MAE for the training set is around 0.0266 and 0.0270 for the k folds. The MAE of the test set ranges from 0.0268 to 0.0276. Both values seem small, so there appears to not be overfitting. However, we can try various methods to avoid overfitting and see the result. Some methods are:\n",
    "- Reduce complexity\n",
    "- Adjust parameters\n",
    "- Change the model\n",
    "\n",
    "Let's group the above code into a function: "
   ]
  },
  {
   "cell_type": "code",
   "execution_count": 11,
   "id": "ad81eaed",
   "metadata": {},
   "outputs": [],
   "source": [
    "def test_model(model, X, y):\n",
    "    \n",
    "    # Entrenamos iterativamente y calcumamos MAE\n",
    "    kf = KFold(n_splits=4)\n",
    "    mae_train = []\n",
    "    mae_test = []\n",
    "\n",
    "    for train_index, test_index in kf.split(X):\n",
    "        X_train, X_test = X.iloc[list(train_index)], X.iloc[list(test_index)]\n",
    "        y_train, y_test = y.iloc[list(train_index)], y.iloc[list(test_index)]\n",
    "        model.fit(X_train, y_train)\n",
    "        y_train_pred = model.predict(X_train)\n",
    "        y_test_pred = model.predict(X_test)\n",
    "        mae_train.append(mean_absolute_error(y_train, y_train_pred))\n",
    "        mae_test.append(mean_absolute_error(y_test, y_test_pred))\n",
    "    \n",
    "    # Graficamos\n",
    "    folds = range(1, kf.get_n_splits() + 1)\n",
    "    plt.plot(folds, mae_train, 'o-', color='green', label='train')\n",
    "    plt.plot(folds, mae_test, 'o-', color='red', label='test')\n",
    "    plt.legend()\n",
    "    plt.grid()\n",
    "    plt.xlabel('Number of fold')\n",
    "    plt.ylabel('Mean Absolute Error')\n",
    "    plt.show()"
   ]
  },
  {
   "cell_type": "markdown",
   "id": "fa2ca4e8",
   "metadata": {},
   "source": [
    "## Reduce complexity\n",
    "We will try to improve the model by scaling the input variables to values between 0 and 1. For this we use <code> MinMaxScaler </code> "
   ]
  },
  {
   "cell_type": "code",
   "execution_count": 9,
   "id": "d662a5c4",
   "metadata": {
    "scrolled": true
   },
   "outputs": [
    {
     "data": {
      "text/html": [
       "<div>\n",
       "<style scoped>\n",
       "    .dataframe tbody tr th:only-of-type {\n",
       "        vertical-align: middle;\n",
       "    }\n",
       "\n",
       "    .dataframe tbody tr th {\n",
       "        vertical-align: top;\n",
       "    }\n",
       "\n",
       "    .dataframe thead th {\n",
       "        text-align: right;\n",
       "    }\n",
       "</style>\n",
       "<table border=\"1\" class=\"dataframe\">\n",
       "  <thead>\n",
       "    <tr style=\"text-align: right;\">\n",
       "      <th></th>\n",
       "      <th>pT_j1</th>\n",
       "      <th>m_j1</th>\n",
       "      <th>eta_j1</th>\n",
       "      <th>phi_j1</th>\n",
       "      <th>E_j1</th>\n",
       "      <th>tau_21_j1</th>\n",
       "      <th>nhadrons_j1</th>\n",
       "      <th>pT_j2</th>\n",
       "      <th>m_j2</th>\n",
       "      <th>eta_j2</th>\n",
       "      <th>phi_j2</th>\n",
       "      <th>E_j2</th>\n",
       "      <th>tau_21_j2</th>\n",
       "      <th>nhadrons_j2</th>\n",
       "      <th>m_jj</th>\n",
       "      <th>deltaR_j12</th>\n",
       "      <th>n_hadrons</th>\n",
       "    </tr>\n",
       "  </thead>\n",
       "  <tbody>\n",
       "    <tr>\n",
       "      <th>0</th>\n",
       "      <td>0.030817</td>\n",
       "      <td>0.060442</td>\n",
       "      <td>0.536650</td>\n",
       "      <td>0.060146</td>\n",
       "      <td>0.023201</td>\n",
       "      <td>0.475308</td>\n",
       "      <td>0.137795</td>\n",
       "      <td>0.258928</td>\n",
       "      <td>0.038205</td>\n",
       "      <td>0.513989</td>\n",
       "      <td>0.562658</td>\n",
       "      <td>0.158542</td>\n",
       "      <td>0.542914</td>\n",
       "      <td>0.129032</td>\n",
       "      <td>0.180303</td>\n",
       "      <td>0.459224</td>\n",
       "      <td>0.136752</td>\n",
       "    </tr>\n",
       "    <tr>\n",
       "      <th>1</th>\n",
       "      <td>0.054860</td>\n",
       "      <td>0.347274</td>\n",
       "      <td>0.677163</td>\n",
       "      <td>0.717330</td>\n",
       "      <td>0.153416</td>\n",
       "      <td>0.237166</td>\n",
       "      <td>0.326772</td>\n",
       "      <td>0.271299</td>\n",
       "      <td>0.265572</td>\n",
       "      <td>0.320331</td>\n",
       "      <td>0.215710</td>\n",
       "      <td>0.273607</td>\n",
       "      <td>0.210758</td>\n",
       "      <td>0.387097</td>\n",
       "      <td>0.339517</td>\n",
       "      <td>0.568772</td>\n",
       "      <td>0.305983</td>\n",
       "    </tr>\n",
       "    <tr>\n",
       "      <th>2</th>\n",
       "      <td>0.005314</td>\n",
       "      <td>0.365137</td>\n",
       "      <td>0.452848</td>\n",
       "      <td>0.824763</td>\n",
       "      <td>0.040463</td>\n",
       "      <td>0.181252</td>\n",
       "      <td>0.464567</td>\n",
       "      <td>0.197425</td>\n",
       "      <td>0.068814</td>\n",
       "      <td>0.530244</td>\n",
       "      <td>0.326469</td>\n",
       "      <td>0.122324</td>\n",
       "      <td>0.553353</td>\n",
       "      <td>0.233871</td>\n",
       "      <td>0.167888</td>\n",
       "      <td>0.456545</td>\n",
       "      <td>0.285470</td>\n",
       "    </tr>\n",
       "    <tr>\n",
       "      <th>3</th>\n",
       "      <td>0.030284</td>\n",
       "      <td>0.292191</td>\n",
       "      <td>0.568038</td>\n",
       "      <td>0.973537</td>\n",
       "      <td>0.051546</td>\n",
       "      <td>0.010218</td>\n",
       "      <td>0.251969</td>\n",
       "      <td>0.240553</td>\n",
       "      <td>0.105727</td>\n",
       "      <td>0.561380</td>\n",
       "      <td>0.448647</td>\n",
       "      <td>0.158201</td>\n",
       "      <td>0.537672</td>\n",
       "      <td>0.354839</td>\n",
       "      <td>0.183964</td>\n",
       "      <td>0.495198</td>\n",
       "      <td>0.263248</td>\n",
       "    </tr>\n",
       "    <tr>\n",
       "      <th>4</th>\n",
       "      <td>0.003701</td>\n",
       "      <td>0.073212</td>\n",
       "      <td>0.332710</td>\n",
       "      <td>0.041100</td>\n",
       "      <td>0.075689</td>\n",
       "      <td>0.322283</td>\n",
       "      <td>0.208661</td>\n",
       "      <td>0.203064</td>\n",
       "      <td>0.093972</td>\n",
       "      <td>0.719241</td>\n",
       "      <td>0.542173</td>\n",
       "      <td>0.247254</td>\n",
       "      <td>0.599557</td>\n",
       "      <td>0.225806</td>\n",
       "      <td>0.271561</td>\n",
       "      <td>0.581194</td>\n",
       "      <td>0.239316</td>\n",
       "    </tr>\n",
       "  </tbody>\n",
       "</table>\n",
       "</div>"
      ],
      "text/plain": [
       "      pT_j1      m_j1    eta_j1    phi_j1      E_j1  tau_21_j1  nhadrons_j1  \\\n",
       "0  0.030817  0.060442  0.536650  0.060146  0.023201   0.475308     0.137795   \n",
       "1  0.054860  0.347274  0.677163  0.717330  0.153416   0.237166     0.326772   \n",
       "2  0.005314  0.365137  0.452848  0.824763  0.040463   0.181252     0.464567   \n",
       "3  0.030284  0.292191  0.568038  0.973537  0.051546   0.010218     0.251969   \n",
       "4  0.003701  0.073212  0.332710  0.041100  0.075689   0.322283     0.208661   \n",
       "\n",
       "      pT_j2      m_j2    eta_j2    phi_j2      E_j2  tau_21_j2  nhadrons_j2  \\\n",
       "0  0.258928  0.038205  0.513989  0.562658  0.158542   0.542914     0.129032   \n",
       "1  0.271299  0.265572  0.320331  0.215710  0.273607   0.210758     0.387097   \n",
       "2  0.197425  0.068814  0.530244  0.326469  0.122324   0.553353     0.233871   \n",
       "3  0.240553  0.105727  0.561380  0.448647  0.158201   0.537672     0.354839   \n",
       "4  0.203064  0.093972  0.719241  0.542173  0.247254   0.599557     0.225806   \n",
       "\n",
       "       m_jj  deltaR_j12  n_hadrons  \n",
       "0  0.180303    0.459224   0.136752  \n",
       "1  0.339517    0.568772   0.305983  \n",
       "2  0.167888    0.456545   0.285470  \n",
       "3  0.183964    0.495198   0.263248  \n",
       "4  0.271561    0.581194   0.239316  "
      ]
     },
     "execution_count": 9,
     "metadata": {},
     "output_type": "execute_result"
    }
   ],
   "source": [
    "X, y = separate_data(df, standardize=True)\n",
    "X.head()"
   ]
  },
  {
   "cell_type": "code",
   "execution_count": 12,
   "id": "6714274a",
   "metadata": {},
   "outputs": [
    {
     "data": {
      "image/png": "[encoded data removed]",
      "text/plain": [
       "<Figure size 432x288 with 1 Axes>"
      ]
     },
     "metadata": {
      "needs_background": "light"
     },
     "output_type": "display_data"
    }
   ],
   "source": [
    "model = GradientBoostingClassifier()\n",
    "test_model(model, X, y)"
   ]
  },
  {
   "cell_type": "markdown",
   "id": "fa95e407",
   "metadata": {},
   "source": [
    "The obtained indicates that scaling the variables does not decrease or increase the error.\n",
    "\n",
    "To reduce the complexity we can also reduce the number of features. We can do this with Principal Component Analysis (PCA). We can reduce the number of features from 17 to 5: "
   ]
  },
  {
   "cell_type": "code",
   "execution_count": 13,
   "id": "90a77088",
   "metadata": {},
   "outputs": [
    {
     "data": {
      "image/png": "[encoded data removed]",
      "text/plain": [
       "<Figure size 432x288 with 1 Axes>"
      ]
     },
     "metadata": {
      "needs_background": "light"
     },
     "output_type": "display_data"
    }
   ],
   "source": [
    "from sklearn.decomposition import PCA\n",
    "\n",
    "pca = PCA(n_components=5)\n",
    "pca.fit(X)\n",
    "X_pca = pca.transform(X)\n",
    "X_pca = pd.DataFrame(X_pca)\n",
    "test_model(model, X_pca, y)"
   ]
  },
  {
   "cell_type": "markdown",
   "id": "4ec86e6f",
   "metadata": {},
   "source": [
    "Decreasing the number of features increases both the error in the test set and the training set. "
   ]
  },
  {
   "cell_type": "markdown",
   "id": "5617b101",
   "metadata": {},
   "source": [
    "## Tune parameters"
   ]
  },
  {
   "cell_type": "code",
   "execution_count": null,
   "id": "7734cfab",
   "metadata": {},
   "outputs": [],
   "source": [
    "from sklearn.model_selection import GridSearchCV\n",
    "model = GradientBoostingClassifier()\n",
    "param_grid = {\n",
    "    'loss' : ['deviance', 'exponential'],\n",
    "    'learning_rate': np.arange(0.1,1),\n",
    "    'criterion' : ['friedman_mse', 'mse', 'mae'],\n",
    "    'max_features' : ['auto', 'sqrt', 'log2', int, float]\n",
    "}\n",
    "grid = GridSearchCV(model, param_grid = param_grid, cv=4)\n",
    "grid.fit(X, y)\n",
    "best_estimator = grid.best_estimator_"
   ]
  },
  {
   "cell_type": "code",
   "execution_count": null,
   "id": "f00e897b",
   "metadata": {},
   "outputs": [],
   "source": [
    "test_model(best_estimator, X,y)"
   ]
  },
  {
   "cell_type": "markdown",
   "id": "7d8554e1",
   "metadata": {},
   "source": [
    "## Change of model \n",
    "Let's see if changing the model reduces errors: "
   ]
  },
  {
   "cell_type": "code",
   "execution_count": 14,
   "id": "235cdf5d",
   "metadata": {},
   "outputs": [
    {
     "data": {
      "image/png": "[encoded data removed]",
      "text/plain": [
       "<Figure size 432x288 with 1 Axes>"
      ]
     },
     "metadata": {
      "needs_background": "light"
     },
     "output_type": "display_data"
    }
   ],
   "source": [
    "from sklearn.ensemble import RandomForestClassifier\n",
    "\n",
    "model = RandomForestClassifier()\n",
    "test_model(model, X, y)"
   ]
  }
 ],
 "metadata": {
  "kernelspec": {
   "display_name": "Python 3",
   "language": "python",
   "name": "python3"
  },
  "language_info": {
   "codemirror_mode": {
    "name": "ipython",
    "version": 3
   },
   "file_extension": ".py",
   "mimetype": "text/x-python",
   "name": "python",
   "nbconvert_exporter": "python",
   "pygments_lexer": "ipython3",
   "version": "3.8.11"
  }
 },
 "nbformat": 4,
 "nbformat_minor": 5
}
