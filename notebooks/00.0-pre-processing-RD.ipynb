{
 "cells": [
  {
   "cell_type": "markdown",
   "metadata": {},
   "source": [
    "# Pre-processing - RD\n",
    "Here I will pre-process the data for the R&D dataset of the LHC Olympics 2020. I will calculate some variables to use them on classification algorithms. Ultimately this will multiple functions in the benchtools package."
   ]
  },
  {
   "cell_type": "code",
   "execution_count": 2,
   "metadata": {},
   "outputs": [],
   "source": [
    "# Importing the main libraries\n",
    "import h5py                             # to handle .h5 files\n",
    "import pyjet as fj                      # jet clustering\n",
    "import numpy as np                      # for arrays\n",
    "import pandas as pd                     # manipulation of tables\n",
    "import os.path                          # to handle directories\n",
    "from os import path\n",
    "from tqdm import tqdm                   # progress bar"
   ]
  },
  {
   "cell_type": "code",
   "execution_count": null,
   "metadata": {},
   "outputs": [],
   "source": [
    "# We load the file with the data as a dataframe\n",
    "# The file can be downloaded at https://zenodo.org/record/4536624\n",
    "df = pd.read_hdf(\"../../events_anomalydetection.h5\")"
   ]
  },
  {
   "cell_type": "code",
   "execution_count": 3,
   "metadata": {},
   "outputs": [],
   "source": [
    "# Choose the number of events to analize\n",
    "n_eventos = 100000"
   ]
  },
  {
   "cell_type": "code",
   "execution_count": null,
   "metadata": {},
   "outputs": [],
   "source": [
    "# Random sample of the events\n",
    "dfsample = df.sample(n=n_events)\n",
    "\n",
    "# And save it on an .h5 file for reproducibility\n",
    "if path.exists(\"../data/events_anomalydetection_tiny_{}.h5\".format(n_eventos))!= True: \n",
    "    dfsample.to_hdf(\"../data/events_anomalydetection_tiny_{}.h5\".format(n_eventos), key='df', mode='w',complevel=5,complib='blosc')"
   ]
  },
  {
   "cell_type": "code",
   "execution_count": 4,
   "metadata": {},
   "outputs": [],
   "source": [
    "# We load it on a dataframe (if the file is already created there is no need to run the previous cell)\n",
    "eventos_tiny = pd.read_hdf(\"../data/events_anomalydetection_tiny_{}.h5\".format(n_eventos))"
   ]
  },
  {
   "cell_type": "code",
   "execution_count": 5,
   "metadata": {},
   "outputs": [
    {
     "data": {
      "text/plain": [
       "(100000, 2101)"
      ]
     },
     "execution_count": 5,
     "metadata": {},
     "output_type": "execute_result"
    }
   ],
   "source": [
    "# Verifying the shape (n_events x nro. hadrones*3(caracteristicas)+1(señal))\n",
    "eventos_tiny.shape"
   ]
  },
  {
   "cell_type": "markdown",
   "metadata": {},
   "source": [
    "### Functions to calculate the variables"
   ]
  },
  {
   "cell_type": "markdown",
   "metadata": {},
   "source": [
    "I will calculate the variables:\n",
    "#### Angular distance between two jets\n",
    "\n",
    "$$\n",
    "\\Delta R = \\sqrt{(\\phi_1-\\phi_2)^2+(\\eta_1-\\eta_2)^2}\n",
    "$$\n",
    "  \n",
    "#### N-Subjettiness\n",
    "\n",
    "The 0-, 1- and 2-subjettiness are defined as:\n",
    "\n",
    "$$\n",
    "\\begin{align}\n",
    "\\tau_0(\\beta) &= \\sum_{i\\in J} p_{T_i}\\Delta R^\\beta \\\\\n",
    "\\tau_1(\\beta) &= \\frac{1}{\\tau_0(\\beta)} \\sum_{i\\in J} p_{T_i}\\Delta R_{a_1,i}^\\beta \\\\\n",
    "\\tau_2(\\beta) &= \\frac{1}{\\tau_0(\\beta)}\\sum_{i\\in J} p_{T_i} \\text{min}(\\Delta R_{a1,i}^\\beta,\\Delta R_{a_2,i})\n",
    "\\end{align}\n",
    "$$\n",
    "    To generate a dimensionless variable:\n",
    "$$\n",
    "\\tau_{21}=\\frac{\\tau_2}{\\tau_1}\n",
    "$$"
   ]
  },
  {
   "cell_type": "code",
   "execution_count": 6,
   "metadata": {},
   "outputs": [],
   "source": [
    "def deltaR(x, y):\n",
    "    return ((x.phi-y.phi)**2 + (x.eta-y.eta)**2)**0.5\n",
    "\n",
    "def subjettiness(cndts, cnsts):\n",
    "    d0 = sum(c.pt for c in cnsts)\n",
    "    ls = []\n",
    "    for c in cnsts:\n",
    "        dRs = [deltaR(c,cd) for cd in cndts]\n",
    "        ls += [c.pt * min(dRs)]\n",
    "    return sum(ls)/d0\n",
    "\n",
    "def tau21(jet,subR=0.2):\n",
    "    '''Input: jet from the jet clustering result '''\n",
    "    jet_substruct_features = {}        \n",
    "    seq = fj.cluster(jet, R=subR, algo='kt')\n",
    "    cnsts = jet.constituents()\n",
    "    cndts1 = seq.exclusive_jets(1)\n",
    "    tau1 = subjettiness(cndts1, cnsts)\n",
    "    if (len(cnsts)>1):\n",
    "        cndts2 = seq.exclusive_jets(2)\n",
    "        tau2 = subjettiness(cndts2, cnsts)\n",
    "    else: \n",
    "        tau2 = 0\n",
    "    \n",
    "    try:\n",
    "        return tau2/tau1\n",
    "    \n",
    "    except ZeroDivisionError:\n",
    "        return 0"
   ]
  },
  {
   "cell_type": "markdown",
   "metadata": {},
   "source": [
    "### Clustering and table\n",
    "We will do the clustering of the data separately for the signal and for the background, so we will create a function that does the grouping and generates a table. The table will contain $p_T$, $m$, $\\eta$, $\\phi$, $E$, $\\tau_{21}$, $m_{jj}$ and $\\Delta R_{12}$ of the two main jets, as well as the * no. hadrons * of the event. "
   ]
  },
  {
   "cell_type": "code",
   "execution_count": 7,
   "metadata": {},
   "outputs": [],
   "source": [
    "def tabla(data):\n",
    "    n_events = data.shape[0]                   # no. of events (1000)\n",
    "    n_hadrones_gen = int((data.shape[1]-1)/3)  # no. of hadrons (700) \n",
    "                                               # [-1 to eliminate the label column, /3 for the 3 values for each hadron]\n",
    "    data_ss = data.iloc[:,:-1]                 # the dataframe without labels\n",
    "    \n",
    "    # Defining the variables\n",
    "    df = pd.DataFrame(columns=['pT_j1', 'm_j1', 'eta_j1', 'phi_j1', 'E_j1', 'tau_21_j1',  \n",
    "                                'pT_j2', 'm_j2', 'eta_j2', 'phi_j2', 'E_j2', 'tau_21_j2',\n",
    "                                'm_jj', 'deltaR_j12', 'label'])\n",
    "\n",
    "    for event in tqdm(range(n_events)):\n",
    "\n",
    "        pseudojets_input = np.zeros(len([data for data in data_ss.iloc[event,::3] if data > 0]), dtype= fj.DTYPE_PTEPM) \n",
    "\n",
    "        for hadron in range(n_hadrones_gen):\n",
    "            if (data_ss.iloc[event,hadron*3] > 0): ## si pT > 0 \n",
    "\n",
    "                ## Filling the array with pT, eta y phi for each hadron\n",
    "                pseudojets_input[hadron]['pT'] = data_ss.iloc[event,hadron*3] \n",
    "                pseudojets_input[hadron]['eta'] = data_ss.iloc[event,hadron*3+1]\n",
    "                pseudojets_input[hadron]['phi'] = data_ss.iloc[event,hadron*3+2]\n",
    "\n",
    "                pass\n",
    "            pass\n",
    "\n",
    "        ## Returns a \"ClusterSequence\" (pyjet type of list)\n",
    "        secuencia = fj.cluster(pseudojets_input, R=1.0, p=-1) \n",
    "\n",
    "        ## With inclusive_jets you get all the clustered jets\n",
    "        ## and filter the ones with pT greater than 20.\n",
    "        \n",
    "        ## Making a list of the pseudojets\n",
    "        jets = secuencia.inclusive_jets(ptmin=20) \n",
    "\n",
    "        # Getting the variables from the most energetic jet\n",
    "        pT_j1 = jets[0].pt\n",
    "        m_j1 = np.abs(jets[0].mass)\n",
    "        eta_j1 = jets[0].eta\n",
    "        phi_j1 = jets[0].phi\n",
    "        E_j1 = jets[0].e\n",
    "        tau_21_j1= tau21(jets[0])\n",
    "\n",
    "        # Try getting the variables for the second most energetic jet (if it exists)\n",
    "        try:\n",
    "            pT_j2 = jets[1].pt\n",
    "            m_j2 = np.abs(jets[1].mass)\n",
    "            eta_j2 = jets[1].eta\n",
    "            phi_j2 = jets[1].phi\n",
    "            E_j2 = jets[1].e\n",
    "            tau_21_j2= tau21(jets[1])\n",
    "    \n",
    "        # If not, all zero\n",
    "        except IndexError:\n",
    "            pT_j2 = 0\n",
    "            m_j2 = 0\n",
    "            eta_j2 = 0\n",
    "            phi_j2 = 0\n",
    "            E_j2 = 0\n",
    "            tau_21_j2 = 0\n",
    "        \n",
    "        # Calculating the other variables\n",
    "        deltaR_j12 = deltaR(jets[0], jets[1])\n",
    "        mjj = m_j1 + m_j2\n",
    "        n_hadrones = data.iloc[event,:].astype(bool).sum(axis=0)/3\n",
    "        label = data.iloc[event,-1]\n",
    "\n",
    "        # Adding it to the dataframe\n",
    "        entry = pd.DataFrame([[pT_j1, m_j1, eta_j1, phi_j1, E_j1, tau_21_j1,  \n",
    "                                pT_j2, m_j2, eta_j2, phi_j2, E_j2, tau_21_j2, \n",
    "                                mjj,deltaR_j12, n_hadrones, label]],\n",
    "                            columns=['pT_j1', 'm_j1', 'eta_j1', 'phi_j1', 'E_j1', 'tau_21_j1',  \n",
    "                                    'pT_j2', 'm_j2', 'eta_j2', 'phi_j2', 'E_j2', 'tau_21_j2',\n",
    "                                    'm_jj', 'deltaR_j12', 'n_hadrones', 'label'])\n",
    "        df = df.append(entry, sort=True)\n",
    "    return df"
   ]
  },
  {
   "cell_type": "markdown",
   "metadata": {},
   "source": [
    "Generating the data:"
   ]
  },
  {
   "cell_type": "code",
   "execution_count": 8,
   "metadata": {},
   "outputs": [
    {
     "name": "stderr",
     "output_type": "stream",
     "text": [
      "100%|██████████| 100000/100000 [55:44<00:00, 29.90it/s] \n"
     ]
    },
    {
     "data": {
      "text/html": [
       "<div>\n",
       "<style scoped>\n",
       "    .dataframe tbody tr th:only-of-type {\n",
       "        vertical-align: middle;\n",
       "    }\n",
       "\n",
       "    .dataframe tbody tr th {\n",
       "        vertical-align: top;\n",
       "    }\n",
       "\n",
       "    .dataframe thead th {\n",
       "        text-align: right;\n",
       "    }\n",
       "</style>\n",
       "<table border=\"1\" class=\"dataframe\">\n",
       "  <thead>\n",
       "    <tr style=\"text-align: right;\">\n",
       "      <th></th>\n",
       "      <th>E_j1</th>\n",
       "      <th>E_j2</th>\n",
       "      <th>deltaR_j12</th>\n",
       "      <th>eta_j1</th>\n",
       "      <th>eta_j2</th>\n",
       "      <th>label</th>\n",
       "      <th>m_j1</th>\n",
       "      <th>m_j2</th>\n",
       "      <th>m_jj</th>\n",
       "      <th>n_hadrones</th>\n",
       "      <th>pT_j1</th>\n",
       "      <th>pT_j2</th>\n",
       "      <th>phi_j1</th>\n",
       "      <th>phi_j2</th>\n",
       "      <th>tau_21_j1</th>\n",
       "      <th>tau_21_j2</th>\n",
       "    </tr>\n",
       "  </thead>\n",
       "  <tbody>\n",
       "    <tr>\n",
       "      <th>0</th>\n",
       "      <td>1541.103551</td>\n",
       "      <td>1314.832020</td>\n",
       "      <td>3.046675</td>\n",
       "      <td>-0.676879</td>\n",
       "      <td>-0.479236</td>\n",
       "      <td>0.0</td>\n",
       "      <td>140.326113</td>\n",
       "      <td>53.455092</td>\n",
       "      <td>193.781205</td>\n",
       "      <td>212.0</td>\n",
       "      <td>1239.698604</td>\n",
       "      <td>1176.086061</td>\n",
       "      <td>-0.949919</td>\n",
       "      <td>2.090338</td>\n",
       "      <td>0.672299</td>\n",
       "      <td>0.556964</td>\n",
       "    </tr>\n",
       "    <tr>\n",
       "      <th>0</th>\n",
       "      <td>1735.554053</td>\n",
       "      <td>1456.732975</td>\n",
       "      <td>3.175913</td>\n",
       "      <td>0.487036</td>\n",
       "      <td>0.215936</td>\n",
       "      <td>0.0</td>\n",
       "      <td>140.960881</td>\n",
       "      <td>91.964940</td>\n",
       "      <td>232.925821</td>\n",
       "      <td>160.0</td>\n",
       "      <td>1543.152632</td>\n",
       "      <td>1420.578669</td>\n",
       "      <td>0.580209</td>\n",
       "      <td>-2.584112</td>\n",
       "      <td>0.429885</td>\n",
       "      <td>0.709729</td>\n",
       "    </tr>\n",
       "    <tr>\n",
       "      <th>0</th>\n",
       "      <td>1747.277774</td>\n",
       "      <td>2131.876916</td>\n",
       "      <td>3.196916</td>\n",
       "      <td>-0.561281</td>\n",
       "      <td>-0.915332</td>\n",
       "      <td>0.0</td>\n",
       "      <td>130.198271</td>\n",
       "      <td>595.900967</td>\n",
       "      <td>726.099237</td>\n",
       "      <td>245.0</td>\n",
       "      <td>1499.892043</td>\n",
       "      <td>1412.636020</td>\n",
       "      <td>-2.168662</td>\n",
       "      <td>1.008589</td>\n",
       "      <td>0.682710</td>\n",
       "      <td>0.489799</td>\n",
       "    </tr>\n",
       "    <tr>\n",
       "      <th>0</th>\n",
       "      <td>1955.619525</td>\n",
       "      <td>2206.429386</td>\n",
       "      <td>3.483775</td>\n",
       "      <td>0.608165</td>\n",
       "      <td>-0.867853</td>\n",
       "      <td>0.0</td>\n",
       "      <td>388.869494</td>\n",
       "      <td>37.471626</td>\n",
       "      <td>426.341119</td>\n",
       "      <td>116.0</td>\n",
       "      <td>1609.609763</td>\n",
       "      <td>1574.869196</td>\n",
       "      <td>-0.565932</td>\n",
       "      <td>2.589707</td>\n",
       "      <td>0.740089</td>\n",
       "      <td>0.559426</td>\n",
       "    </tr>\n",
       "    <tr>\n",
       "      <th>0</th>\n",
       "      <td>1810.986292</td>\n",
       "      <td>2424.718009</td>\n",
       "      <td>3.642805</td>\n",
       "      <td>-0.664116</td>\n",
       "      <td>1.154562</td>\n",
       "      <td>0.0</td>\n",
       "      <td>242.616470</td>\n",
       "      <td>201.110818</td>\n",
       "      <td>443.727289</td>\n",
       "      <td>146.0</td>\n",
       "      <td>1460.557601</td>\n",
       "      <td>1385.597608</td>\n",
       "      <td>-1.685001</td>\n",
       "      <td>1.471332</td>\n",
       "      <td>0.437715</td>\n",
       "      <td>0.566019</td>\n",
       "    </tr>\n",
       "  </tbody>\n",
       "</table>\n",
       "</div>"
      ],
      "text/plain": [
       "          E_j1         E_j2  deltaR_j12    eta_j1    eta_j2  label  \\\n",
       "0  1541.103551  1314.832020    3.046675 -0.676879 -0.479236    0.0   \n",
       "0  1735.554053  1456.732975    3.175913  0.487036  0.215936    0.0   \n",
       "0  1747.277774  2131.876916    3.196916 -0.561281 -0.915332    0.0   \n",
       "0  1955.619525  2206.429386    3.483775  0.608165 -0.867853    0.0   \n",
       "0  1810.986292  2424.718009    3.642805 -0.664116  1.154562    0.0   \n",
       "\n",
       "         m_j1        m_j2        m_jj  n_hadrones        pT_j1        pT_j2  \\\n",
       "0  140.326113   53.455092  193.781205       212.0  1239.698604  1176.086061   \n",
       "0  140.960881   91.964940  232.925821       160.0  1543.152632  1420.578669   \n",
       "0  130.198271  595.900967  726.099237       245.0  1499.892043  1412.636020   \n",
       "0  388.869494   37.471626  426.341119       116.0  1609.609763  1574.869196   \n",
       "0  242.616470  201.110818  443.727289       146.0  1460.557601  1385.597608   \n",
       "\n",
       "     phi_j1    phi_j2  tau_21_j1  tau_21_j2  \n",
       "0 -0.949919  2.090338   0.672299   0.556964  \n",
       "0  0.580209 -2.584112   0.429885   0.709729  \n",
       "0 -2.168662  1.008589   0.682710   0.489799  \n",
       "0 -0.565932  2.589707   0.740089   0.559426  \n",
       "0 -1.685001  1.471332   0.437715   0.566019  "
      ]
     },
     "execution_count": 8,
     "metadata": {},
     "output_type": "execute_result"
    }
   ],
   "source": [
    "df = tabla(eventos_tiny)\n",
    "df.head()"
   ]
  },
  {
   "cell_type": "markdown",
   "metadata": {},
   "source": [
    "Saving the dataframe as a csv:"
   ]
  },
  {
   "cell_type": "code",
   "execution_count": 9,
   "metadata": {},
   "outputs": [],
   "source": [
    "outname = 'eventosRD_{}.csv'.format(n_eventos)\n",
    "outdir = '../data'\n",
    "# If the path does not exist, then create it\n",
    "if not os.path.exists(outdir):\n",
    "    os.makedirs(outdir)\n",
    "\n",
    "path = os.path.join(outdir, outname)    \n",
    "df.to_csv(path, sep=',', index=False)"
   ]
  }
 ],
 "metadata": {
  "kernelspec": {
   "display_name": "Python 3",
   "language": "python",
   "name": "python3"
  },
  "language_info": {
   "codemirror_mode": {
    "name": "ipython",
    "version": 3
   },
   "file_extension": ".py",
   "mimetype": "text/x-python",
   "name": "python",
   "nbconvert_exporter": "python",
   "pygments_lexer": "ipython3",
   "version": "3.8.11"
  }
 },
 "nbformat": 4,
 "nbformat_minor": 2
}
